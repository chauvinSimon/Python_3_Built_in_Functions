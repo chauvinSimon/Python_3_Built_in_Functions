{
 "cells": [
  {
   "cell_type": "markdown",
   "metadata": {},
   "source": [
    "Python Built in Functions\n",
    "Inspired by\n",
    "- https://docs.python.org/3/library/functions.html\n",
    "- https://www.w3schools.com/python/python_ref_functions.asp   "
   ]
  },
  {
   "cell_type": "code",
   "execution_count": null,
   "metadata": {
    "collapsed": true
   },
   "outputs": [],
   "source": [
    "        old_V = copy.copy(V)\n",
    "#         old_V = V  # does not work"
   ]
  },
  {
   "cell_type": "code",
   "execution_count": 8,
   "metadata": {},
   "outputs": [
    {
     "data": {
      "text/plain": [
       "90"
      ]
     },
     "execution_count": 8,
     "metadata": {},
     "output_type": "execute_result"
    }
   ],
   "source": [
    "# abs()\n",
    "# Returns the absolute value of a number\n",
    "n = -90\n",
    "abs(n)"
   ]
  },
  {
   "cell_type": "code",
   "execution_count": 9,
   "metadata": {},
   "outputs": [
    {
     "name": "stdout",
     "output_type": "stream",
     "text": [
      "True\n",
      "False\n"
     ]
    },
    {
     "data": {
      "text/plain": [
       "False"
      ]
     },
     "execution_count": 9,
     "metadata": {},
     "output_type": "execute_result"
    }
   ],
   "source": [
    "# all()\n",
    "# Returns True if all items in an iterable object (list, set, tuple, keys of dict) are true\n",
    "my_set = {1, 1}\n",
    "print(all(my_set))\n",
    "my_set.update([1, 0])\n",
    "print(all(my_set))\n",
    "\n",
    "# see numpy array_equal, allclose and array_equiv\n",
    "import numpy as np\n",
    "A = np.array([1, 2, 3])\n",
    "B = np.array([1, 2, 3.1])\n",
    "# (A==B).all()\n",
    "(abs(A-B) < 0.05).all()  # max(abs(V-old_V)) < theta"
   ]
  },
  {
   "cell_type": "code",
   "execution_count": 11,
   "metadata": {},
   "outputs": [
    {
     "name": "stdout",
     "output_type": "stream",
     "text": [
      "True\n"
     ]
    }
   ],
   "source": [
    "# any()\n",
    "# Returns True if any item in an iterable object is true\n",
    "my_dict = {1 : \"si\", 1 : \"mon\"}\n",
    "print(any(my_dict))"
   ]
  },
  {
   "cell_type": "code",
   "execution_count": 14,
   "metadata": {},
   "outputs": [
    {
     "name": "stdout",
     "output_type": "stream",
     "text": [
      "'Viele Gr\\xfc\\xdfe'\n"
     ]
    }
   ],
   "source": [
    "# ascii()\n",
    "# Returns a readable version of an object. Replaces none-ascii characters with escape character\n",
    "print(ascii(\"Viele Grüße\"))"
   ]
  },
  {
   "cell_type": "code",
   "execution_count": 15,
   "metadata": {},
   "outputs": [
    {
     "name": "stdout",
     "output_type": "stream",
     "text": [
      "0b101010\n"
     ]
    }
   ],
   "source": [
    "# bin()\n",
    "# Returns the binary version of a number\n",
    "print(bin(42))"
   ]
  },
  {
   "cell_type": "code",
   "execution_count": 20,
   "metadata": {},
   "outputs": [
    {
     "name": "stdout",
     "output_type": "stream",
     "text": [
      "[False, False, False, False, False, False, False, False, False]\n",
      "[True, True, True, True, True]\n"
     ]
    }
   ],
   "source": [
    "# bool()\n",
    "# Returns the boolean value of the specified object\n",
    "non_boolean_false_examples = [[], (), (0), {}, \"\", None, 0, 0.0, False]\n",
    "non_boolean_true_examples = [[0], {\"\": 0}, \"0\", 0.1, True]\n",
    "print([bool(elem) for elem in non_boolean_false_examples])\n",
    "print([bool(elem) for elem in non_boolean_true_examples])"
   ]
  },
  {
   "cell_type": "code",
   "execution_count": 51,
   "metadata": {},
   "outputs": [
    {
     "name": "stdout",
     "output_type": "stream",
     "text": [
      "bytearray(b'simon')\n",
      "bytearray(b'ximon')\n",
      "bytearray(b'Nimon')\n"
     ]
    }
   ],
   "source": [
    "# bytearray()\n",
    "# Returns an a mutable sequence of bytes (integers in the range 0 <= x < 256)\n",
    "arr = bytearray(\"simon\", 'utf-8')  # when using strings, specify the encoding. Here 'utf-8'\n",
    "arr2 = arr.replace(b's', b'x')\n",
    "print(arr)  # the byte content (immutable) of arr (mutable) is not changed by \"replace()\"\n",
    "print(arr2)\n",
    "arr[0] = 78  # bytearray of arr is mutable\n",
    "print(arr)"
   ]
  },
  {
   "cell_type": "code",
   "execution_count": 55,
   "metadata": {},
   "outputs": [
    {
     "name": "stdout",
     "output_type": "stream",
     "text": [
      "True\n",
      "True\n",
      "False\n"
     ]
    }
   ],
   "source": [
    "# bytes()\n",
    "# Return a new “bytes” object, which is an immutable sequence of integers in the range 0 <= x < 256\n",
    "arr = bytes(\"Py\", 'utf-8') \n",
    "print(arr in b'Python')\n",
    "print(arr in bytes(\"Pyplot\", \"utf-8\"))\n",
    "print(arr in bytes(\"Pyplot\", \"utf-16\"))"
   ]
  },
  {
   "cell_type": "code",
   "execution_count": 62,
   "metadata": {},
   "outputs": [
    {
     "name": "stdout",
     "output_type": "stream",
     "text": [
      "False True\n"
     ]
    }
   ],
   "source": [
    "# callable()\n",
    "# Returns True if callable (i.e. instance of a class with a __call__ method), otherwise False\n",
    "x = 42\n",
    "def testFunction():\n",
    "  print(\"Simon\")\n",
    "y = testFunction  # y is an instance of a class with a __call__ method\n",
    "print(callable(x), callable(y))"
   ]
  },
  {
   "cell_type": "code",
   "execution_count": 67,
   "metadata": {},
   "outputs": [
    {
     "name": "stdout",
     "output_type": "stream",
     "text": [
      "83 S\n"
     ]
    }
   ],
   "source": [
    "# chr()\n",
    "# Returns a character from the specified Unicode code.\n",
    "unicode_version = ord(\"S\")\n",
    "initial_version = chr(unicode_version)\n",
    "print(unicode_version, initial_version)"
   ]
  },
  {
   "cell_type": "code",
   "execution_count": 70,
   "metadata": {},
   "outputs": [
    {
     "name": "stdout",
     "output_type": "stream",
     "text": [
      "The age is: 25\n"
     ]
    }
   ],
   "source": [
    "# classmethod()\n",
    "# Converts a method into a class method. Note: better use the function decorator @classmethod\n",
    "class Person:\n",
    "    age = 25\n",
    "\n",
    "    def printAge(cls):  # mind \"cls\" and not \"self\"\n",
    "        print('The age is:', cls.age)  # mind \"cls.age\" and not \"self.age\"\n",
    "\n",
    "# create printAge class method\n",
    "Person.printAge = classmethod(Person.printAge)\n",
    "# call printAge without creating a Person object\n",
    "Person.printAge()"
   ]
  },
  {
   "cell_type": "code",
   "execution_count": 77,
   "metadata": {},
   "outputs": [
    {
     "name": "stdout",
     "output_type": "stream",
     "text": [
      "sum = 11\n"
     ]
    }
   ],
   "source": [
    "# compile()\n",
    "# converts the string (normal string, a byte string, or an AST object) to Python code object.\n",
    "# The code object is then executed using mode exec() or eval().\n",
    "codeInString = 'a = 5\\nb=6\\nsum=a+b\\nprint(\"sum =\",sum)'\n",
    "codeObejct = compile(codeInString, filename='sumstring', mode='exec')\n",
    "\n",
    "exec(codeObejct)"
   ]
  },
  {
   "cell_type": "code",
   "execution_count": 79,
   "metadata": {},
   "outputs": [
    {
     "name": "stdout",
     "output_type": "stream",
     "text": [
      "(5+5j)\n"
     ]
    }
   ],
   "source": [
    "# complex()\n",
    "# Returns a complex number\n",
    "x, y = complex('3+5j'), 2\n",
    "print(x + y)"
   ]
  },
  {
   "cell_type": "code",
   "execution_count": 7,
   "metadata": {},
   "outputs": [
    {
     "name": "stdout",
     "output_type": "stream",
     "text": [
      "mappingproxy({'__dict__': <attribute '__dict__' of 'Person' objects>,\n",
      "              '__doc__': None,\n",
      "              '__module__': '__main__',\n",
      "              '__weakref__': <attribute '__weakref__' of 'Person' objects>,\n",
      "              'age': 24,\n",
      "              'name': 'John'})\n",
      "<class '__main__.Person'>\n",
      "mappingproxy({'__dict__': <attribute '__dict__' of 'Person' objects>,\n",
      "              '__doc__': None,\n",
      "              '__module__': '__main__',\n",
      "              '__weakref__': <attribute '__weakref__' of 'Person' objects>,\n",
      "              'name': 'John'})\n"
     ]
    }
   ],
   "source": [
    "# delattr()\n",
    "# Deletes the specified attribute (property or method) from the specified object\n",
    "from pprint import pprint\n",
    "class Person:\n",
    "    name = \"John\"  # class variable shared by all instances\n",
    "    age = 24  # class variable shared by all instances\n",
    "pprint(vars(Person))\n",
    "delattr(Person, 'age')  # throw AttributeError when we try to access that removed attribute.\n",
    "print(Person)\n",
    "pprint(vars(Person))"
   ]
  },
  {
   "cell_type": "code",
   "execution_count": 13,
   "metadata": {},
   "outputs": [
    {
     "name": "stdout",
     "output_type": "stream",
     "text": [
      "dict_keyword = {'x': 5, 'y': 0}\n",
      "dict_iterable0 = {'x': 5, 'y': -5, 'z': 8}\n",
      "dict_iterable1 = {'x': 1, 'y': 2, 'z': 3}\n",
      "dict_mapping = {'x': 4, 'y': 5, 'z': 8}\n"
     ]
    }
   ],
   "source": [
    "# dict()\n",
    "# Returns a “associative memories” or “associative arrays”\n",
    "# Using keyword arguments only\n",
    "dict_keyword = dict(x=5, y=0)\n",
    "\n",
    "# Using Iterable\n",
    "dict_iterable0 = dict([('x', 5), ('y', -5)], z=8)\n",
    "dict_iterable1 = dict(list(zip(['x', 'y', 'z'], [1, 2, 3])))\n",
    "\n",
    "# Using Mapping\n",
    "dict_mapping = dict({'x': 4, 'y': 5}, z=8)\n",
    "\n",
    "print('dict_keyword =', dict_keyword)\n",
    "print('dict_iterable0 =', dict_iterable0)\n",
    "print('dict_iterable1 =', dict_iterable1)\n",
    "print('dict_mapping =', dict_mapping)"
   ]
  },
  {
   "cell_type": "code",
   "execution_count": 29,
   "metadata": {},
   "outputs": [
    {
     "name": "stdout",
     "output_type": "stream",
     "text": [
      "['In', 'Out', 'Person', '_', '__', '___', '__builtin__', '__builtins__', '__doc__', '__loader__', '__name__', '__package__', '__spec__', '_dh', '_i', '_i1', '_i10', '_i11', '_i12', '_i13', '_i14', '_i15', '_i16', '_i17', '_i18', '_i19', '_i2', '_i20', '_i21', '_i22', '_i23', '_i24', '_i25', '_i26', '_i27', '_i28', '_i29', '_i3', '_i4', '_i5', '_i6', '_i7', '_i8', '_i9', '_ih', '_ii', '_iii', '_oh', 'dict_iterable', 'dict_iterable0', 'dict_iterable1', 'dict_keyword', 'dict_mapping', 'exit', 'get_ipython', 'json', 'my_dict', 'p', 'pprint', 'quit', 'x'] \n",
      "\n",
      "['__and__', '__class__', '__contains__', '__delattr__', '__dir__', '__doc__', '__eq__', '__format__', '__ge__', '__getattribute__', '__gt__', '__hash__', '__iand__', '__init__', '__init_subclass__', '__ior__', '__isub__', '__iter__', '__ixor__', '__le__', '__len__', '__lt__', '__ne__', '__new__', '__or__', '__rand__', '__reduce__', '__reduce_ex__', '__repr__', '__ror__', '__rsub__', '__rxor__', '__setattr__', '__sizeof__', '__str__', '__sub__', '__subclasshook__', '__xor__', 'add', 'clear', 'copy', 'difference', 'difference_update', 'discard', 'intersection', 'intersection_update', 'isdisjoint', 'issubset', 'issuperset', 'pop', 'remove', 'symmetric_difference', 'symmetric_difference_update', 'union', 'update'] \n",
      "\n",
      "['__abs__', '__add__', '__and__', '__bool__', '__ceil__', '__class__', '__delattr__', '__dir__', '__divmod__', '__doc__', '__eq__', '__float__', '__floor__', '__floordiv__', '__format__', '__ge__', '__getattribute__', '__getnewargs__', '__gt__', '__hash__', '__index__', '__init__', '__init_subclass__', '__int__', '__invert__', '__le__', '__lshift__', '__lt__', '__mod__', '__mul__', '__ne__', '__neg__', '__new__', '__or__', '__pos__', '__pow__', '__radd__', '__rand__', '__rdivmod__', '__reduce__', '__reduce_ex__', '__repr__', '__rfloordiv__', '__rlshift__', '__rmod__', '__rmul__', '__ror__', '__round__', '__rpow__', '__rrshift__', '__rshift__', '__rsub__', '__rtruediv__', '__rxor__', '__setattr__', '__sizeof__', '__str__', '__sub__', '__subclasshook__', '__truediv__', '__trunc__', '__xor__', 'bit_length', 'conjugate', 'denominator', 'from_bytes', 'imag', 'numerator', 'real', 'to_bytes'] \n",
      "\n",
      "2\n"
     ]
    }
   ],
   "source": [
    "# dir()\n",
    "# Returns a list of the specified object's properties and methods\n",
    "print(dir(), \"\\n\")  # Without arguments, return the list of names in the current local scope.\n",
    "print(dir(set), \"\\n\")  # show the names in the set type \n",
    "x = 2\n",
    "print(dir(x), \"\\n\")\n",
    "print(x.__abs__())"
   ]
  },
  {
   "cell_type": "code",
   "execution_count": 30,
   "metadata": {},
   "outputs": [
    {
     "name": "stdout",
     "output_type": "stream",
     "text": [
      "q = 2, r = 1\n"
     ]
    }
   ],
   "source": [
    "# divmod()\n",
    "# Returns the quotient and the remainder when argument1 is divided by argument2\n",
    "q, r = divmod(5, 2)\n",
    "print(\"q = {}, r = {}\".format(q, r))"
   ]
  },
  {
   "cell_type": "code",
   "execution_count": 37,
   "metadata": {},
   "outputs": [
    {
     "name": "stdout",
     "output_type": "stream",
     "text": [
      "<generator object enumerate at 0x0000029D30D2F468>\n",
      "<generator object my_enumerate at 0x0000029D30D2F468>\n",
      "n = 0, elem = zero\n",
      "n = 1, elem = one\n",
      "n = 2, elem = two\n",
      "[(1, 'zero'), (2, 'one'), (3, 'two')]\n"
     ]
    }
   ],
   "source": [
    "# enumerate()\n",
    "# Takes a collection (e.g. a tuple) and returns it as an enumerate object\n",
    "def my_enumerate(sequence, start=0):\n",
    "    n = start\n",
    "    for elem in sequence:\n",
    "        yield n, elem\n",
    "        n += 1\n",
    "print(enumerate([\"zero\", \"one\", \"two\"]))  # <generator object ...> due to \"yield\". Need to apply \"list()\"\n",
    "print(my_enumerate([\"zero\", \"one\", \"two\"]))\n",
    "for n, elem in my_enumerate([\"zero\", \"one\", \"two\"]):\n",
    "    print(\"n = {}, elem = {}\".format(n, elem))\n",
    "# Sort of map\n",
    "print(list(enumerate([\"zero\", \"one\", \"two\"], start=1)))"
   ]
  },
  {
   "cell_type": "code",
   "execution_count": 38,
   "metadata": {},
   "outputs": [
    {
     "data": {
      "text/plain": [
       "3"
      ]
     },
     "execution_count": 38,
     "metadata": {},
     "output_type": "execute_result"
    }
   ],
   "source": [
    "# eval()\n",
    "# Evaluates and executes an expression\n",
    "# Don't put input() inside an eval statement - eval(input()) - since input() can be os.system('rm -R *')\n",
    "x = 2\n",
    "eval('x+1')"
   ]
  },
  {
   "cell_type": "code",
   "execution_count": 40,
   "metadata": {},
   "outputs": [
    {
     "name": "stdout",
     "output_type": "stream",
     "text": [
      "Simon\n"
     ]
    }
   ],
   "source": [
    "# exec()\n",
    "# Executes the specified code (or string) - dynamic execution of Python code\n",
    "x = 'name = \"Simon\"\\nprint(name)'\n",
    "exec(x)"
   ]
  },
  {
   "cell_type": "code",
   "execution_count": 47,
   "metadata": {},
   "outputs": [
    {
     "name": "stdout",
     "output_type": "stream",
     "text": [
      "[2]\n"
     ]
    }
   ],
   "source": [
    "# filter()\n",
    "# Use a filter function to exclude items in an iterable object\n",
    "iterable = (0, 1, 2, 3)\n",
    "def function(x):\n",
    "    return divmod(x, 2) == (1, 0)\n",
    "print(list(item for item in iterable if function(item)))"
   ]
  },
  {
   "cell_type": "code",
   "execution_count": 50,
   "metadata": {},
   "outputs": [
    {
     "name": "stdout",
     "output_type": "stream",
     "text": [
      "100.0\n",
      "-inf\n"
     ]
    }
   ],
   "source": [
    "# float()\n",
    "# Returns a floating point number\n",
    "print(float('+1E2'))\n",
    "print(float('-Infinity'))"
   ]
  },
  {
   "cell_type": "code",
   "execution_count": 58,
   "metadata": {},
   "outputs": [
    {
     "name": "stdout",
     "output_type": "stream",
     "text": [
      "255\n",
      "ff\n",
      "11111111\n",
      "50.000000%\n"
     ]
    }
   ],
   "source": [
    "# format()\n",
    "# Formats a specified value\n",
    "print(\"{}\".format(255))  # a different function\n",
    "print(format(255, 'x'))  # hexadecimal value\n",
    "print(format(255, 'b'))  # Binary format\n",
    "print(format(0.5, '%'))  # percentage"
   ]
  },
  {
   "cell_type": "code",
   "execution_count": 63,
   "metadata": {},
   "outputs": [
    {
     "name": "stdout",
     "output_type": "stream",
     "text": [
      "The frozen set is: frozenset({'sex', 'age', 'name'})\n"
     ]
    }
   ],
   "source": [
    "# frozenset()\n",
    "# Returns a immutable frozenset object initialized with elements from the given iterable.\n",
    "# when you use dictionary as an iterable for a frozen set, it only takes key of the dictionary\n",
    "iterable = {\"name\": \"John\", \"age\": 23, \"sex\": \"male\"}\n",
    "f_set = frozenset(iterable)  # like sets, it is not ordered\n",
    "print('The frozen set is:', f_set)\n",
    "# f_set[1] = \"Simon\"  # 'frozenset' object does not support item assignment"
   ]
  },
  {
   "cell_type": "code",
   "execution_count": 71,
   "metadata": {},
   "outputs": [
    {
     "name": "stdout",
     "output_type": "stream",
     "text": [
      "2\n",
      "2\n"
     ]
    }
   ],
   "source": [
    "# getattr()\n",
    "# Returns the value of the specified attribute (property or method)\n",
    "# getattr(x, 'foobar') is equivalent to x.foobar\n",
    "x = 2\n",
    "print(getattr(x, \"real\"))\n",
    "print(x.real)"
   ]
  },
  {
   "cell_type": "code",
   "execution_count": 77,
   "metadata": {},
   "outputs": [
    {
     "name": "stdout",
     "output_type": "stream",
     "text": [
      "18\n",
      "The age is: 25\n"
     ]
    }
   ],
   "source": [
    "# globals()\n",
    "# Returns the current global symbol table as a dictionary\n",
    "age = 18\n",
    "print(globals()['age'])\n",
    "# Modify global variable using global()\n",
    "globals()['age'] = 25\n",
    "print('The age is:', age)"
   ]
  },
  {
   "cell_type": "code",
   "execution_count": 98,
   "metadata": {},
   "outputs": [
    {
     "name": "stdout",
     "output_type": "stream",
     "text": [
      "True\n",
      "True\n"
     ]
    }
   ],
   "source": [
    "# hasattr()\n",
    "# Returns True if the specified object has the specified attribute (property/method)\n",
    "x = 2\n",
    "print(hasattr(x, \"numerator\"))  # data attribute\n",
    "x = \"2\"\n",
    "print(hasattr(x, \"split\"))  # method"
   ]
  },
  {
   "cell_type": "code",
   "execution_count": 2,
   "metadata": {},
   "outputs": [
    {
     "name": "stdout",
     "output_type": "stream",
     "text": [
      "Hash for 181 is: 181\n",
      "Hash for 181.23 is: 530343892119126197\n",
      "The hash is: 762509481708369048\n",
      "-3469150793559732812\n",
      "True\n"
     ]
    }
   ],
   "source": [
    "# hash()\n",
    "# Returns the hash value of a specified object\n",
    "# hash for integer unchanged\n",
    "print('Hash for 181 is: {}'.format(hash(181)))\n",
    "# hash for decimal\n",
    "print('Hash for 181.23 is: {}'.format(hash(181.23)))\n",
    "# tuple of vowels\n",
    "vowels = ('a', 'e', 'i', 'o', 'u')\n",
    "print('The hash is: {}'.format(hash(vowels)))\n",
    "\n",
    "# Comparison based on hash()\n",
    "class Person:\n",
    "    def __init__(self, age, name):\n",
    "        self.age = age\n",
    "        self.name = name\n",
    "\n",
    "    def __eq__(self, other):\n",
    "        return self.__hash__() == other.__hash__()\n",
    "#         return self.age == other.age and self.name == other.name\n",
    "\n",
    "    def __hash__(self):\n",
    "        return hash((self.age, self.name))\n",
    "person = Person(23, 'Adam')\n",
    "other = Person(23, 'Adam')\n",
    "print(hash(person))\n",
    "print(person.__eq__(other))"
   ]
  },
  {
   "cell_type": "code",
   "execution_count": 3,
   "metadata": {},
   "outputs": [
    {
     "name": "stdout",
     "output_type": "stream",
     "text": [
      "help\n",
      "\n",
      "Welcome to Python 3.6's help utility!\n",
      "\n",
      "If this is your first time using Python, you should definitely check out\n",
      "the tutorial on the Internet at http://docs.python.org/3.6/tutorial/.\n",
      "\n",
      "Enter the name of any module, keyword, or topic to get help on writing\n",
      "Python programs and using Python modules.  To quit this help utility and\n",
      "return to the interpreter, just type \"quit\".\n",
      "\n",
      "To get a list of available modules, keywords, symbols, or topics, type\n",
      "\"modules\", \"keywords\", \"symbols\", or \"topics\".  Each module also comes\n",
      "with a one-line summary of what it does; to list the modules whose name\n",
      "or summary contain a given string such as \"spam\", type \"modules spam\".\n",
      "\n",
      "help> quit\n",
      "\n",
      "You are now leaving help and returning to the Python interpreter.\n",
      "If you want to ask for help on a particular object directly from the\n",
      "interpreter, you can type \"help(object)\".  Executing \"help('string')\"\n",
      "has the same effect as typing a particular string at the help> prompt.\n"
     ]
    }
   ],
   "source": [
    "# help()\n",
    "# If no argument is passed, Python's help utility (interactive help system) starts on the console.\n",
    "# enter \"quit\" to exit\n",
    "print(\"help\")\n",
    "help()"
   ]
  },
  {
   "cell_type": "code",
   "execution_count": 4,
   "metadata": {},
   "outputs": [
    {
     "name": "stdout",
     "output_type": "stream",
     "text": [
      "0xff\n"
     ]
    }
   ],
   "source": [
    "# hex()\n",
    "# Converts a number into a hexadecimal value\n",
    "print(hex(255))"
   ]
  },
  {
   "cell_type": "code",
   "execution_count": 6,
   "metadata": {},
   "outputs": [
    {
     "name": "stdout",
     "output_type": "stream",
     "text": [
      "id of 5 = 1415012640\n",
      "id of a = 1415012640\n",
      "id of b = 1415012640\n",
      "id of b = 1415012672\n",
      "id of c = 1960480215760\n"
     ]
    }
   ],
   "source": [
    "# id()\n",
    "# Returns the id of an object\n",
    "# CPython implementation detail: This is the address of the object in memory.\n",
    "print('id of 5 =',id(5))  #  integer 5 has a unique id.\n",
    "a = 5\n",
    "print('id of a =',id(a))\n",
    "b = a\n",
    "print('id of b =',id(b))\n",
    "b = b + 1\n",
    "print('id of new b =',id(b))\n",
    "c = 5.0\n",
    "print('id of c =',id(c))  # float"
   ]
  },
  {
   "cell_type": "code",
   "execution_count": 7,
   "metadata": {},
   "outputs": [
    {
     "name": "stdout",
     "output_type": "stream",
     "text": [
      "Enter a string:blabla\n",
      "The inputted string is: blabla\n"
     ]
    }
   ],
   "source": [
    "# input()\n",
    "# Allowing user input\n",
    "# get input from user\n",
    "inputString = input('Enter a string:')\n",
    "print('The inputted string is:', inputString)"
   ]
  },
  {
   "cell_type": "code",
   "execution_count": 15,
   "metadata": {},
   "outputs": [
    {
     "name": "stdout",
     "output_type": "stream",
     "text": [
      "-2\n",
      "For 1010, int is: 10\n"
     ]
    }
   ],
   "source": [
    "# int()\n",
    "# Returns an integer number\n",
    "print(int(-2.4))\n",
    "print(\"For 1010, int is:\", int('1010', base=2))"
   ]
  },
  {
   "cell_type": "code",
   "execution_count": 17,
   "metadata": {},
   "outputs": [
    {
     "name": "stdout",
     "output_type": "stream",
     "text": [
      "[1, 2, 3] instance of dict or list? True\n"
     ]
    }
   ],
   "source": [
    "# isinstance()\n",
    "# Returns True if a specified object is an instance of a specified object\n",
    "numbers = [1, 2, 3]\n",
    "result = isinstance(numbers, (dict, list))\n",
    "print(numbers,'instance of dict or list?', result)"
   ]
  },
  {
   "cell_type": "code",
   "execution_count": 20,
   "metadata": {},
   "outputs": [
    {
     "name": "stdout",
     "output_type": "stream",
     "text": [
      "True\n"
     ]
    }
   ],
   "source": [
    "# issubclass()\n",
    "# Returns True if a specified class is a subclass of a specified object\n",
    "print(issubclass(int, (list, int)))"
   ]
  },
  {
   "cell_type": "code",
   "execution_count": 27,
   "metadata": {},
   "outputs": [
    {
     "name": "stdout",
     "output_type": "stream",
     "text": [
      "# Python_3_Built_in_Functions\n",
      "\n",
      "\n",
      "\n",
      "More a draft than a project.\n",
      "\n",
      "The idea is for me to get familiar with the Python built-in functions.\n",
      "\n",
      "\n",
      "\n",
      "Lists of functions:\n",
      "\n",
      "-    https://docs.python.org/3/library/functions.html\n",
      "\n",
      "-    https://www.w3schools.com/python/python_ref_functions.asp\n",
      "\n",
      "-    https://www.programiz.com/python-programming/methods/built-in/\n",
      "\n",
      "-    http://www.trytoprogram.com/python-programming/python-built-in-functions/\n",
      "apple\n",
      "banana\n",
      "cherry\n"
     ]
    }
   ],
   "source": [
    "# iter()\n",
    "# Returns an iterator object - creates an object which can be iterated one element at a time.\n",
    "# If the second argument, sentinel, is given, then object must be a callable object\n",
    "with open('README.md') as fp:  # read lines of a file until a certain line (empty character) is reached\n",
    "    for line in iter(fp.readline, \"\"):  # iter(v, w): v must be callable\n",
    "        print(line)\n",
    "# Without a second argument, object must be\n",
    "# -a collection object which supports the iteration protocol (the __iter__() method),\n",
    "# -or must support the sequence protocol (the __getitem__() method with integer arguments starting at 0)\n",
    "x = iter([\"apple\", \"banana\", \"cherry\"])  # Returns an iterator object - no sentinel\n",
    "print(next(x))\n",
    "print(next(x))\n",
    "print(next(x))"
   ]
  },
  {
   "cell_type": "code",
   "execution_count": 31,
   "metadata": {},
   "outputs": [
    {
     "name": "stdout",
     "output_type": "stream",
     "text": [
      "5\n",
      "3\n",
      "frozenset({1, 2}) length is 2\n"
     ]
    }
   ],
   "source": [
    "# len()\n",
    "# Returns the length of an object\n",
    "# with a sequence (string, bytes, tuple, list, or range)\n",
    "print(len(bytes(\"Simon\", \"utf-8\")))\n",
    "print(len(b'\\x01\\x02\\x03'))\n",
    "\n",
    "# or a collection (dictionary, set or frozen set)\n",
    "frozenTestSet = frozenset({1, 2})\n",
    "print(frozenTestSet, 'length is', len(frozenTestSet))"
   ]
  },
  {
   "cell_type": "code",
   "execution_count": 37,
   "metadata": {},
   "outputs": [
    {
     "name": "stdout",
     "output_type": "stream",
     "text": [
      "[1, 2]\n",
      "['1']\n",
      "[1, 2]\n",
      "['apple', 'banana', 'cherry']\n",
      "[(0, 'apple'), (1, 'banana'), (2, 'cherry')]\n"
     ]
    }
   ],
   "source": [
    "# list()\n",
    "# Not a function, rather a mutable sequence type\n",
    "# A sequence\n",
    "print(list((1, 2)))\n",
    "# A collection\n",
    "print(list({\"1\": 2}))\n",
    "print(list(frozenset({1, 2})))\n",
    "# An iterator object\n",
    "x = iter([\"apple\", \"banana\", \"cherry\"])  # Returns an iterator object - no sentinel\n",
    "y = enumerate([\"apple\", \"banana\", \"cherry\"])  # enumerate object\n",
    "print(list(x))\n",
    "print(list(y))"
   ]
  },
  {
   "cell_type": "code",
   "execution_count": 44,
   "metadata": {},
   "outputs": [
    {
     "name": "stdout",
     "output_type": "stream",
     "text": [
      "__main__\n"
     ]
    }
   ],
   "source": [
    "# locals()\n",
    "# Returns an updated dictionary of the current local symbol table\n",
    "# A symbol table is a data structure maintained by a compiler - local + global\n",
    "# it contains all necessary information about the program.\n",
    "x = locals()\n",
    "print(x[\"__name__\"])"
   ]
  },
  {
   "cell_type": "code",
   "execution_count": 54,
   "metadata": {},
   "outputs": [
    {
     "name": "stdout",
     "output_type": "stream",
     "text": [
      "<map object at 0x000001C875C11748>\n",
      "{3, 4, 5}\n"
     ]
    }
   ],
   "source": [
    "# map()\n",
    "# Returns an iterator that applies function to every item of iterable, yielding the results\n",
    "# - the function to execute for each item can be defined with lambda\n",
    "# - pass more than one iterable to the map() function.\n",
    "x = map(lambda x, y: min(len(x), len(y)), ('nut', 'banana', 'pear'), ('orange', 'lemon', 'pineapple'))\n",
    "print(x)  # an iterator\n",
    "print(set(x))  # convert to set"
   ]
  },
  {
   "cell_type": "code",
   "execution_count": 56,
   "metadata": {},
   "outputs": [
    {
     "name": "stdout",
     "output_type": "stream",
     "text": [
      "5\n",
      "0\n"
     ]
    }
   ],
   "source": [
    "# max()\n",
    "# Returns the largest item in an iterable - \n",
    "print(max(set({0, 5, 2})))\n",
    "# or the largest of two or more arguments\n",
    "print(max(0, -4))"
   ]
  },
  {
   "cell_type": "code",
   "execution_count": 69,
   "metadata": {},
   "outputs": [
    {
     "name": "stdout",
     "output_type": "stream",
     "text": [
      "<memory at 0x000001C874A46DC8>\n",
      "1960481966600\n",
      "83\n",
      "bytearray(b'SOmon')\n"
     ]
    }
   ],
   "source": [
    "# memoryview()\n",
    "# Returns a memory view object. obj must support buffer protocol (bytes, bytearray) - unlike bytes/str\n",
    "\n",
    "# Buffer protocol allows one object to expose its internal data (buffers)\n",
    "# and the other to access those buffers (memory array) without intermediate copying.\n",
    "\n",
    "# This protocol is only accessible to us at the C-API level and not using our normal code base.\n",
    "# So, in order to expose the same protocol to normal Python code base, memory views are present.\n",
    "\n",
    "# whenever we perform some action on an object (call a function of an object, slice an array)\n",
    "# we (or Python) need to create a copy of the object.\n",
    "\n",
    "# Using buffer protocol, we can give another object access to use/modify the large data without copying it\n",
    "ba = bytearray(bytes(\"Simon\", \"utf-8\"))\n",
    "x = memoryview(ba)\n",
    "print(x)\n",
    "print(id(ba))  # what is the difference between id() and memoryview? They should both give memory address?\n",
    "# id(): \"This is the address of the object in memory\".\n",
    "# The “memory view” object is specially created from the given argument\n",
    "\n",
    "# We accessed the mv's 0th index ('A') and printed it (which gives the ASCII value - 75).\n",
    "print(x[0])\n",
    "\n",
    "# Since, the memory view object x references the same buffer/memory\n",
    "# updating the index in x also updates randomByteArray.\n",
    "x[1] = 79  # need to be a bytearray - otherwise, with immutable bytes, \"cannot modify read-only memory\"\n",
    "print(ba)"
   ]
  },
  {
   "cell_type": "code",
   "execution_count": 70,
   "metadata": {},
   "outputs": [
    {
     "name": "stdout",
     "output_type": "stream",
     "text": [
      "Minimum is: [12, 2]\n"
     ]
    }
   ],
   "source": [
    "# min()\n",
    "# Returns the smallest item in an iterable\n",
    "num = [15, 300, 2700, 821]\n",
    "num1 = [12, 2]\n",
    "num2 = [34, 567, 78]\n",
    "\n",
    "# using min(iterable, *iterables, key)\n",
    "print('Minimum is:', min(num, num1, num2, key=len))"
   ]
  },
  {
   "cell_type": "code",
   "execution_count": 71,
   "metadata": {},
   "outputs": [
    {
     "name": "stdout",
     "output_type": "stream",
     "text": [
      "<list_iterator object at 0x000001C875BEC710>\n",
      "5\n",
      "9\n",
      "cat\n",
      "-1\n",
      "-1\n"
     ]
    }
   ],
   "source": [
    "# next()\n",
    "# Returns the next item in an iterable\n",
    "# Return a default value when the iterable has reached to its end:\n",
    "\n",
    "# A list is an iterable and you can get iterator from it by using iter() function in Python.\n",
    "random = [5, 9, 'cat']\n",
    "randomIterator = iter(random)\n",
    "print(randomIterator)\n",
    "\n",
    "# Output: 5\n",
    "print(next(randomIterator, '-1'))\n",
    "\n",
    "# Output: 9\n",
    "print(next(randomIterator, '-1'))\n",
    "\n",
    "# randomIterator is exhausted\n",
    "# Output: '-1'\n",
    "print(next(randomIterator, '-1'))\n",
    "print(next(randomIterator, '-1'))"
   ]
  },
  {
   "cell_type": "code",
   "execution_count": 73,
   "metadata": {},
   "outputs": [
    {
     "name": "stdout",
     "output_type": "stream",
     "text": [
      "<class 'object'>\n",
      "['__class__', '__delattr__', '__dir__', '__doc__', '__eq__', '__format__', '__ge__', '__getattribute__', '__gt__', '__hash__', '__init__', '__init_subclass__', '__le__', '__lt__', '__ne__', '__new__', '__reduce__', '__reduce_ex__', '__repr__', '__setattr__', '__sizeof__', '__str__', '__subclasshook__']\n"
     ]
    }
   ],
   "source": [
    "# object()\n",
    "# Returns a new featureless object\n",
    "# object is a base for all classes - You cannot add new properties or methods to this object\n",
    "test = object()\n",
    "\n",
    "print(type(test))\n",
    "print(dir(test))  # all attributes\n",
    "# object does not have a __dict__,\n",
    "# so you can’t assign arbitrary attributes to an instance of the object class."
   ]
  },
  {
   "cell_type": "code",
   "execution_count": 78,
   "metadata": {},
   "outputs": [
    {
     "name": "stdout",
     "output_type": "stream",
     "text": [
      "-0o70\n",
      "0o12 12\n",
      "0o12 12\n",
      "0o12 12\n"
     ]
    }
   ],
   "source": [
    "# oct()\n",
    "# Converts a number into an octal\n",
    "print(oct(-56))\n",
    "print('%#o' % 10, '%o' % 10)\n",
    "print(f'{10:#o}', f'{10:o}')\n",
    "print(format(10, '#o'), format(10, 'o'))"
   ]
  },
  {
   "cell_type": "code",
   "execution_count": 79,
   "metadata": {
    "collapsed": true
   },
   "outputs": [],
   "source": [
    "# open()\n",
    "# Opens a file and returns a file object\n",
    "# Python has a encoding system which is platform dependent.\n",
    "f = open(\"README.md\", mode = 'r', encoding='utf-8')\n",
    "# Use 'b' mode, to read/write binary data as is without any transformations such as converting newlines\n",
    "# to/from platform-specific values or decoding/encoding text using a character encoding.\n",
    "# >>> with open('eggs.csv', 'rb') as csvfile:"
   ]
  },
  {
   "cell_type": "code",
   "execution_count": 80,
   "metadata": {},
   "outputs": [
    {
     "data": {
      "text/plain": [
       "8364"
      ]
     },
     "execution_count": 80,
     "metadata": {},
     "output_type": "execute_result"
    }
   ],
   "source": [
    "# ord()\n",
    "# Convert an integer representing the Unicode of the specified character\n",
    "ord('€') # returns 8364\n",
    "# inverse of chr()"
   ]
  },
  {
   "cell_type": "code",
   "execution_count": 82,
   "metadata": {},
   "outputs": [
    {
     "name": "stdout",
     "output_type": "stream",
     "text": [
      "8\n",
      "0.01\n"
     ]
    }
   ],
   "source": [
    "# pow()\n",
    "# Returns the value of x to the power of y\n",
    "print(pow(2, 3))\n",
    "# equivalent to x**y\n",
    "print(pow(10, -2))"
   ]
  },
  {
   "cell_type": "code",
   "execution_count": 84,
   "metadata": {},
   "outputs": [
    {
     "name": "stdout",
     "output_type": "stream",
     "text": [
      "Letter --- P\n"
     ]
    }
   ],
   "source": [
    "# print()\n",
    "# Print OBJECTS to the text stream file, separated by sep and followed by end\n",
    "# The file argument must be an object with a write(string) method\n",
    "#   if it is not present or None, sys.stdout will be used - standard output device (screen).\n",
    "print(\"Letter\", \"P\", sep=\" --- \")\n",
    "# Since printed arguments are converted to text strings,\n",
    "#   print() cannot be used with binary mode file objects."
   ]
  },
  {
   "cell_type": "code",
   "execution_count": 101,
   "metadata": {},
   "outputs": [
    {
     "name": "stdout",
     "output_type": "stream",
     "text": [
      "100000\n",
      "10\n"
     ]
    }
   ],
   "source": [
    "# property()\n",
    "# Gets, sets, deletes a property value\n",
    "\n",
    "# The @property decorator turns the voltage() method into a “getter” for a read-only attribute\n",
    "# with the same name, and it sets the docstring for voltage to “Get the current voltage.”\n",
    "class Parrot:\n",
    "    def __init__(self):\n",
    "        self._voltage = 100000\n",
    "\n",
    "    @property  # function decorator\n",
    "    def voltage(self):\n",
    "        \"\"\"Get the current voltage.\"\"\"\n",
    "        return self._voltage\n",
    "    \n",
    "    @voltage.setter\n",
    "    def voltage(self, value):\n",
    "        self._voltage = value\n",
    "\n",
    "    @voltage.deleter\n",
    "    def voltage(self):\n",
    "        del self._voltage\n",
    "# equivalent to\n",
    "# voltage = property(get_voltage, set_voltage, del_voltage, \"I'm the 'voltage' property.\")\n",
    "Parrot.voltage.__doc__\n",
    "parrot = Parrot()\n",
    "print(parrot.voltage)\n",
    "parrot.voltage = 10\n",
    "print(parrot.voltage)"
   ]
  },
  {
   "cell_type": "code",
   "execution_count": 106,
   "metadata": {},
   "outputs": [
    {
     "name": "stdout",
     "output_type": "stream",
     "text": [
      "[10, 2, 8, 7, 6, 5, 4, 3]\n"
     ]
    }
   ],
   "source": [
    "# range()\n",
    "# Rather than being a function, range is actually an immutable sequence type\n",
    "x = range(10, 2, -1)\n",
    "# x[1] = 2 - range(10, 2, -1) is immutable - 'range' object does not support item assignment\n",
    "# use list() on it\n",
    "y = list(x)\n",
    "y[1] = 2\n",
    "print(y)"
   ]
  },
  {
   "cell_type": "code",
   "execution_count": 115,
   "metadata": {},
   "outputs": [
    {
     "name": "stdout",
     "output_type": "stream",
     "text": [
      "'Simon'\n",
      "Simon\n"
     ]
    },
    {
     "data": {
      "text/plain": [
       "\"'Simon'\""
      ]
     },
     "execution_count": 115,
     "metadata": {},
     "output_type": "execute_result"
    }
   ],
   "source": [
    "# repr()\n",
    "# Returns a printable representation of the given object.\n",
    "# It returns a string that would yield an object with the same value when passed to eval().\n",
    "x = 'Simon'\n",
    "print(repr(x))\n",
    "y = eval(repr(x)) # (approximation that holds true for most of built-in types)\n",
    "print(y)\n",
    "\n",
    "class Person:\n",
    "    name = 'Simon'\n",
    "    def __repr__(self):\n",
    "        return repr(self.name)\n",
    "repr(Person())"
   ]
  },
  {
   "cell_type": "code",
   "execution_count": 118,
   "metadata": {},
   "outputs": [
    {
     "name": "stdout",
     "output_type": "stream",
     "text": [
      "s\n",
      "m\n",
      "n\n"
     ]
    }
   ],
   "source": [
    "# reversed()\n",
    "# Returns a reversed iterator.\n",
    "# Work with objects\n",
    "# - that have implemented __reversed__()\n",
    "# - or support sequence protocol (__len__() and __getitem__()) as tuple, string, list or range\n",
    "# remember :\n",
    "# - iter() function returns an iterator object\n",
    "# - list.reverse() method reverses a List.\n",
    "nms = [\"n\", \"m\", \"s\"]  # or range(5, 9)\n",
    "smn = reversed(nms)  # an iterator - convert it with list(reversed(seq))\n",
    "for x in smn:\n",
    "    print(x)"
   ]
  },
  {
   "cell_type": "code",
   "execution_count": 119,
   "metadata": {},
   "outputs": [
    {
     "name": "stdout",
     "output_type": "stream",
     "text": [
      "6\n"
     ]
    }
   ],
   "source": [
    "# round()\n",
    "# Returns the floating point number rounded off to the given ndigits digits after the decimal point.\n",
    "print(round(5.9))"
   ]
  },
  {
   "cell_type": "code",
   "execution_count": 122,
   "metadata": {},
   "outputs": [
    {
     "name": "stdout",
     "output_type": "stream",
     "text": [
      "{0, 1, 2, 3, 4}\n",
      "{'u', 'e', 'o', 'i', 'a'}\n",
      "{'e', 'u', 'o', 'i', 'a'}\n",
      "{'u', 'e', 'o', 'i', 'a'}\n"
     ]
    }
   ],
   "source": [
    "# set()\n",
    "# Returns a new set object\n",
    "# difference with list():\n",
    "# - In a set you can only have one instances of a member.\n",
    "# - The order of the elements is unknown,\n",
    "# - x in a_set works in O(1) [O(len(list)) for list]. List length does not affect this query\n",
    "# - __eq__ and __hash__ have to be defined to add object to a set()\n",
    "# -- s.add([0]) unhashable type: 'list'\n",
    "# -- hashable means could be used for dictionary key. Since list are mutable, they cannot. Unlike tuples\n",
    "\n",
    "print(set(range(5)))\n",
    "# for set\n",
    "print(set({'a', 'e', 'i', 'o', 'u'}))\n",
    "# from dictionary\n",
    "print(set({'a':1, 'e': 2, 'i':3, 'o':4, 'u':5}))\n",
    "# from frozen set\n",
    "frozenSet = frozenset(('a', 'e', 'i', 'o', 'u'))\n",
    "print(set(frozenSet))"
   ]
  },
  {
   "cell_type": "code",
   "execution_count": 123,
   "metadata": {},
   "outputs": [
    {
     "name": "stdout",
     "output_type": "stream",
     "text": [
      "Name is: None\n",
      "Age is: 23\n"
     ]
    }
   ],
   "source": [
    "# setattr()\n",
    "# Sets an attribute (property/method) of an object\n",
    "class Person:\n",
    "    name = 'Simon'\n",
    "p = Person()\n",
    "# setting attribute name to None\n",
    "setattr(p, 'name', None)\n",
    "print('Name is:', p.name)\n",
    "\n",
    "# setting an attribute not present - it creates one\n",
    "setattr(p, 'age', 23)\n",
    "print('Age is:', p.age)"
   ]
  },
  {
   "cell_type": "code",
   "execution_count": 126,
   "metadata": {},
   "outputs": [
    {
     "name": "stdout",
     "output_type": "stream",
     "text": [
      "('a', 'd', 'g')\n"
     ]
    }
   ],
   "source": [
    "# slice()\n",
    "# Returns a slice object\n",
    "# The slice object is used to slice a given sequence (string, bytes, tuple, list or range)\n",
    "# or any object which supports sequence protocol (implements __getitem__() and __len__() method).\n",
    "a = (\"a\", \"b\", \"c\", \"d\", \"e\", \"f\", \"g\", \"h\")\n",
    "# Use the step parameter to return every third item\n",
    "x = slice(0, 8, 3) # returns a slice object\n",
    "print(a[x])"
   ]
  },
  {
   "cell_type": "code",
   "execution_count": null,
   "metadata": {
    "collapsed": true
   },
   "outputs": [],
   "source": [
    "# sorted()\n",
    "# Returns a sorted list\n"
   ]
  },
  {
   "cell_type": "code",
   "execution_count": 35,
   "metadata": {},
   "outputs": [
    {
     "ename": "SyntaxError",
     "evalue": "invalid syntax (<ipython-input-35-70f76040db60>, line 1)",
     "output_type": "error",
     "traceback": [
      "\u001b[1;36m  File \u001b[1;32m\"<ipython-input-35-70f76040db60>\"\u001b[1;36m, line \u001b[1;32m1\u001b[0m\n\u001b[1;33m    eval()\tEvaluates and executes an expression\u001b[0m\n\u001b[1;37m          \t        ^\u001b[0m\n\u001b[1;31mSyntaxError\u001b[0m\u001b[1;31m:\u001b[0m invalid syntax\n"
     ]
    }
   ],
   "source": [
    "\n",
    "@staticmethod()\tConverts a method into a static method\n",
    "str()\tReturns a string object\n",
    "sum()\tSums the items of an iterator\n",
    "tuple()\tReturns a tuple\n",
    "type()\tReturns the type of an object\n",
    "vars()\tReturns the __dict__ property of an object\n",
    "zip()\tReturns an iterator, from two or more iterators"
   ]
  },
  {
   "cell_type": "code",
   "execution_count": null,
   "metadata": {
    "collapsed": true
   },
   "outputs": [],
   "source": [
    "https://docs.python.org/3/glossary.html"
   ]
  },
  {
   "cell_type": "code",
   "execution_count": 6,
   "metadata": {},
   "outputs": [
    {
     "name": "stdout",
     "output_type": "stream",
     "text": [
      "[2, 3, 3, 2]\n"
     ]
    }
   ],
   "source": [
    "# make all elements of a list positive\n",
    "myList = [2,3,-3,-2]\n",
    "print(list(map(abs, myList)))"
   ]
  },
  {
   "cell_type": "code",
   "execution_count": null,
   "metadata": {
    "collapsed": true
   },
   "outputs": [],
   "source": [
    "# -*- coding: utf-8 -*-\n",
    "# Telling Python the encoding of your source file - how the interpreter reads the characters in this file\n",
    "# ASCII = default for Python 2 - problem when asking print 'ă'\n",
    "# UTF-8 = default for Python 3"
   ]
  },
  {
   "cell_type": "code",
   "execution_count": null,
   "metadata": {
    "collapsed": true
   },
   "outputs": [],
   "source": []
  }
 ],
 "metadata": {
  "kernelspec": {
   "display_name": "Python 3",
   "language": "python",
   "name": "python3"
  },
  "language_info": {
   "codemirror_mode": {
    "name": "ipython",
    "version": 3
   },
   "file_extension": ".py",
   "mimetype": "text/x-python",
   "name": "python",
   "nbconvert_exporter": "python",
   "pygments_lexer": "ipython3",
   "version": "3.6.3"
  }
 },
 "nbformat": 4,
 "nbformat_minor": 2
}
