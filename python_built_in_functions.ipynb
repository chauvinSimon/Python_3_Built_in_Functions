{
 "cells": [
  {
   "cell_type": "markdown",
   "metadata": {},
   "source": [
    "Examples of applications of Python3 Built-in Functions\n",
    "I used the following ressources:\n",
    "- https://docs.python.org/3/library/functions.html\n",
    "- https://www.programiz.com/python-programming/methods/built-in/\n",
    "- https://www.w3schools.com/python/python_ref_functions.asp   "
   ]
  },
  {
   "cell_type": "code",
   "execution_count": 1,
   "metadata": {},
   "outputs": [
    {
     "data": {
      "text/plain": [
       "90"
      ]
     },
     "execution_count": 1,
     "metadata": {},
     "output_type": "execute_result"
    }
   ],
   "source": [
    "# abs()\n",
    "# Returns the absolute value of a number\n",
    "n = -90\n",
    "abs(n)"
   ]
  },
  {
   "cell_type": "code",
   "execution_count": 2,
   "metadata": {},
   "outputs": [
    {
     "name": "stdout",
     "output_type": "stream",
     "text": [
      "True\n",
      "False\n"
     ]
    },
    {
     "data": {
      "text/plain": [
       "False"
      ]
     },
     "execution_count": 2,
     "metadata": {},
     "output_type": "execute_result"
    }
   ],
   "source": [
    "# all()\n",
    "# Returns True if all items in an iterable object (list, set, tuple, keys of dict) are true\n",
    "my_set = {1, 1}\n",
    "print(all(my_set))\n",
    "my_set.update([1, 0])\n",
    "print(all(my_set))\n",
    "\n",
    "# see numpy array_equal, allclose and array_equiv\n",
    "import numpy as np\n",
    "A = np.array([1, 2, 3])\n",
    "B = np.array([1, 2, 3.1])\n",
    "# (A==B).all()\n",
    "(abs(A-B) < 0.05).all()  # max(abs(V-old_V)) < theta"
   ]
  },
  {
   "cell_type": "code",
   "execution_count": 3,
   "metadata": {},
   "outputs": [
    {
     "name": "stdout",
     "output_type": "stream",
     "text": [
      "True\n"
     ]
    }
   ],
   "source": [
    "# any()\n",
    "# Returns True if any item in an iterable object is true\n",
    "my_dict = {1 : \"si\", 1 : \"mon\"}\n",
    "print(any(my_dict))"
   ]
  },
  {
   "cell_type": "code",
   "execution_count": 4,
   "metadata": {},
   "outputs": [
    {
     "name": "stdout",
     "output_type": "stream",
     "text": [
      "'Viele Gr\\xfc\\xdfe'\n"
     ]
    }
   ],
   "source": [
    "# ascii()\n",
    "# Returns a readable version of an object. Replaces none-ascii characters with escape character\n",
    "print(ascii(\"Viele Grüße\"))"
   ]
  },
  {
   "cell_type": "code",
   "execution_count": 5,
   "metadata": {},
   "outputs": [
    {
     "name": "stdout",
     "output_type": "stream",
     "text": [
      "0b101010\n"
     ]
    }
   ],
   "source": [
    "# bin()\n",
    "# Returns the binary version of a number\n",
    "print(bin(42))"
   ]
  },
  {
   "cell_type": "code",
   "execution_count": 6,
   "metadata": {},
   "outputs": [
    {
     "name": "stdout",
     "output_type": "stream",
     "text": [
      "[False, False, False, False, False, False, False, False, False]\n",
      "[True, True, True, True, True]\n"
     ]
    }
   ],
   "source": [
    "# bool()\n",
    "# Returns the boolean value of the specified object\n",
    "non_boolean_false_examples = [[], (), (0), {}, \"\", None, 0, 0.0, False]\n",
    "non_boolean_true_examples = [[0], {\"\": 0}, \"0\", 0.1, True]\n",
    "print([bool(elem) for elem in non_boolean_false_examples])\n",
    "print([bool(elem) for elem in non_boolean_true_examples])"
   ]
  },
  {
   "cell_type": "code",
   "execution_count": 7,
   "metadata": {},
   "outputs": [
    {
     "name": "stdout",
     "output_type": "stream",
     "text": [
      "bytearray(b'simon')\n",
      "bytearray(b'ximon')\n",
      "bytearray(b'Nimon')\n"
     ]
    }
   ],
   "source": [
    "# bytearray()\n",
    "# Returns an a mutable sequence of bytes (integers in the range 0 <= x < 256)\n",
    "arr = bytearray(\"simon\", 'utf-8')  # when using strings, specify the encoding. Here 'utf-8'\n",
    "arr2 = arr.replace(b's', b'x')\n",
    "print(arr)  # the byte content (immutable) of arr (mutable) is not changed by \"replace()\"\n",
    "print(arr2)\n",
    "arr[0] = 78  # bytearray of arr is mutable\n",
    "print(arr)"
   ]
  },
  {
   "cell_type": "code",
   "execution_count": 8,
   "metadata": {},
   "outputs": [
    {
     "name": "stdout",
     "output_type": "stream",
     "text": [
      "True\n",
      "True\n",
      "False\n"
     ]
    }
   ],
   "source": [
    "# bytes()\n",
    "# Return a new “bytes” object, which is an immutable sequence of integers in the range 0 <= x < 256\n",
    "arr = bytes(\"Py\", 'utf-8') \n",
    "print(arr in b'Python')\n",
    "print(arr in bytes(\"Pyplot\", \"utf-8\"))\n",
    "print(arr in bytes(\"Pyplot\", \"utf-16\"))"
   ]
  },
  {
   "cell_type": "code",
   "execution_count": 9,
   "metadata": {},
   "outputs": [
    {
     "name": "stdout",
     "output_type": "stream",
     "text": [
      "False True\n"
     ]
    }
   ],
   "source": [
    "# callable()\n",
    "# Returns True if callable (i.e. instance of a class with a __call__ method), otherwise False\n",
    "x = 42\n",
    "def testFunction():\n",
    "  print(\"Simon\")\n",
    "y = testFunction  # y is an instance of a class with a __call__ method\n",
    "print(callable(x), callable(y))"
   ]
  },
  {
   "cell_type": "code",
   "execution_count": 10,
   "metadata": {},
   "outputs": [
    {
     "name": "stdout",
     "output_type": "stream",
     "text": [
      "83 S\n"
     ]
    }
   ],
   "source": [
    "# chr()\n",
    "# Returns a character from the specified Unicode code.\n",
    "unicode_version = ord(\"S\")\n",
    "initial_version = chr(unicode_version)\n",
    "print(unicode_version, initial_version)"
   ]
  },
  {
   "cell_type": "code",
   "execution_count": 11,
   "metadata": {},
   "outputs": [
    {
     "name": "stdout",
     "output_type": "stream",
     "text": [
      "The age is: 25\n"
     ]
    }
   ],
   "source": [
    "# classmethod()\n",
    "# Converts a method into a class method. Note: better use the function decorator @classmethod\n",
    "class Person:\n",
    "    age = 25\n",
    "\n",
    "    def printAge(cls):  # mind \"cls\" and not \"self\"\n",
    "        print('The age is:', cls.age)  # mind \"cls.age\" and not \"self.age\"\n",
    "\n",
    "# create printAge class method\n",
    "Person.printAge = classmethod(Person.printAge)\n",
    "# call printAge without creating a Person object\n",
    "Person.printAge()"
   ]
  },
  {
   "cell_type": "code",
   "execution_count": 12,
   "metadata": {},
   "outputs": [
    {
     "name": "stdout",
     "output_type": "stream",
     "text": [
      "sum = 11\n"
     ]
    }
   ],
   "source": [
    "# compile()\n",
    "# converts the string (normal string, a byte string, or an AST object) to Python code object.\n",
    "# The code object is then executed using mode exec() or eval().\n",
    "codeInString = 'a = 5\\nb=6\\nsum=a+b\\nprint(\"sum =\",sum)'\n",
    "codeObejct = compile(codeInString, filename='sumstring', mode='exec')\n",
    "\n",
    "exec(codeObejct)"
   ]
  },
  {
   "cell_type": "code",
   "execution_count": 13,
   "metadata": {},
   "outputs": [
    {
     "name": "stdout",
     "output_type": "stream",
     "text": [
      "(5+5j)\n"
     ]
    }
   ],
   "source": [
    "# complex()\n",
    "# Returns a complex number\n",
    "x, y = complex('3+5j'), 2\n",
    "print(x + y)"
   ]
  },
  {
   "cell_type": "code",
   "execution_count": 14,
   "metadata": {},
   "outputs": [
    {
     "name": "stdout",
     "output_type": "stream",
     "text": [
      "mappingproxy({'__dict__': <attribute '__dict__' of 'Person' objects>,\n",
      "              '__doc__': None,\n",
      "              '__module__': '__main__',\n",
      "              '__weakref__': <attribute '__weakref__' of 'Person' objects>,\n",
      "              'age': 24,\n",
      "              'name': 'John'})\n",
      "<class '__main__.Person'>\n",
      "mappingproxy({'__dict__': <attribute '__dict__' of 'Person' objects>,\n",
      "              '__doc__': None,\n",
      "              '__module__': '__main__',\n",
      "              '__weakref__': <attribute '__weakref__' of 'Person' objects>,\n",
      "              'name': 'John'})\n"
     ]
    }
   ],
   "source": [
    "# delattr()\n",
    "# Deletes the specified attribute (property or method) from the specified object\n",
    "from pprint import pprint\n",
    "class Person:\n",
    "    name = \"John\"  # class variable shared by all instances\n",
    "    age = 24  # class variable shared by all instances\n",
    "pprint(vars(Person))\n",
    "delattr(Person, 'age')  # throw AttributeError when we try to access that removed attribute.\n",
    "print(Person)\n",
    "pprint(vars(Person))"
   ]
  },
  {
   "cell_type": "code",
   "execution_count": 15,
   "metadata": {},
   "outputs": [
    {
     "name": "stdout",
     "output_type": "stream",
     "text": [
      "dict_keyword = {'x': 5, 'y': 0}\n",
      "dict_iterable0 = {'x': 5, 'y': -5, 'z': 8}\n",
      "dict_iterable1 = {'x': 1, 'y': 2, 'z': 3}\n",
      "dict_mapping = {'x': 4, 'y': 5, 'z': 8}\n"
     ]
    }
   ],
   "source": [
    "# dict()\n",
    "# Returns a “associative memories” or “associative arrays”\n",
    "# Using keyword arguments only\n",
    "dict_keyword = dict(x=5, y=0)\n",
    "\n",
    "# Using Iterable\n",
    "dict_iterable0 = dict([('x', 5), ('y', -5)], z=8)\n",
    "dict_iterable1 = dict(list(zip(['x', 'y', 'z'], [1, 2, 3])))\n",
    "\n",
    "# Using Mapping\n",
    "dict_mapping = dict({'x': 4, 'y': 5}, z=8)\n",
    "\n",
    "print('dict_keyword =', dict_keyword)\n",
    "print('dict_iterable0 =', dict_iterable0)\n",
    "print('dict_iterable1 =', dict_iterable1)\n",
    "print('dict_mapping =', dict_mapping)"
   ]
  },
  {
   "cell_type": "code",
   "execution_count": 16,
   "metadata": {},
   "outputs": [
    {
     "name": "stdout",
     "output_type": "stream",
     "text": [
      "['A', 'B', 'In', 'Out', 'Person', '_', '_1', '_2', '__', '___', '__builtin__', '__builtins__', '__doc__', '__loader__', '__name__', '__package__', '__spec__', '_dh', '_i', '_i1', '_i10', '_i11', '_i12', '_i13', '_i14', '_i15', '_i16', '_i2', '_i3', '_i4', '_i5', '_i6', '_i7', '_i8', '_i9', '_ih', '_ii', '_iii', '_oh', 'a', 'arr', 'arr2', 'b', 'codeInString', 'codeObejct', 'dict_iterable0', 'dict_iterable1', 'dict_keyword', 'dict_mapping', 'exit', 'get_ipython', 'initial_version', 'json', 'my_dict', 'my_set', 'n', 'non_boolean_false_examples', 'non_boolean_true_examples', 'np', 'pprint', 'quit', 'sum', 'testFunction', 'unicode_version', 'x', 'y'] \n",
      "\n",
      "['__and__', '__class__', '__contains__', '__delattr__', '__dir__', '__doc__', '__eq__', '__format__', '__ge__', '__getattribute__', '__gt__', '__hash__', '__iand__', '__init__', '__init_subclass__', '__ior__', '__isub__', '__iter__', '__ixor__', '__le__', '__len__', '__lt__', '__ne__', '__new__', '__or__', '__rand__', '__reduce__', '__reduce_ex__', '__repr__', '__ror__', '__rsub__', '__rxor__', '__setattr__', '__sizeof__', '__str__', '__sub__', '__subclasshook__', '__xor__', 'add', 'clear', 'copy', 'difference', 'difference_update', 'discard', 'intersection', 'intersection_update', 'isdisjoint', 'issubset', 'issuperset', 'pop', 'remove', 'symmetric_difference', 'symmetric_difference_update', 'union', 'update'] \n",
      "\n",
      "['__abs__', '__add__', '__and__', '__bool__', '__ceil__', '__class__', '__delattr__', '__dir__', '__divmod__', '__doc__', '__eq__', '__float__', '__floor__', '__floordiv__', '__format__', '__ge__', '__getattribute__', '__getnewargs__', '__gt__', '__hash__', '__index__', '__init__', '__init_subclass__', '__int__', '__invert__', '__le__', '__lshift__', '__lt__', '__mod__', '__mul__', '__ne__', '__neg__', '__new__', '__or__', '__pos__', '__pow__', '__radd__', '__rand__', '__rdivmod__', '__reduce__', '__reduce_ex__', '__repr__', '__rfloordiv__', '__rlshift__', '__rmod__', '__rmul__', '__ror__', '__round__', '__rpow__', '__rrshift__', '__rshift__', '__rsub__', '__rtruediv__', '__rxor__', '__setattr__', '__sizeof__', '__str__', '__sub__', '__subclasshook__', '__truediv__', '__trunc__', '__xor__', 'bit_length', 'conjugate', 'denominator', 'from_bytes', 'imag', 'numerator', 'real', 'to_bytes'] \n",
      "\n",
      "2\n"
     ]
    }
   ],
   "source": [
    "# dir()\n",
    "# Returns a list of the specified object's properties and methods\n",
    "print(dir(), \"\\n\")  # Without arguments, return the list of names in the current local scope.\n",
    "print(dir(set), \"\\n\")  # show the names in the set type \n",
    "x = 2\n",
    "print(dir(x), \"\\n\")\n",
    "print(x.__abs__())"
   ]
  },
  {
   "cell_type": "code",
   "execution_count": 17,
   "metadata": {},
   "outputs": [
    {
     "name": "stdout",
     "output_type": "stream",
     "text": [
      "q = 2, r = 1\n"
     ]
    }
   ],
   "source": [
    "# divmod()\n",
    "# Returns the quotient and the remainder when argument1 is divided by argument2\n",
    "q, r = divmod(5, 2)\n",
    "print(\"q = {}, r = {}\".format(q, r))"
   ]
  },
  {
   "cell_type": "code",
   "execution_count": 18,
   "metadata": {},
   "outputs": [
    {
     "name": "stdout",
     "output_type": "stream",
     "text": [
      "<enumerate object at 0x00000287C504E168>\n",
      "<generator object my_enumerate at 0x00000287C5031830>\n",
      "n = 0, elem = zero\n",
      "n = 1, elem = one\n",
      "n = 2, elem = two\n",
      "[(1, 'zero'), (2, 'one'), (3, 'two')]\n"
     ]
    }
   ],
   "source": [
    "# enumerate()\n",
    "# Takes a collection (e.g. a tuple) and returns it as an enumerate object\n",
    "def my_enumerate(sequence, start=0):\n",
    "    n = start\n",
    "    for elem in sequence:\n",
    "        yield n, elem\n",
    "        n += 1\n",
    "print(enumerate([\"zero\", \"one\", \"two\"]))  # <generator object ...> due to \"yield\". Need to apply \"list()\"\n",
    "print(my_enumerate([\"zero\", \"one\", \"two\"]))\n",
    "for n, elem in my_enumerate([\"zero\", \"one\", \"two\"]):\n",
    "    print(\"n = {}, elem = {}\".format(n, elem))\n",
    "# Sort of map\n",
    "print(list(enumerate([\"zero\", \"one\", \"two\"], start=1)))"
   ]
  },
  {
   "cell_type": "code",
   "execution_count": 19,
   "metadata": {},
   "outputs": [
    {
     "data": {
      "text/plain": [
       "3"
      ]
     },
     "execution_count": 19,
     "metadata": {},
     "output_type": "execute_result"
    }
   ],
   "source": [
    "# eval()\n",
    "# Evaluates and executes an expression\n",
    "# Don't put input() inside an eval statement - eval(input()) - since input() can be os.system('rm -R *')\n",
    "x = 2\n",
    "eval('x+1')"
   ]
  },
  {
   "cell_type": "code",
   "execution_count": 20,
   "metadata": {},
   "outputs": [
    {
     "name": "stdout",
     "output_type": "stream",
     "text": [
      "Simon\n"
     ]
    }
   ],
   "source": [
    "# exec()\n",
    "# Executes the specified code (or string) - dynamic execution of Python code\n",
    "x = 'name = \"Simon\"\\nprint(name)'\n",
    "exec(x)"
   ]
  },
  {
   "cell_type": "code",
   "execution_count": 21,
   "metadata": {},
   "outputs": [
    {
     "name": "stdout",
     "output_type": "stream",
     "text": [
      "[2]\n"
     ]
    }
   ],
   "source": [
    "# filter()\n",
    "# Use a filter function to exclude items in an iterable object\n",
    "iterable = (0, 1, 2, 3)\n",
    "def function(x):\n",
    "    return divmod(x, 2) == (1, 0)\n",
    "print(list(item for item in iterable if function(item)))"
   ]
  },
  {
   "cell_type": "code",
   "execution_count": 22,
   "metadata": {},
   "outputs": [
    {
     "name": "stdout",
     "output_type": "stream",
     "text": [
      "100.0\n",
      "-inf\n"
     ]
    }
   ],
   "source": [
    "# float()\n",
    "# Returns a floating point number\n",
    "print(float('+1E2'))\n",
    "print(float('-Infinity'))"
   ]
  },
  {
   "cell_type": "code",
   "execution_count": 23,
   "metadata": {},
   "outputs": [
    {
     "name": "stdout",
     "output_type": "stream",
     "text": [
      "255\n",
      "ff\n",
      "11111111\n",
      "50.000000%\n"
     ]
    }
   ],
   "source": [
    "# format()\n",
    "# Formats a specified value\n",
    "print(\"{}\".format(255))  # a different function\n",
    "print(format(255, 'x'))  # hexadecimal value\n",
    "print(format(255, 'b'))  # Binary format\n",
    "print(format(0.5, '%'))  # percentage"
   ]
  },
  {
   "cell_type": "code",
   "execution_count": 24,
   "metadata": {},
   "outputs": [
    {
     "name": "stdout",
     "output_type": "stream",
     "text": [
      "The frozen set is: frozenset({'age', 'sex', 'name'})\n"
     ]
    }
   ],
   "source": [
    "# frozenset()\n",
    "# Returns a immutable frozenset object initialized with elements from the given iterable.\n",
    "# when you use dictionary as an iterable for a frozen set, it only takes key of the dictionary\n",
    "iterable = {\"name\": \"John\", \"age\": 23, \"sex\": \"male\"}\n",
    "f_set = frozenset(iterable)  # like sets, it is not ordered\n",
    "print('The frozen set is:', f_set)\n",
    "# f_set[1] = \"Simon\"  # 'frozenset' object does not support item assignment"
   ]
  },
  {
   "cell_type": "code",
   "execution_count": 25,
   "metadata": {},
   "outputs": [
    {
     "name": "stdout",
     "output_type": "stream",
     "text": [
      "2\n",
      "2\n"
     ]
    }
   ],
   "source": [
    "# getattr()\n",
    "# Returns the value of the specified attribute (property or method)\n",
    "# getattr(x, 'foobar') is equivalent to x.foobar\n",
    "x = 2\n",
    "print(getattr(x, \"real\"))\n",
    "print(x.real)"
   ]
  },
  {
   "cell_type": "code",
   "execution_count": 26,
   "metadata": {},
   "outputs": [
    {
     "name": "stdout",
     "output_type": "stream",
     "text": [
      "18\n",
      "The age is: 25\n"
     ]
    }
   ],
   "source": [
    "# globals()\n",
    "# Returns the current global symbol table as a dictionary\n",
    "age = 18\n",
    "print(globals()['age'])\n",
    "# Modify global variable using global()\n",
    "globals()['age'] = 25\n",
    "print('The age is:', age)"
   ]
  },
  {
   "cell_type": "code",
   "execution_count": 27,
   "metadata": {},
   "outputs": [
    {
     "name": "stdout",
     "output_type": "stream",
     "text": [
      "True\n",
      "True\n"
     ]
    }
   ],
   "source": [
    "# hasattr()\n",
    "# Returns True if the specified object has the specified attribute (property/method)\n",
    "x = 2\n",
    "print(hasattr(x, \"numerator\"))  # data attribute\n",
    "x = \"2\"\n",
    "print(hasattr(x, \"split\"))  # method"
   ]
  },
  {
   "cell_type": "code",
   "execution_count": 28,
   "metadata": {},
   "outputs": [
    {
     "name": "stdout",
     "output_type": "stream",
     "text": [
      "Hash for 181 is: 181\n",
      "Hash for 181.23 is: 530343892119126197\n",
      "The hash is: 4663648341888387050\n",
      "-7166472948748838917\n",
      "True\n"
     ]
    }
   ],
   "source": [
    "# hash()\n",
    "# Returns the hash value of a specified object\n",
    "# hash for integer unchanged\n",
    "print('Hash for 181 is: {}'.format(hash(181)))\n",
    "# hash for decimal\n",
    "print('Hash for 181.23 is: {}'.format(hash(181.23)))\n",
    "# tuple of vowels\n",
    "vowels = ('a', 'e', 'i', 'o', 'u')\n",
    "print('The hash is: {}'.format(hash(vowels)))\n",
    "\n",
    "# Comparison based on hash()\n",
    "class Person:\n",
    "    def __init__(self, age, name):\n",
    "        self.age = age\n",
    "        self.name = name\n",
    "\n",
    "    def __eq__(self, other):\n",
    "        return self.__hash__() == other.__hash__()\n",
    "#         return self.age == other.age and self.name == other.name\n",
    "\n",
    "    def __hash__(self):\n",
    "        return hash((self.age, self.name))\n",
    "person = Person(23, 'Adam')\n",
    "other = Person(23, 'Adam')\n",
    "print(hash(person))\n",
    "print(person.__eq__(other))"
   ]
  },
  {
   "cell_type": "code",
   "execution_count": 29,
   "metadata": {},
   "outputs": [
    {
     "name": "stdout",
     "output_type": "stream",
     "text": [
      "help\n",
      "\n",
      "Welcome to Python 3.6's help utility!\n",
      "\n",
      "If this is your first time using Python, you should definitely check out\n",
      "the tutorial on the Internet at http://docs.python.org/3.6/tutorial/.\n",
      "\n",
      "Enter the name of any module, keyword, or topic to get help on writing\n",
      "Python programs and using Python modules.  To quit this help utility and\n",
      "return to the interpreter, just type \"quit\".\n",
      "\n",
      "To get a list of available modules, keywords, symbols, or topics, type\n",
      "\"modules\", \"keywords\", \"symbols\", or \"topics\".  Each module also comes\n",
      "with a one-line summary of what it does; to list the modules whose name\n",
      "or summary contain a given string such as \"spam\", type \"modules spam\".\n",
      "\n",
      "help> \n",
      "\n",
      "You are now leaving help and returning to the Python interpreter.\n",
      "If you want to ask for help on a particular object directly from the\n",
      "interpreter, you can type \"help(object)\".  Executing \"help('string')\"\n",
      "has the same effect as typing a particular string at the help> prompt.\n"
     ]
    }
   ],
   "source": [
    "# help()\n",
    "# If no argument is passed, Python's help utility (interactive help system) starts on the console.\n",
    "# enter \"quit\" to exit\n",
    "print(\"help\")\n",
    "help()"
   ]
  },
  {
   "cell_type": "code",
   "execution_count": 30,
   "metadata": {},
   "outputs": [
    {
     "name": "stdout",
     "output_type": "stream",
     "text": [
      "0xff\n"
     ]
    }
   ],
   "source": [
    "# hex()\n",
    "# Converts a number into a hexadecimal value\n",
    "print(hex(255))"
   ]
  },
  {
   "cell_type": "code",
   "execution_count": 31,
   "metadata": {},
   "outputs": [
    {
     "name": "stdout",
     "output_type": "stream",
     "text": [
      "id of 5 = 1415012640\n",
      "id of a = 1415012640\n",
      "id of b = 1415012640\n",
      "id of new b = 1415012672\n",
      "id of c = 2782149186208\n"
     ]
    }
   ],
   "source": [
    "# id()\n",
    "# Returns the id of an object\n",
    "# CPython implementation detail: This is the address of the object in memory.\n",
    "print('id of 5 =',id(5))  #  integer 5 has a unique id.\n",
    "a = 5\n",
    "print('id of a =',id(a))\n",
    "b = a\n",
    "print('id of b =',id(b))\n",
    "b = b + 1\n",
    "print('id of new b =',id(b))\n",
    "c = 5.0\n",
    "print('id of c =',id(c))  # float"
   ]
  },
  {
   "cell_type": "code",
   "execution_count": 32,
   "metadata": {},
   "outputs": [
    {
     "name": "stdout",
     "output_type": "stream",
     "text": [
      "Enter a string:\n",
      "The inputted string is: \n"
     ]
    }
   ],
   "source": [
    "# input()\n",
    "# Allowing user input\n",
    "# get input from user\n",
    "inputString = input('Enter a string:')\n",
    "print('The inputted string is:', inputString)"
   ]
  },
  {
   "cell_type": "code",
   "execution_count": 33,
   "metadata": {},
   "outputs": [
    {
     "name": "stdout",
     "output_type": "stream",
     "text": [
      "-2\n",
      "For 1010, int is: 10\n"
     ]
    }
   ],
   "source": [
    "# int()\n",
    "# Returns an integer number\n",
    "print(int(-2.4))\n",
    "print(\"For 1010, int is:\", int('1010', base=2))"
   ]
  },
  {
   "cell_type": "code",
   "execution_count": 34,
   "metadata": {},
   "outputs": [
    {
     "name": "stdout",
     "output_type": "stream",
     "text": [
      "[1, 2, 3] instance of dict or list? True\n"
     ]
    }
   ],
   "source": [
    "# isinstance()\n",
    "# Returns True if a specified object is an instance of a specified object\n",
    "numbers = [1, 2, 3]\n",
    "result = isinstance(numbers, (dict, list))\n",
    "print(numbers,'instance of dict or list?', result)"
   ]
  },
  {
   "cell_type": "code",
   "execution_count": 35,
   "metadata": {},
   "outputs": [
    {
     "name": "stdout",
     "output_type": "stream",
     "text": [
      "True\n"
     ]
    }
   ],
   "source": [
    "# issubclass()\n",
    "# Returns True if a specified class is a subclass of a specified object\n",
    "print(issubclass(int, (list, int)))"
   ]
  },
  {
   "cell_type": "code",
   "execution_count": 36,
   "metadata": {},
   "outputs": [
    {
     "name": "stdout",
     "output_type": "stream",
     "text": [
      "# Python_3_Built_in_Functions\n",
      "\n",
      "\n",
      "\n",
      "More a draft than a project.\n",
      "\n",
      "The idea is for me to get familiar with the Python built-in functions.\n",
      "\n",
      "\n",
      "\n",
      "Lists of functions:\n",
      "\n",
      "-    https://docs.python.org/3/library/functions.html\n",
      "\n",
      "-    https://www.w3schools.com/python/python_ref_functions.asp\n",
      "\n",
      "-    https://www.programiz.com/python-programming/methods/built-in/\n",
      "\n",
      "-    http://www.trytoprogram.com/python-programming/python-built-in-functions/\n",
      "\n",
      "\n",
      "\n",
      "\n",
      "\n",
      "Future work\n",
      "\n",
      "\n",
      "\n",
      "-    implement examples for the terminology of https://docs.python.org/3/glossary.html\n",
      "\n",
      "\n",
      "\n",
      "apple\n",
      "banana\n",
      "cherry\n"
     ]
    }
   ],
   "source": [
    "# iter()\n",
    "# Returns an iterator object - creates an object which can be iterated one element at a time.\n",
    "# If the second argument, sentinel, is given, then object must be a callable object\n",
    "with open('README.md') as fp:  # read lines of a file until a certain line (empty character) is reached\n",
    "    for line in iter(fp.readline, \"\"):  # iter(v, w): v must be callable\n",
    "        print(line)\n",
    "# Without a second argument, object must be\n",
    "# -a collection object which supports the iteration protocol (the __iter__() method),\n",
    "# -or must support the sequence protocol (the __getitem__() method with integer arguments starting at 0)\n",
    "x = iter([\"apple\", \"banana\", \"cherry\"])  # Returns an iterator object - no sentinel\n",
    "print(next(x))\n",
    "print(next(x))\n",
    "print(next(x))"
   ]
  },
  {
   "cell_type": "code",
   "execution_count": 37,
   "metadata": {},
   "outputs": [
    {
     "name": "stdout",
     "output_type": "stream",
     "text": [
      "5\n",
      "3\n",
      "frozenset({1, 2}) length is 2\n"
     ]
    }
   ],
   "source": [
    "# len()\n",
    "# Returns the length of an object\n",
    "# with a sequence (string, bytes, tuple, list, or range)\n",
    "print(len(bytes(\"Simon\", \"utf-8\")))\n",
    "print(len(b'\\x01\\x02\\x03'))\n",
    "\n",
    "# or a collection (dictionary, set or frozen set)\n",
    "frozenTestSet = frozenset({1, 2})\n",
    "print(frozenTestSet, 'length is', len(frozenTestSet))"
   ]
  },
  {
   "cell_type": "code",
   "execution_count": 38,
   "metadata": {},
   "outputs": [
    {
     "name": "stdout",
     "output_type": "stream",
     "text": [
      "[1, 2]\n",
      "['1']\n",
      "[1, 2]\n",
      "['apple', 'banana', 'cherry']\n",
      "[(0, 'apple'), (1, 'banana'), (2, 'cherry')]\n"
     ]
    }
   ],
   "source": [
    "# list()\n",
    "# Not a function, rather a mutable sequence type\n",
    "# A sequence\n",
    "print(list((1, 2)))\n",
    "# A collection\n",
    "print(list({\"1\": 2}))\n",
    "print(list(frozenset({1, 2})))\n",
    "# An iterator object\n",
    "x = iter([\"apple\", \"banana\", \"cherry\"])  # Returns an iterator object - no sentinel\n",
    "y = enumerate([\"apple\", \"banana\", \"cherry\"])  # enumerate object\n",
    "print(list(x))\n",
    "print(list(y))"
   ]
  },
  {
   "cell_type": "code",
   "execution_count": 39,
   "metadata": {},
   "outputs": [
    {
     "name": "stdout",
     "output_type": "stream",
     "text": [
      "__main__\n"
     ]
    }
   ],
   "source": [
    "# locals()\n",
    "# Returns an updated dictionary of the current local symbol table\n",
    "# A symbol table is a data structure maintained by a compiler - local + global\n",
    "# it contains all necessary information about the program.\n",
    "x = locals()\n",
    "print(x[\"__name__\"])"
   ]
  },
  {
   "cell_type": "code",
   "execution_count": 40,
   "metadata": {},
   "outputs": [
    {
     "name": "stdout",
     "output_type": "stream",
     "text": [
      "<map object at 0x00000287C50536A0>\n",
      "{3, 4, 5}\n",
      "[2, 3, 3, 2]\n"
     ]
    }
   ],
   "source": [
    "# map()\n",
    "# Returns an iterator that applies function to every item of iterable, yielding the results\n",
    "# - the function to execute for each item can be defined with lambda\n",
    "# - pass more than one iterable to the map() function.\n",
    "x = map(lambda x, y: min(len(x), len(y)), ('nut', 'banana', 'pear'), ('orange', 'lemon', 'pineapple'))\n",
    "print(x)  # an iterator\n",
    "print(set(x))  # convert to set\n",
    "\n",
    "# make all elements of a list positive. \"abs\" is a function\n",
    "myList = [2,3,-3,-2]\n",
    "print(list(map(abs, myList)))"
   ]
  },
  {
   "cell_type": "code",
   "execution_count": 41,
   "metadata": {},
   "outputs": [
    {
     "name": "stdout",
     "output_type": "stream",
     "text": [
      "5\n",
      "0\n"
     ]
    }
   ],
   "source": [
    "# max()\n",
    "# Returns the largest item in an iterable - \n",
    "print(max(set({0, 5, 2})))\n",
    "# or the largest of two or more arguments\n",
    "print(max(0, -4))"
   ]
  },
  {
   "cell_type": "code",
   "execution_count": 42,
   "metadata": {},
   "outputs": [
    {
     "name": "stdout",
     "output_type": "stream",
     "text": [
      "<memory at 0x00000287C4FAAF48>\n",
      "2781910469632\n",
      "83\n",
      "bytearray(b'SOmon')\n"
     ]
    }
   ],
   "source": [
    "# memoryview()\n",
    "# Returns a memory view object. obj must support buffer protocol (bytes, bytearray) - unlike bytes/str\n",
    "\n",
    "# Buffer protocol allows one object to expose its internal data (buffers)\n",
    "# and the other to access those buffers (memory array) without intermediate copying.\n",
    "\n",
    "# This protocol is only accessible to us at the C-API level and not using our normal code base.\n",
    "# So, in order to expose the same protocol to normal Python code base, memory views are present.\n",
    "\n",
    "# whenever we perform some action on an object (call a function of an object, slice an array)\n",
    "# we (or Python) need to create a copy of the object.\n",
    "\n",
    "# Using buffer protocol, we can give another object access to use/modify the large data without copying it\n",
    "ba = bytearray(bytes(\"Simon\", \"utf-8\"))\n",
    "x = memoryview(ba)\n",
    "print(x)\n",
    "print(id(ba))  # what is the difference between id() and memoryview? They should both give memory address?\n",
    "# id(): \"This is the address of the object in memory\".\n",
    "# The “memory view” object is specially created from the given argument\n",
    "\n",
    "# We accessed the mv's 0th index ('A') and printed it (which gives the ASCII value - 75).\n",
    "print(x[0])\n",
    "\n",
    "# Since, the memory view object x references the same buffer/memory\n",
    "# updating the index in x also updates randomByteArray.\n",
    "x[1] = 79  # need to be a bytearray - otherwise, with immutable bytes, \"cannot modify read-only memory\"\n",
    "print(ba)"
   ]
  },
  {
   "cell_type": "code",
   "execution_count": 43,
   "metadata": {},
   "outputs": [
    {
     "name": "stdout",
     "output_type": "stream",
     "text": [
      "Minimum is: [12, 2]\n"
     ]
    }
   ],
   "source": [
    "# min()\n",
    "# Returns the smallest item in an iterable\n",
    "num = [15, 300, 2700, 821]\n",
    "num1 = [12, 2]\n",
    "num2 = [34, 567, 78]\n",
    "\n",
    "# using min(iterable, *iterables, key)\n",
    "print('Minimum is:', min(num, num1, num2, key=len))"
   ]
  },
  {
   "cell_type": "code",
   "execution_count": 44,
   "metadata": {},
   "outputs": [
    {
     "name": "stdout",
     "output_type": "stream",
     "text": [
      "<list_iterator object at 0x00000287B6D132E8>\n",
      "5\n",
      "9\n",
      "cat\n",
      "-1\n"
     ]
    }
   ],
   "source": [
    "# next()\n",
    "# Returns the next item in an iterable\n",
    "# Return a default value when the iterable has reached to its end:\n",
    "\n",
    "# A list is an iterable and you can get iterator from it by using iter() function in Python.\n",
    "random = [5, 9, 'cat']\n",
    "randomIterator = iter(random)  # iterator object\n",
    "print(randomIterator)\n",
    "\n",
    "# Output: 5\n",
    "print(next(randomIterator, '-1'))\n",
    "\n",
    "# Output: 9\n",
    "print(next(randomIterator, '-1'))\n",
    "\n",
    "# randomIterator is exhausted\n",
    "# Output: '-1'\n",
    "print(next(randomIterator, '-1'))\n",
    "print(next(randomIterator, '-1'))"
   ]
  },
  {
   "cell_type": "code",
   "execution_count": 45,
   "metadata": {},
   "outputs": [
    {
     "name": "stdout",
     "output_type": "stream",
     "text": [
      "<class 'object'>\n",
      "['__class__', '__delattr__', '__dir__', '__doc__', '__eq__', '__format__', '__ge__', '__getattribute__', '__gt__', '__hash__', '__init__', '__init_subclass__', '__le__', '__lt__', '__ne__', '__new__', '__reduce__', '__reduce_ex__', '__repr__', '__setattr__', '__sizeof__', '__str__', '__subclasshook__']\n"
     ]
    }
   ],
   "source": [
    "# object()\n",
    "# Returns a new featureless object\n",
    "# object is a base for all classes - You cannot add new properties or methods to this object\n",
    "test = object()\n",
    "\n",
    "print(type(test))\n",
    "print(dir(test))  # all attributes\n",
    "# object does not have a __dict__,\n",
    "# so you can’t assign arbitrary attributes to an instance of the object class."
   ]
  },
  {
   "cell_type": "code",
   "execution_count": 46,
   "metadata": {},
   "outputs": [
    {
     "name": "stdout",
     "output_type": "stream",
     "text": [
      "-0o70\n",
      "0o12 12\n",
      "0o12 12\n",
      "0o12 12\n"
     ]
    }
   ],
   "source": [
    "# oct()\n",
    "# Converts a number into an octal\n",
    "print(oct(-56))\n",
    "print('%#o' % 10, '%o' % 10)\n",
    "print(f'{10:#o}', f'{10:o}')\n",
    "print(format(10, '#o'), format(10, 'o'))"
   ]
  },
  {
   "cell_type": "code",
   "execution_count": 47,
   "metadata": {
    "collapsed": true
   },
   "outputs": [],
   "source": [
    "# open()\n",
    "# Opens a file and returns a file object\n",
    "# Python has a encoding system which is platform dependent.\n",
    "f = open(\"README.md\", mode = 'r', encoding='utf-8')\n",
    "# Use 'b' mode, to read/write binary data as is without any transformations such as converting newlines\n",
    "# to/from platform-specific values or decoding/encoding text using a character encoding.\n",
    "# >>> with open('eggs.csv', 'rb') as csvfile:"
   ]
  },
  {
   "cell_type": "code",
   "execution_count": 48,
   "metadata": {},
   "outputs": [
    {
     "data": {
      "text/plain": [
       "8364"
      ]
     },
     "execution_count": 48,
     "metadata": {},
     "output_type": "execute_result"
    }
   ],
   "source": [
    "# ord()\n",
    "# Convert an integer representing the Unicode of the specified character\n",
    "ord('€') # returns 8364\n",
    "# inverse of chr()"
   ]
  },
  {
   "cell_type": "code",
   "execution_count": 49,
   "metadata": {},
   "outputs": [
    {
     "name": "stdout",
     "output_type": "stream",
     "text": [
      "8\n",
      "0.01\n"
     ]
    }
   ],
   "source": [
    "# pow()\n",
    "# Returns the value of x to the power of y\n",
    "print(pow(2, 3))\n",
    "# equivalent to x**y\n",
    "print(pow(10, -2))"
   ]
  },
  {
   "cell_type": "code",
   "execution_count": 50,
   "metadata": {},
   "outputs": [
    {
     "name": "stdout",
     "output_type": "stream",
     "text": [
      "Letter --- P\n"
     ]
    }
   ],
   "source": [
    "# print()\n",
    "# Print OBJECTS to the text stream file, separated by sep and followed by end\n",
    "# The file argument must be an object with a write(string) method\n",
    "#   if it is not present or None, sys.stdout will be used - standard output device (screen).\n",
    "print(\"Letter\", \"P\", sep=\" --- \")\n",
    "# Since printed arguments are converted to text strings,\n",
    "#   print() cannot be used with binary mode file objects."
   ]
  },
  {
   "cell_type": "code",
   "execution_count": 51,
   "metadata": {},
   "outputs": [
    {
     "name": "stdout",
     "output_type": "stream",
     "text": [
      "100000\n",
      "10\n"
     ]
    }
   ],
   "source": [
    "# property()\n",
    "# Gets, sets, deletes a property value\n",
    "\n",
    "# The @property decorator turns the voltage() method into a “getter” for a read-only attribute\n",
    "# with the same name, and it sets the docstring for voltage to “Get the current voltage.”\n",
    "class Parrot:\n",
    "    def __init__(self):\n",
    "        self._voltage = 100000\n",
    "\n",
    "    @property  # function decorator\n",
    "    def voltage(self):\n",
    "        \"\"\"Get the current voltage.\"\"\"\n",
    "        return self._voltage\n",
    "    \n",
    "    @voltage.setter\n",
    "    def voltage(self, value):\n",
    "        self._voltage = value\n",
    "\n",
    "    @voltage.deleter\n",
    "    def voltage(self):\n",
    "        del self._voltage\n",
    "# equivalent to\n",
    "# voltage = property(get_voltage, set_voltage, del_voltage, \"I'm the 'voltage' property.\")\n",
    "Parrot.voltage.__doc__\n",
    "parrot = Parrot()\n",
    "print(parrot.voltage)\n",
    "parrot.voltage = 10\n",
    "print(parrot.voltage)"
   ]
  },
  {
   "cell_type": "code",
   "execution_count": 52,
   "metadata": {},
   "outputs": [
    {
     "name": "stdout",
     "output_type": "stream",
     "text": [
      "[10, 2, 8, 7, 6, 5, 4, 3]\n"
     ]
    }
   ],
   "source": [
    "# range()\n",
    "# Rather than being a function, range is actually an immutable sequence type\n",
    "x = range(10, 2, -1)\n",
    "# x[1] = 2 - range(10, 2, -1) is immutable - 'range' object does not support item assignment\n",
    "# use list() on it\n",
    "y = list(x)\n",
    "y[1] = 2\n",
    "print(y)"
   ]
  },
  {
   "cell_type": "code",
   "execution_count": 53,
   "metadata": {},
   "outputs": [
    {
     "name": "stdout",
     "output_type": "stream",
     "text": [
      "'Simon'\n",
      "Simon\n"
     ]
    },
    {
     "data": {
      "text/plain": [
       "\"'Simon'\""
      ]
     },
     "execution_count": 53,
     "metadata": {},
     "output_type": "execute_result"
    }
   ],
   "source": [
    "# repr()\n",
    "# Returns a printable representation of the given object.\n",
    "# It returns a string that would yield an object with the same value when passed to eval().\n",
    "x = 'Simon'\n",
    "print(repr(x))\n",
    "y = eval(repr(x)) # (approximation that holds true for most of built-in types)\n",
    "print(y)\n",
    "\n",
    "class Person:\n",
    "    name = 'Simon'\n",
    "    def __repr__(self):\n",
    "        return repr(self.name)\n",
    "repr(Person())"
   ]
  },
  {
   "cell_type": "code",
   "execution_count": 54,
   "metadata": {},
   "outputs": [
    {
     "name": "stdout",
     "output_type": "stream",
     "text": [
      "s\n",
      "m\n",
      "n\n"
     ]
    }
   ],
   "source": [
    "# reversed()\n",
    "# Returns a reversed iterator.\n",
    "# Work with objects\n",
    "# - that have implemented __reversed__()\n",
    "# - or support sequence protocol (__len__() and __getitem__()) as tuple, string, list or range\n",
    "# remember :\n",
    "# - iter() function returns an iterator object\n",
    "# - list.reverse() method reverses a List.\n",
    "nms = [\"n\", \"m\", \"s\"]  # or range(5, 9)\n",
    "smn = reversed(nms)  # an iterator - convert it with list(reversed(seq))\n",
    "for x in smn:\n",
    "    print(x)"
   ]
  },
  {
   "cell_type": "code",
   "execution_count": 55,
   "metadata": {},
   "outputs": [
    {
     "name": "stdout",
     "output_type": "stream",
     "text": [
      "6\n"
     ]
    }
   ],
   "source": [
    "# round()\n",
    "# Returns the floating point number rounded off to the given ndigits digits after the decimal point.\n",
    "print(round(5.9))"
   ]
  },
  {
   "cell_type": "code",
   "execution_count": 56,
   "metadata": {},
   "outputs": [
    {
     "name": "stdout",
     "output_type": "stream",
     "text": [
      "{0, 1, 2, 3, 4}\n",
      "{'u', 'a', 'i', 'o', 'e'}\n",
      "{'u', 'a', 'i', 'o', 'e'}\n",
      "{'u', 'a', 'i', 'o', 'e'}\n"
     ]
    }
   ],
   "source": [
    "# set()\n",
    "# Returns a new set object\n",
    "# difference with list():\n",
    "# - In a set you can only have one instances of a member.\n",
    "# - The order of the elements is unknown,\n",
    "# - x in a_set works in O(1) [O(len(list)) for list]. List length does not affect this query\n",
    "# - __eq__ and __hash__ have to be defined to add object to a set()\n",
    "# -- s.add([0]) unhashable type: 'list'\n",
    "# -- hashable means could be used for dictionary key. Since list are mutable, they cannot. Unlike tuples\n",
    "\n",
    "print(set(range(5)))\n",
    "# for set\n",
    "print(set({'a', 'e', 'i', 'o', 'u'}))\n",
    "# from dictionary\n",
    "print(set({'a':1, 'e': 2, 'i':3, 'o':4, 'u':5}))\n",
    "# from frozen set\n",
    "frozenSet = frozenset(('a', 'e', 'i', 'o', 'u'))\n",
    "print(set(frozenSet))"
   ]
  },
  {
   "cell_type": "code",
   "execution_count": 57,
   "metadata": {},
   "outputs": [
    {
     "name": "stdout",
     "output_type": "stream",
     "text": [
      "Name is: None\n",
      "Age is: 23\n"
     ]
    }
   ],
   "source": [
    "# setattr()\n",
    "# Sets an attribute (property/method) of an object\n",
    "class Person:\n",
    "    name = 'Simon'\n",
    "p = Person()\n",
    "# setting attribute name to None\n",
    "setattr(p, 'name', None)\n",
    "print('Name is:', p.name)\n",
    "\n",
    "# setting an attribute not present - it creates one\n",
    "setattr(p, 'age', 23)\n",
    "print('Age is:', p.age)"
   ]
  },
  {
   "cell_type": "code",
   "execution_count": 58,
   "metadata": {},
   "outputs": [
    {
     "name": "stdout",
     "output_type": "stream",
     "text": [
      "('a', 'd', 'g')\n"
     ]
    }
   ],
   "source": [
    "# slice()\n",
    "# Returns a slice object\n",
    "# The slice object is used to slice a given sequence (string, bytes, tuple, list or range)\n",
    "# or any object which supports sequence protocol (implements __getitem__() and __len__() method).\n",
    "a = (\"a\", \"b\", \"c\", \"d\", \"e\", \"f\", \"g\", \"h\")\n",
    "# Use the step parameter to return every third item\n",
    "x = slice(0, 8, 3) # returns a slice object\n",
    "print(a[x])"
   ]
  },
  {
   "cell_type": "code",
   "execution_count": 59,
   "metadata": {},
   "outputs": [
    {
     "name": "stdout",
     "output_type": "stream",
     "text": [
      "['P', 'h', 'n', 'o', 't', 'y']\n",
      "['u', 'o', 'i', 'e', 'a']\n",
      "['u', 'o', 'i', 'e', 'a']\n",
      "['u', 'o', 'i', 'e', 'a']\n",
      "Sorted list: [(4, 1), (2, 2), (1, 3), (3, 4)]\n"
     ]
    }
   ],
   "source": [
    "# sorted()\n",
    "# Returns a sorted list\n",
    "# string \n",
    "pyString = 'Python'\n",
    "print(sorted(pyString))\n",
    "\n",
    "# set\n",
    "pySet = {'e', 'a', 'u', 'o', 'i'}\n",
    "print(sorted(pySet, reverse=True))\n",
    "\n",
    "# dictionary\n",
    "pyDict = {'e': 1, 'a': 2, 'u': 3, 'o': 4, 'i': 5}\n",
    "print(sorted(pyDict, reverse=True))\n",
    "\n",
    "# frozen set\n",
    "pyFSet = frozenset(('e', 'a', 'u', 'o', 'i'))\n",
    "print(sorted(pyFSet, reverse=True))\n",
    "\n",
    "# take second element for sort\n",
    "def takeSecond(elem):\n",
    "    return elem[1]\n",
    "# random list\n",
    "random = [(2, 2), (3, 4), (4, 1), (1, 3)]\n",
    "# sort list with key\n",
    "sortedList = sorted(random, key=takeSecond)\n",
    "# print list\n",
    "print('Sorted list:', sortedList)"
   ]
  },
  {
   "cell_type": "code",
   "execution_count": 60,
   "metadata": {
    "collapsed": true
   },
   "outputs": [],
   "source": [
    "# @staticmethod()\n",
    "# Converts a method into a static method - function decorator\n",
    "# It can be called either on the class (such as C.f()) or on an instance (such as C().f()).\n",
    "class C:\n",
    "    builtin_open = staticmethod(open)"
   ]
  },
  {
   "cell_type": "code",
   "execution_count": 61,
   "metadata": {},
   "outputs": [
    {
     "name": "stdout",
     "output_type": "stream",
     "text": [
      "<class 'int'>\n",
      "pythn\n"
     ]
    }
   ],
   "source": [
    "# str()\n",
    "# Return a str version of object\n",
    "print(str(int))\n",
    "# If encoding and errors parameter is provided,\n",
    "#   the first parameter (object) should be a bytes-like-object (bytes or bytearray).\n",
    "# bytes\n",
    "b = bytes('pythön', encoding='utf-8')\n",
    "print(str(b, encoding='ascii', errors='ignore'))"
   ]
  },
  {
   "cell_type": "code",
   "execution_count": 62,
   "metadata": {},
   "outputs": [
    {
     "ename": "TypeError",
     "evalue": "'int' object is not callable",
     "output_type": "error",
     "traceback": [
      "\u001b[1;31m---------------------------------------------------------------------------\u001b[0m",
      "\u001b[1;31mTypeError\u001b[0m                                 Traceback (most recent call last)",
      "\u001b[1;32m<ipython-input-62-68b579c59654>\u001b[0m in \u001b[0;36m<module>\u001b[1;34m()\u001b[0m\n\u001b[0;32m      2\u001b[0m \u001b[1;31m# Sums the items of an iterator\u001b[0m\u001b[1;33m\u001b[0m\u001b[1;33m\u001b[0m\u001b[0m\n\u001b[0;32m      3\u001b[0m \u001b[0ma\u001b[0m \u001b[1;33m=\u001b[0m \u001b[1;33m(\u001b[0m\u001b[1;36m1\u001b[0m\u001b[1;33m,\u001b[0m \u001b[1;36m2\u001b[0m\u001b[1;33m,\u001b[0m \u001b[1;36m3\u001b[0m\u001b[1;33m,\u001b[0m \u001b[1;36m4\u001b[0m\u001b[1;33m,\u001b[0m \u001b[1;36m5\u001b[0m\u001b[1;33m)\u001b[0m\u001b[1;33m\u001b[0m\u001b[0m\n\u001b[1;32m----> 4\u001b[1;33m \u001b[0mx\u001b[0m \u001b[1;33m=\u001b[0m \u001b[0msum\u001b[0m\u001b[1;33m(\u001b[0m\u001b[0ma\u001b[0m\u001b[1;33m,\u001b[0m \u001b[1;36m7\u001b[0m\u001b[1;33m)\u001b[0m  \u001b[1;31m# start with 7\u001b[0m\u001b[1;33m\u001b[0m\u001b[0m\n\u001b[0m\u001b[0;32m      5\u001b[0m \u001b[0mprint\u001b[0m\u001b[1;33m(\u001b[0m\u001b[0mx\u001b[0m\u001b[1;33m)\u001b[0m\u001b[1;33m\u001b[0m\u001b[0m\n\u001b[0;32m      6\u001b[0m \u001b[1;31m# For some use cases, there are good alternatives to sum().\u001b[0m\u001b[1;33m\u001b[0m\u001b[1;33m\u001b[0m\u001b[0m\n",
      "\u001b[1;31mTypeError\u001b[0m: 'int' object is not callable"
     ]
    }
   ],
   "source": [
    "# sum()\n",
    "# Sums the items of an iterator\n",
    "a = (1, 2, 3, 4, 5)\n",
    "x = sum(a, 7)  # start with 7\n",
    "print(x)\n",
    "# For some use cases, there are good alternatives to sum().\n",
    "test = {'Python', 'Java', 'Ruby'}\n",
    "s = '->->'\n",
    "print(s.join(test))"
   ]
  },
  {
   "cell_type": "code",
   "execution_count": 63,
   "metadata": {},
   "outputs": [
    {
     "data": {
      "text/plain": [
       "33"
      ]
     },
     "execution_count": 63,
     "metadata": {},
     "output_type": "execute_result"
    }
   ],
   "source": [
    "# tuple()\n",
    "# Returns a tuple - immutable\n",
    "t = tuple()\n",
    "# t.add([0]) immutable - 'tuple' object has no attribute 'add'\n",
    "\n",
    "# Differences with set / list\n",
    "# - Tuples are heterogeneous data structures (i.e., their entries have different meanings)\n",
    "# -- e.g. (page, line) to classify lines in a book\n",
    "# -- You can then use this as a key in a dictionary to store notes on locations.\n",
    "# -- Named tuples assign meaning to each position in a tuple. Light-weight alternative to classes \n",
    "from collections import namedtuple\n",
    "Point = namedtuple('Point', ['x', 'y'])\n",
    "p = Point(11, y=22)     # instantiate with positional or keyword arguments\n",
    "p[0] + p[1]             # indexable like the plain tuple (11, 22)"
   ]
  },
  {
   "cell_type": "code",
   "execution_count": 64,
   "metadata": {},
   "outputs": [
    {
     "name": "stdout",
     "output_type": "stream",
     "text": [
      "<class 'set'>\n",
      "<class 'set'>\n",
      "<class 'type'>\n",
      "{'a': 'Foo', 'b': 12, '__module__': '__main__', '__dict__': <attribute '__dict__' of 'X' objects>, '__weakref__': <attribute '__weakref__' of 'X' objects>, '__doc__': None}\n"
     ]
    }
   ],
   "source": [
    "# type()\n",
    "# Returns the type of an object\n",
    "# Prefer isinstance() to check type of an object\n",
    "# It is generally the same object as returned by object.__class__.\n",
    "x = {\"s\"}\n",
    "print(x.__class__)\n",
    "print(type(x))\n",
    "\n",
    "# Create a type object Using type()\n",
    "o1 = type('X', (object,), dict(a='Foo', b=12))  # \"object\" or the name of a class\n",
    "print(type(o1))\n",
    "print(vars(o1))"
   ]
  },
  {
   "cell_type": "code",
   "execution_count": 65,
   "metadata": {},
   "outputs": [
    {
     "name": "stdout",
     "output_type": "stream",
     "text": [
      "{'a': 5, 'b': 10}\n",
      "{'a': 5, 'b': 10}\n",
      "{'__name__': '__main__', '__doc__': 'Automatically created module for IPython interactive environment', '__package__': None, '__loader__': None, '__spec__': None, '__builtin__': <module 'builtins' (built-in)>, '__builtins__': <module 'builtins' (built-in)>, '_ih': ['', '# abs()\\n# Returns the absolute value of a number\\nn = -90\\nabs(n)', '# all()\\n# Returns True if all items in an iterable object (list, set, tuple, keys of dict) are true\\nmy_set = {1, 1}\\nprint(all(my_set))\\nmy_set.update([1, 0])\\nprint(all(my_set))\\n\\n# see numpy array_equal, allclose and array_equiv\\nimport numpy as np\\nA = np.array([1, 2, 3])\\nB = np.array([1, 2, 3.1])\\n# (A==B).all()\\n(abs(A-B) < 0.05).all()  # max(abs(V-old_V)) < theta', '# any()\\n# Returns True if any item in an iterable object is true\\nmy_dict = {1 : \"si\", 1 : \"mon\"}\\nprint(any(my_dict))', '# ascii()\\n# Returns a readable version of an object. Replaces none-ascii characters with escape character\\nprint(ascii(\"Viele Grüße\"))', '# bin()\\n# Returns the binary version of a number\\nprint(bin(42))', '# bool()\\n# Returns the boolean value of the specified object\\nnon_boolean_false_examples = [[], (), (0), {}, \"\", None, 0, 0.0, False]\\nnon_boolean_true_examples = [[0], {\"\": 0}, \"0\", 0.1, True]\\nprint([bool(elem) for elem in non_boolean_false_examples])\\nprint([bool(elem) for elem in non_boolean_true_examples])', '# bytearray()\\n# Returns an a mutable sequence of bytes (integers in the range 0 <= x < 256)\\narr = bytearray(\"simon\", \\'utf-8\\')  # when using strings, specify the encoding. Here \\'utf-8\\'\\narr2 = arr.replace(b\\'s\\', b\\'x\\')\\nprint(arr)  # the byte content (immutable) of arr (mutable) is not changed by \"replace()\"\\nprint(arr2)\\narr[0] = 78  # bytearray of arr is mutable\\nprint(arr)', '# bytes()\\n# Return a new “bytes” object, which is an immutable sequence of integers in the range 0 <= x < 256\\narr = bytes(\"Py\", \\'utf-8\\') \\nprint(arr in b\\'Python\\')\\nprint(arr in bytes(\"Pyplot\", \"utf-8\"))\\nprint(arr in bytes(\"Pyplot\", \"utf-16\"))', '# callable()\\n# Returns True if callable (i.e. instance of a class with a __call__ method), otherwise False\\nx = 42\\ndef testFunction():\\n  print(\"Simon\")\\ny = testFunction  # y is an instance of a class with a __call__ method\\nprint(callable(x), callable(y))', '# chr()\\n# Returns a character from the specified Unicode code.\\nunicode_version = ord(\"S\")\\ninitial_version = chr(unicode_version)\\nprint(unicode_version, initial_version)', '# classmethod()\\n# Converts a method into a class method. Note: better use the function decorator @classmethod\\nclass Person:\\n    age = 25\\n\\n    def printAge(cls):  # mind \"cls\" and not \"self\"\\n        print(\\'The age is:\\', cls.age)  # mind \"cls.age\" and not \"self.age\"\\n\\n# create printAge class method\\nPerson.printAge = classmethod(Person.printAge)\\n# call printAge without creating a Person object\\nPerson.printAge()', '# compile()\\n# converts the string (normal string, a byte string, or an AST object) to Python code object.\\n# The code object is then executed using mode exec() or eval().\\ncodeInString = \\'a = 5\\\\nb=6\\\\nsum=a+b\\\\nprint(\"sum =\",sum)\\'\\ncodeObejct = compile(codeInString, filename=\\'sumstring\\', mode=\\'exec\\')\\n\\nexec(codeObejct)', \"# complex()\\n# Returns a complex number\\nx, y = complex('3+5j'), 2\\nprint(x + y)\", '# delattr()\\n# Deletes the specified attribute (property or method) from the specified object\\nfrom pprint import pprint\\nclass Person:\\n    name = \"John\"  # class variable shared by all instances\\n    age = 24  # class variable shared by all instances\\npprint(vars(Person))\\ndelattr(Person, \\'age\\')  # throw AttributeError when we try to access that removed attribute.\\nprint(Person)\\npprint(vars(Person))', \"# dict()\\n# Returns a “associative memories” or “associative arrays”\\n# Using keyword arguments only\\ndict_keyword = dict(x=5, y=0)\\n\\n# Using Iterable\\ndict_iterable0 = dict([('x', 5), ('y', -5)], z=8)\\ndict_iterable1 = dict(list(zip(['x', 'y', 'z'], [1, 2, 3])))\\n\\n# Using Mapping\\ndict_mapping = dict({'x': 4, 'y': 5}, z=8)\\n\\nprint('dict_keyword =', dict_keyword)\\nprint('dict_iterable0 =', dict_iterable0)\\nprint('dict_iterable1 =', dict_iterable1)\\nprint('dict_mapping =', dict_mapping)\", '# dir()\\n# Returns a list of the specified object\\'s properties and methods\\nprint(dir(), \"\\\\n\")  # Without arguments, return the list of names in the current local scope.\\nprint(dir(set), \"\\\\n\")  # show the names in the set type \\nx = 2\\nprint(dir(x), \"\\\\n\")\\nprint(x.__abs__())', '# divmod()\\n# Returns the quotient and the remainder when argument1 is divided by argument2\\nq, r = divmod(5, 2)\\nprint(\"q = {}, r = {}\".format(q, r))', '# enumerate()\\n# Takes a collection (e.g. a tuple) and returns it as an enumerate object\\ndef my_enumerate(sequence, start=0):\\n    n = start\\n    for elem in sequence:\\n        yield n, elem\\n        n += 1\\nprint(enumerate([\"zero\", \"one\", \"two\"]))  # <generator object ...> due to \"yield\". Need to apply \"list()\"\\nprint(my_enumerate([\"zero\", \"one\", \"two\"]))\\nfor n, elem in my_enumerate([\"zero\", \"one\", \"two\"]):\\n    print(\"n = {}, elem = {}\".format(n, elem))\\n# Sort of map\\nprint(list(enumerate([\"zero\", \"one\", \"two\"], start=1)))', \"# eval()\\n# Evaluates and executes an expression\\n# Don't put input() inside an eval statement - eval(input()) - since input() can be os.system('rm -R *')\\nx = 2\\neval('x+1')\", '# exec()\\n# Executes the specified code (or string) - dynamic execution of Python code\\nx = \\'name = \"Simon\"\\\\nprint(name)\\'\\nexec(x)', '# filter()\\n# Use a filter function to exclude items in an iterable object\\niterable = (0, 1, 2, 3)\\ndef function(x):\\n    return divmod(x, 2) == (1, 0)\\nprint(list(item for item in iterable if function(item)))', \"# float()\\n# Returns a floating point number\\nprint(float('+1E2'))\\nprint(float('-Infinity'))\", '# format()\\n# Formats a specified value\\nprint(\"{}\".format(255))  # a different function\\nprint(format(255, \\'x\\'))  # hexadecimal value\\nprint(format(255, \\'b\\'))  # Binary format\\nprint(format(0.5, \\'%\\'))  # percentage', '# frozenset()\\n# Returns a immutable frozenset object initialized with elements from the given iterable.\\n# when you use dictionary as an iterable for a frozen set, it only takes key of the dictionary\\niterable = {\"name\": \"John\", \"age\": 23, \"sex\": \"male\"}\\nf_set = frozenset(iterable)  # like sets, it is not ordered\\nprint(\\'The frozen set is:\\', f_set)\\n# f_set[1] = \"Simon\"  # \\'frozenset\\' object does not support item assignment', '# getattr()\\n# Returns the value of the specified attribute (property or method)\\n# getattr(x, \\'foobar\\') is equivalent to x.foobar\\nx = 2\\nprint(getattr(x, \"real\"))\\nprint(x.real)', \"# globals()\\n# Returns the current global symbol table as a dictionary\\nage = 18\\nprint(globals()['age'])\\n# Modify global variable using global()\\nglobals()['age'] = 25\\nprint('The age is:', age)\", '# hasattr()\\n# Returns True if the specified object has the specified attribute (property/method)\\nx = 2\\nprint(hasattr(x, \"numerator\"))  # data attribute\\nx = \"2\"\\nprint(hasattr(x, \"split\"))  # method', \"# hash()\\n# Returns the hash value of a specified object\\n# hash for integer unchanged\\nprint('Hash for 181 is: {}'.format(hash(181)))\\n# hash for decimal\\nprint('Hash for 181.23 is: {}'.format(hash(181.23)))\\n# tuple of vowels\\nvowels = ('a', 'e', 'i', 'o', 'u')\\nprint('The hash is: {}'.format(hash(vowels)))\\n\\n# Comparison based on hash()\\nclass Person:\\n    def __init__(self, age, name):\\n        self.age = age\\n        self.name = name\\n\\n    def __eq__(self, other):\\n        return self.__hash__() == other.__hash__()\\n#         return self.age == other.age and self.name == other.name\\n\\n    def __hash__(self):\\n        return hash((self.age, self.name))\\nperson = Person(23, 'Adam')\\nother = Person(23, 'Adam')\\nprint(hash(person))\\nprint(person.__eq__(other))\", '# help()\\n# If no argument is passed, Python\\'s help utility (interactive help system) starts on the console.\\n# enter \"quit\" to exit\\nprint(\"help\")\\nhelp()', '# hex()\\n# Converts a number into a hexadecimal value\\nprint(hex(255))', \"# id()\\n# Returns the id of an object\\n# CPython implementation detail: This is the address of the object in memory.\\nprint('id of 5 =',id(5))  #  integer 5 has a unique id.\\na = 5\\nprint('id of a =',id(a))\\nb = a\\nprint('id of b =',id(b))\\nb = b + 1\\nprint('id of new b =',id(b))\\nc = 5.0\\nprint('id of c =',id(c))  # float\", \"# input()\\n# Allowing user input\\n# get input from user\\ninputString = input('Enter a string:')\\nprint('The inputted string is:', inputString)\", '# int()\\n# Returns an integer number\\nprint(int(-2.4))\\nprint(\"For 1010, int is:\", int(\\'1010\\', base=2))', \"# isinstance()\\n# Returns True if a specified object is an instance of a specified object\\nnumbers = [1, 2, 3]\\nresult = isinstance(numbers, (dict, list))\\nprint(numbers,'instance of dict or list?', result)\", '# issubclass()\\n# Returns True if a specified class is a subclass of a specified object\\nprint(issubclass(int, (list, int)))', '# iter()\\n# Returns an iterator object - creates an object which can be iterated one element at a time.\\n# If the second argument, sentinel, is given, then object must be a callable object\\nwith open(\\'README.md\\') as fp:  # read lines of a file until a certain line (empty character) is reached\\n    for line in iter(fp.readline, \"\"):  # iter(v, w): v must be callable\\n        print(line)\\n# Without a second argument, object must be\\n# -a collection object which supports the iteration protocol (the __iter__() method),\\n# -or must support the sequence protocol (the __getitem__() method with integer arguments starting at 0)\\nx = iter([\"apple\", \"banana\", \"cherry\"])  # Returns an iterator object - no sentinel\\nprint(next(x))\\nprint(next(x))\\nprint(next(x))', '# len()\\n# Returns the length of an object\\n# with a sequence (string, bytes, tuple, list, or range)\\nprint(len(bytes(\"Simon\", \"utf-8\")))\\nprint(len(b\\'\\\\x01\\\\x02\\\\x03\\'))\\n\\n# or a collection (dictionary, set or frozen set)\\nfrozenTestSet = frozenset({1, 2})\\nprint(frozenTestSet, \\'length is\\', len(frozenTestSet))', '# list()\\n# Not a function, rather a mutable sequence type\\n# A sequence\\nprint(list((1, 2)))\\n# A collection\\nprint(list({\"1\": 2}))\\nprint(list(frozenset({1, 2})))\\n# An iterator object\\nx = iter([\"apple\", \"banana\", \"cherry\"])  # Returns an iterator object - no sentinel\\ny = enumerate([\"apple\", \"banana\", \"cherry\"])  # enumerate object\\nprint(list(x))\\nprint(list(y))', '# locals()\\n# Returns an updated dictionary of the current local symbol table\\n# A symbol table is a data structure maintained by a compiler - local + global\\n# it contains all necessary information about the program.\\nx = locals()\\nprint(x[\"__name__\"])', '# map()\\n# Returns an iterator that applies function to every item of iterable, yielding the results\\n# - the function to execute for each item can be defined with lambda\\n# - pass more than one iterable to the map() function.\\nx = map(lambda x, y: min(len(x), len(y)), (\\'nut\\', \\'banana\\', \\'pear\\'), (\\'orange\\', \\'lemon\\', \\'pineapple\\'))\\nprint(x)  # an iterator\\nprint(set(x))  # convert to set\\n\\n# make all elements of a list positive. \"abs\" is a function\\nmyList = [2,3,-3,-2]\\nprint(list(map(abs, myList)))', '# max()\\n# Returns the largest item in an iterable - \\nprint(max(set({0, 5, 2})))\\n# or the largest of two or more arguments\\nprint(max(0, -4))', '# memoryview()\\n# Returns a memory view object. obj must support buffer protocol (bytes, bytearray) - unlike bytes/str\\n\\n# Buffer protocol allows one object to expose its internal data (buffers)\\n# and the other to access those buffers (memory array) without intermediate copying.\\n\\n# This protocol is only accessible to us at the C-API level and not using our normal code base.\\n# So, in order to expose the same protocol to normal Python code base, memory views are present.\\n\\n# whenever we perform some action on an object (call a function of an object, slice an array)\\n# we (or Python) need to create a copy of the object.\\n\\n# Using buffer protocol, we can give another object access to use/modify the large data without copying it\\nba = bytearray(bytes(\"Simon\", \"utf-8\"))\\nx = memoryview(ba)\\nprint(x)\\nprint(id(ba))  # what is the difference between id() and memoryview? They should both give memory address?\\n# id(): \"This is the address of the object in memory\".\\n# The “memory view” object is specially created from the given argument\\n\\n# We accessed the mv\\'s 0th index (\\'A\\') and printed it (which gives the ASCII value - 75).\\nprint(x[0])\\n\\n# Since, the memory view object x references the same buffer/memory\\n# updating the index in x also updates randomByteArray.\\nx[1] = 79  # need to be a bytearray - otherwise, with immutable bytes, \"cannot modify read-only memory\"\\nprint(ba)', \"# min()\\n# Returns the smallest item in an iterable\\nnum = [15, 300, 2700, 821]\\nnum1 = [12, 2]\\nnum2 = [34, 567, 78]\\n\\n# using min(iterable, *iterables, key)\\nprint('Minimum is:', min(num, num1, num2, key=len))\", \"# next()\\n# Returns the next item in an iterable\\n# Return a default value when the iterable has reached to its end:\\n\\n# A list is an iterable and you can get iterator from it by using iter() function in Python.\\nrandom = [5, 9, 'cat']\\nrandomIterator = iter(random)  # iterator object\\nprint(randomIterator)\\n\\n# Output: 5\\nprint(next(randomIterator, '-1'))\\n\\n# Output: 9\\nprint(next(randomIterator, '-1'))\\n\\n# randomIterator is exhausted\\n# Output: '-1'\\nprint(next(randomIterator, '-1'))\\nprint(next(randomIterator, '-1'))\", '# object()\\n# Returns a new featureless object\\n# object is a base for all classes - You cannot add new properties or methods to this object\\ntest = object()\\n\\nprint(type(test))\\nprint(dir(test))  # all attributes\\n# object does not have a __dict__,\\n# so you can’t assign arbitrary attributes to an instance of the object class.', \"# oct()\\n# Converts a number into an octal\\nprint(oct(-56))\\nprint('%#o' % 10, '%o' % 10)\\nprint(f'{10:#o}', f'{10:o}')\\nprint(format(10, '#o'), format(10, 'o'))\", '# open()\\n# Opens a file and returns a file object\\n# Python has a encoding system which is platform dependent.\\nf = open(\"README.md\", mode = \\'r\\', encoding=\\'utf-8\\')\\n# Use \\'b\\' mode, to read/write binary data as is without any transformations such as converting newlines\\n# to/from platform-specific values or decoding/encoding text using a character encoding.\\n# >>> with open(\\'eggs.csv\\', \\'rb\\') as csvfile:', \"# ord()\\n# Convert an integer representing the Unicode of the specified character\\nord('€') # returns 8364\\n# inverse of chr()\", '# pow()\\n# Returns the value of x to the power of y\\nprint(pow(2, 3))\\n# equivalent to x**y\\nprint(pow(10, -2))', '# print()\\n# Print OBJECTS to the text stream file, separated by sep and followed by end\\n# The file argument must be an object with a write(string) method\\n#   if it is not present or None, sys.stdout will be used - standard output device (screen).\\nprint(\"Letter\", \"P\", sep=\" --- \")\\n# Since printed arguments are converted to text strings,\\n#   print() cannot be used with binary mode file objects.', '# property()\\n# Gets, sets, deletes a property value\\n\\n# The @property decorator turns the voltage() method into a “getter” for a read-only attribute\\n# with the same name, and it sets the docstring for voltage to “Get the current voltage.”\\nclass Parrot:\\n    def __init__(self):\\n        self._voltage = 100000\\n\\n    @property  # function decorator\\n    def voltage(self):\\n        \"\"\"Get the current voltage.\"\"\"\\n        return self._voltage\\n    \\n    @voltage.setter\\n    def voltage(self, value):\\n        self._voltage = value\\n\\n    @voltage.deleter\\n    def voltage(self):\\n        del self._voltage\\n# equivalent to\\n# voltage = property(get_voltage, set_voltage, del_voltage, \"I\\'m the \\'voltage\\' property.\")\\nParrot.voltage.__doc__\\nparrot = Parrot()\\nprint(parrot.voltage)\\nparrot.voltage = 10\\nprint(parrot.voltage)', \"# range()\\n# Rather than being a function, range is actually an immutable sequence type\\nx = range(10, 2, -1)\\n# x[1] = 2 - range(10, 2, -1) is immutable - 'range' object does not support item assignment\\n# use list() on it\\ny = list(x)\\ny[1] = 2\\nprint(y)\", \"# repr()\\n# Returns a printable representation of the given object.\\n# It returns a string that would yield an object with the same value when passed to eval().\\nx = 'Simon'\\nprint(repr(x))\\ny = eval(repr(x)) # (approximation that holds true for most of built-in types)\\nprint(y)\\n\\nclass Person:\\n    name = 'Simon'\\n    def __repr__(self):\\n        return repr(self.name)\\nrepr(Person())\", '# reversed()\\n# Returns a reversed iterator.\\n# Work with objects\\n# - that have implemented __reversed__()\\n# - or support sequence protocol (__len__() and __getitem__()) as tuple, string, list or range\\n# remember :\\n# - iter() function returns an iterator object\\n# - list.reverse() method reverses a List.\\nnms = [\"n\", \"m\", \"s\"]  # or range(5, 9)\\nsmn = reversed(nms)  # an iterator - convert it with list(reversed(seq))\\nfor x in smn:\\n    print(x)', '# round()\\n# Returns the floating point number rounded off to the given ndigits digits after the decimal point.\\nprint(round(5.9))', \"# set()\\n# Returns a new set object\\n# difference with list():\\n# - In a set you can only have one instances of a member.\\n# - The order of the elements is unknown,\\n# - x in a_set works in O(1) [O(len(list)) for list]. List length does not affect this query\\n# - __eq__ and __hash__ have to be defined to add object to a set()\\n# -- s.add([0]) unhashable type: 'list'\\n# -- hashable means could be used for dictionary key. Since list are mutable, they cannot. Unlike tuples\\n\\nprint(set(range(5)))\\n# for set\\nprint(set({'a', 'e', 'i', 'o', 'u'}))\\n# from dictionary\\nprint(set({'a':1, 'e': 2, 'i':3, 'o':4, 'u':5}))\\n# from frozen set\\nfrozenSet = frozenset(('a', 'e', 'i', 'o', 'u'))\\nprint(set(frozenSet))\", \"# setattr()\\n# Sets an attribute (property/method) of an object\\nclass Person:\\n    name = 'Simon'\\np = Person()\\n# setting attribute name to None\\nsetattr(p, 'name', None)\\nprint('Name is:', p.name)\\n\\n# setting an attribute not present - it creates one\\nsetattr(p, 'age', 23)\\nprint('Age is:', p.age)\", '# slice()\\n# Returns a slice object\\n# The slice object is used to slice a given sequence (string, bytes, tuple, list or range)\\n# or any object which supports sequence protocol (implements __getitem__() and __len__() method).\\na = (\"a\", \"b\", \"c\", \"d\", \"e\", \"f\", \"g\", \"h\")\\n# Use the step parameter to return every third item\\nx = slice(0, 8, 3) # returns a slice object\\nprint(a[x])', \"# sorted()\\n# Returns a sorted list\\n# string \\npyString = 'Python'\\nprint(sorted(pyString))\\n\\n# set\\npySet = {'e', 'a', 'u', 'o', 'i'}\\nprint(sorted(pySet, reverse=True))\\n\\n# dictionary\\npyDict = {'e': 1, 'a': 2, 'u': 3, 'o': 4, 'i': 5}\\nprint(sorted(pyDict, reverse=True))\\n\\n# frozen set\\npyFSet = frozenset(('e', 'a', 'u', 'o', 'i'))\\nprint(sorted(pyFSet, reverse=True))\\n\\n# take second element for sort\\ndef takeSecond(elem):\\n    return elem[1]\\n# random list\\nrandom = [(2, 2), (3, 4), (4, 1), (1, 3)]\\n# sort list with key\\nsortedList = sorted(random, key=takeSecond)\\n# print list\\nprint('Sorted list:', sortedList)\", '# @staticmethod()\\n# Converts a method into a static method - function decorator\\n# It can be called either on the class (such as C.f()) or on an instance (such as C().f()).\\nclass C:\\n    builtin_open = staticmethod(open)', \"# str()\\n# Return a str version of object\\nprint(str(int))\\n# If encoding and errors parameter is provided,\\n#   the first parameter (object) should be a bytes-like-object (bytes or bytearray).\\n# bytes\\nb = bytes('pythön', encoding='utf-8')\\nprint(str(b, encoding='ascii', errors='ignore'))\", \"# sum()\\n# Sums the items of an iterator\\na = (1, 2, 3, 4, 5)\\nx = sum(a, 7)  # start with 7\\nprint(x)\\n# For some use cases, there are good alternatives to sum().\\ntest = {'Python', 'Java', 'Ruby'}\\ns = '->->'\\nprint(s.join(test))\", \"# tuple()\\n# Returns a tuple - immutable\\nt = tuple()\\n# t.add([0]) immutable - 'tuple' object has no attribute 'add'\\n\\n# Differences with set / list\\n# - Tuples are heterogeneous data structures (i.e., their entries have different meanings)\\n# -- e.g. (page, line) to classify lines in a book\\n# -- You can then use this as a key in a dictionary to store notes on locations.\\n# -- Named tuples assign meaning to each position in a tuple. Light-weight alternative to classes \\nfrom collections import namedtuple\\nPoint = namedtuple('Point', ['x', 'y'])\\np = Point(11, y=22)     # instantiate with positional or keyword arguments\\np[0] + p[1]             # indexable like the plain tuple (11, 22)\", '# type()\\n# Returns the type of an object\\n# Prefer isinstance() to check type of an object\\n# It is generally the same object as returned by object.__class__.\\nx = {\"s\"}\\nprint(x.__class__)\\nprint(type(x))\\n\\n# Create a type object Using type()\\no1 = type(\\'X\\', (object,), dict(a=\\'Foo\\', b=12))  # \"object\" or the name of a class\\nprint(type(o1))\\nprint(vars(o1))', '# vars()\\n# Returns the __dict__ property of an object\\n# If no argument is passed to vars(), this function acts like locals() function.\\nclass Foo:\\n    def __init__(self, a = 5, b = 10):\\n        self.a = a\\n        self.b = b\\nInstanceOfFoo = Foo()\\nprint(vars(InstanceOfFoo))\\nprint(InstanceOfFoo.__dict__)\\n\\nprint(vars())\\nprint(locals())'], '_oh': {1: 90, 2: False, 19: 3, 48: 8364, 53: \"'Simon'\", 63: 33}, '_dh': ['C:\\\\Users\\\\simon.chauvin\\\\Documents\\\\Private GitHub\\\\Python_3_Built_in_Functions'], 'In': ['', '# abs()\\n# Returns the absolute value of a number\\nn = -90\\nabs(n)', '# all()\\n# Returns True if all items in an iterable object (list, set, tuple, keys of dict) are true\\nmy_set = {1, 1}\\nprint(all(my_set))\\nmy_set.update([1, 0])\\nprint(all(my_set))\\n\\n# see numpy array_equal, allclose and array_equiv\\nimport numpy as np\\nA = np.array([1, 2, 3])\\nB = np.array([1, 2, 3.1])\\n# (A==B).all()\\n(abs(A-B) < 0.05).all()  # max(abs(V-old_V)) < theta', '# any()\\n# Returns True if any item in an iterable object is true\\nmy_dict = {1 : \"si\", 1 : \"mon\"}\\nprint(any(my_dict))', '# ascii()\\n# Returns a readable version of an object. Replaces none-ascii characters with escape character\\nprint(ascii(\"Viele Grüße\"))', '# bin()\\n# Returns the binary version of a number\\nprint(bin(42))', '# bool()\\n# Returns the boolean value of the specified object\\nnon_boolean_false_examples = [[], (), (0), {}, \"\", None, 0, 0.0, False]\\nnon_boolean_true_examples = [[0], {\"\": 0}, \"0\", 0.1, True]\\nprint([bool(elem) for elem in non_boolean_false_examples])\\nprint([bool(elem) for elem in non_boolean_true_examples])', '# bytearray()\\n# Returns an a mutable sequence of bytes (integers in the range 0 <= x < 256)\\narr = bytearray(\"simon\", \\'utf-8\\')  # when using strings, specify the encoding. Here \\'utf-8\\'\\narr2 = arr.replace(b\\'s\\', b\\'x\\')\\nprint(arr)  # the byte content (immutable) of arr (mutable) is not changed by \"replace()\"\\nprint(arr2)\\narr[0] = 78  # bytearray of arr is mutable\\nprint(arr)', '# bytes()\\n# Return a new “bytes” object, which is an immutable sequence of integers in the range 0 <= x < 256\\narr = bytes(\"Py\", \\'utf-8\\') \\nprint(arr in b\\'Python\\')\\nprint(arr in bytes(\"Pyplot\", \"utf-8\"))\\nprint(arr in bytes(\"Pyplot\", \"utf-16\"))', '# callable()\\n# Returns True if callable (i.e. instance of a class with a __call__ method), otherwise False\\nx = 42\\ndef testFunction():\\n  print(\"Simon\")\\ny = testFunction  # y is an instance of a class with a __call__ method\\nprint(callable(x), callable(y))', '# chr()\\n# Returns a character from the specified Unicode code.\\nunicode_version = ord(\"S\")\\ninitial_version = chr(unicode_version)\\nprint(unicode_version, initial_version)', '# classmethod()\\n# Converts a method into a class method. Note: better use the function decorator @classmethod\\nclass Person:\\n    age = 25\\n\\n    def printAge(cls):  # mind \"cls\" and not \"self\"\\n        print(\\'The age is:\\', cls.age)  # mind \"cls.age\" and not \"self.age\"\\n\\n# create printAge class method\\nPerson.printAge = classmethod(Person.printAge)\\n# call printAge without creating a Person object\\nPerson.printAge()', '# compile()\\n# converts the string (normal string, a byte string, or an AST object) to Python code object.\\n# The code object is then executed using mode exec() or eval().\\ncodeInString = \\'a = 5\\\\nb=6\\\\nsum=a+b\\\\nprint(\"sum =\",sum)\\'\\ncodeObejct = compile(codeInString, filename=\\'sumstring\\', mode=\\'exec\\')\\n\\nexec(codeObejct)', \"# complex()\\n# Returns a complex number\\nx, y = complex('3+5j'), 2\\nprint(x + y)\", '# delattr()\\n# Deletes the specified attribute (property or method) from the specified object\\nfrom pprint import pprint\\nclass Person:\\n    name = \"John\"  # class variable shared by all instances\\n    age = 24  # class variable shared by all instances\\npprint(vars(Person))\\ndelattr(Person, \\'age\\')  # throw AttributeError when we try to access that removed attribute.\\nprint(Person)\\npprint(vars(Person))', \"# dict()\\n# Returns a “associative memories” or “associative arrays”\\n# Using keyword arguments only\\ndict_keyword = dict(x=5, y=0)\\n\\n# Using Iterable\\ndict_iterable0 = dict([('x', 5), ('y', -5)], z=8)\\ndict_iterable1 = dict(list(zip(['x', 'y', 'z'], [1, 2, 3])))\\n\\n# Using Mapping\\ndict_mapping = dict({'x': 4, 'y': 5}, z=8)\\n\\nprint('dict_keyword =', dict_keyword)\\nprint('dict_iterable0 =', dict_iterable0)\\nprint('dict_iterable1 =', dict_iterable1)\\nprint('dict_mapping =', dict_mapping)\", '# dir()\\n# Returns a list of the specified object\\'s properties and methods\\nprint(dir(), \"\\\\n\")  # Without arguments, return the list of names in the current local scope.\\nprint(dir(set), \"\\\\n\")  # show the names in the set type \\nx = 2\\nprint(dir(x), \"\\\\n\")\\nprint(x.__abs__())', '# divmod()\\n# Returns the quotient and the remainder when argument1 is divided by argument2\\nq, r = divmod(5, 2)\\nprint(\"q = {}, r = {}\".format(q, r))', '# enumerate()\\n# Takes a collection (e.g. a tuple) and returns it as an enumerate object\\ndef my_enumerate(sequence, start=0):\\n    n = start\\n    for elem in sequence:\\n        yield n, elem\\n        n += 1\\nprint(enumerate([\"zero\", \"one\", \"two\"]))  # <generator object ...> due to \"yield\". Need to apply \"list()\"\\nprint(my_enumerate([\"zero\", \"one\", \"two\"]))\\nfor n, elem in my_enumerate([\"zero\", \"one\", \"two\"]):\\n    print(\"n = {}, elem = {}\".format(n, elem))\\n# Sort of map\\nprint(list(enumerate([\"zero\", \"one\", \"two\"], start=1)))', \"# eval()\\n# Evaluates and executes an expression\\n# Don't put input() inside an eval statement - eval(input()) - since input() can be os.system('rm -R *')\\nx = 2\\neval('x+1')\", '# exec()\\n# Executes the specified code (or string) - dynamic execution of Python code\\nx = \\'name = \"Simon\"\\\\nprint(name)\\'\\nexec(x)', '# filter()\\n# Use a filter function to exclude items in an iterable object\\niterable = (0, 1, 2, 3)\\ndef function(x):\\n    return divmod(x, 2) == (1, 0)\\nprint(list(item for item in iterable if function(item)))', \"# float()\\n# Returns a floating point number\\nprint(float('+1E2'))\\nprint(float('-Infinity'))\", '# format()\\n# Formats a specified value\\nprint(\"{}\".format(255))  # a different function\\nprint(format(255, \\'x\\'))  # hexadecimal value\\nprint(format(255, \\'b\\'))  # Binary format\\nprint(format(0.5, \\'%\\'))  # percentage', '# frozenset()\\n# Returns a immutable frozenset object initialized with elements from the given iterable.\\n# when you use dictionary as an iterable for a frozen set, it only takes key of the dictionary\\niterable = {\"name\": \"John\", \"age\": 23, \"sex\": \"male\"}\\nf_set = frozenset(iterable)  # like sets, it is not ordered\\nprint(\\'The frozen set is:\\', f_set)\\n# f_set[1] = \"Simon\"  # \\'frozenset\\' object does not support item assignment', '# getattr()\\n# Returns the value of the specified attribute (property or method)\\n# getattr(x, \\'foobar\\') is equivalent to x.foobar\\nx = 2\\nprint(getattr(x, \"real\"))\\nprint(x.real)', \"# globals()\\n# Returns the current global symbol table as a dictionary\\nage = 18\\nprint(globals()['age'])\\n# Modify global variable using global()\\nglobals()['age'] = 25\\nprint('The age is:', age)\", '# hasattr()\\n# Returns True if the specified object has the specified attribute (property/method)\\nx = 2\\nprint(hasattr(x, \"numerator\"))  # data attribute\\nx = \"2\"\\nprint(hasattr(x, \"split\"))  # method', \"# hash()\\n# Returns the hash value of a specified object\\n# hash for integer unchanged\\nprint('Hash for 181 is: {}'.format(hash(181)))\\n# hash for decimal\\nprint('Hash for 181.23 is: {}'.format(hash(181.23)))\\n# tuple of vowels\\nvowels = ('a', 'e', 'i', 'o', 'u')\\nprint('The hash is: {}'.format(hash(vowels)))\\n\\n# Comparison based on hash()\\nclass Person:\\n    def __init__(self, age, name):\\n        self.age = age\\n        self.name = name\\n\\n    def __eq__(self, other):\\n        return self.__hash__() == other.__hash__()\\n#         return self.age == other.age and self.name == other.name\\n\\n    def __hash__(self):\\n        return hash((self.age, self.name))\\nperson = Person(23, 'Adam')\\nother = Person(23, 'Adam')\\nprint(hash(person))\\nprint(person.__eq__(other))\", '# help()\\n# If no argument is passed, Python\\'s help utility (interactive help system) starts on the console.\\n# enter \"quit\" to exit\\nprint(\"help\")\\nhelp()', '# hex()\\n# Converts a number into a hexadecimal value\\nprint(hex(255))', \"# id()\\n# Returns the id of an object\\n# CPython implementation detail: This is the address of the object in memory.\\nprint('id of 5 =',id(5))  #  integer 5 has a unique id.\\na = 5\\nprint('id of a =',id(a))\\nb = a\\nprint('id of b =',id(b))\\nb = b + 1\\nprint('id of new b =',id(b))\\nc = 5.0\\nprint('id of c =',id(c))  # float\", \"# input()\\n# Allowing user input\\n# get input from user\\ninputString = input('Enter a string:')\\nprint('The inputted string is:', inputString)\", '# int()\\n# Returns an integer number\\nprint(int(-2.4))\\nprint(\"For 1010, int is:\", int(\\'1010\\', base=2))', \"# isinstance()\\n# Returns True if a specified object is an instance of a specified object\\nnumbers = [1, 2, 3]\\nresult = isinstance(numbers, (dict, list))\\nprint(numbers,'instance of dict or list?', result)\", '# issubclass()\\n# Returns True if a specified class is a subclass of a specified object\\nprint(issubclass(int, (list, int)))', '# iter()\\n# Returns an iterator object - creates an object which can be iterated one element at a time.\\n# If the second argument, sentinel, is given, then object must be a callable object\\nwith open(\\'README.md\\') as fp:  # read lines of a file until a certain line (empty character) is reached\\n    for line in iter(fp.readline, \"\"):  # iter(v, w): v must be callable\\n        print(line)\\n# Without a second argument, object must be\\n# -a collection object which supports the iteration protocol (the __iter__() method),\\n# -or must support the sequence protocol (the __getitem__() method with integer arguments starting at 0)\\nx = iter([\"apple\", \"banana\", \"cherry\"])  # Returns an iterator object - no sentinel\\nprint(next(x))\\nprint(next(x))\\nprint(next(x))', '# len()\\n# Returns the length of an object\\n# with a sequence (string, bytes, tuple, list, or range)\\nprint(len(bytes(\"Simon\", \"utf-8\")))\\nprint(len(b\\'\\\\x01\\\\x02\\\\x03\\'))\\n\\n# or a collection (dictionary, set or frozen set)\\nfrozenTestSet = frozenset({1, 2})\\nprint(frozenTestSet, \\'length is\\', len(frozenTestSet))', '# list()\\n# Not a function, rather a mutable sequence type\\n# A sequence\\nprint(list((1, 2)))\\n# A collection\\nprint(list({\"1\": 2}))\\nprint(list(frozenset({1, 2})))\\n# An iterator object\\nx = iter([\"apple\", \"banana\", \"cherry\"])  # Returns an iterator object - no sentinel\\ny = enumerate([\"apple\", \"banana\", \"cherry\"])  # enumerate object\\nprint(list(x))\\nprint(list(y))', '# locals()\\n# Returns an updated dictionary of the current local symbol table\\n# A symbol table is a data structure maintained by a compiler - local + global\\n# it contains all necessary information about the program.\\nx = locals()\\nprint(x[\"__name__\"])', '# map()\\n# Returns an iterator that applies function to every item of iterable, yielding the results\\n# - the function to execute for each item can be defined with lambda\\n# - pass more than one iterable to the map() function.\\nx = map(lambda x, y: min(len(x), len(y)), (\\'nut\\', \\'banana\\', \\'pear\\'), (\\'orange\\', \\'lemon\\', \\'pineapple\\'))\\nprint(x)  # an iterator\\nprint(set(x))  # convert to set\\n\\n# make all elements of a list positive. \"abs\" is a function\\nmyList = [2,3,-3,-2]\\nprint(list(map(abs, myList)))', '# max()\\n# Returns the largest item in an iterable - \\nprint(max(set({0, 5, 2})))\\n# or the largest of two or more arguments\\nprint(max(0, -4))', '# memoryview()\\n# Returns a memory view object. obj must support buffer protocol (bytes, bytearray) - unlike bytes/str\\n\\n# Buffer protocol allows one object to expose its internal data (buffers)\\n# and the other to access those buffers (memory array) without intermediate copying.\\n\\n# This protocol is only accessible to us at the C-API level and not using our normal code base.\\n# So, in order to expose the same protocol to normal Python code base, memory views are present.\\n\\n# whenever we perform some action on an object (call a function of an object, slice an array)\\n# we (or Python) need to create a copy of the object.\\n\\n# Using buffer protocol, we can give another object access to use/modify the large data without copying it\\nba = bytearray(bytes(\"Simon\", \"utf-8\"))\\nx = memoryview(ba)\\nprint(x)\\nprint(id(ba))  # what is the difference between id() and memoryview? They should both give memory address?\\n# id(): \"This is the address of the object in memory\".\\n# The “memory view” object is specially created from the given argument\\n\\n# We accessed the mv\\'s 0th index (\\'A\\') and printed it (which gives the ASCII value - 75).\\nprint(x[0])\\n\\n# Since, the memory view object x references the same buffer/memory\\n# updating the index in x also updates randomByteArray.\\nx[1] = 79  # need to be a bytearray - otherwise, with immutable bytes, \"cannot modify read-only memory\"\\nprint(ba)', \"# min()\\n# Returns the smallest item in an iterable\\nnum = [15, 300, 2700, 821]\\nnum1 = [12, 2]\\nnum2 = [34, 567, 78]\\n\\n# using min(iterable, *iterables, key)\\nprint('Minimum is:', min(num, num1, num2, key=len))\", \"# next()\\n# Returns the next item in an iterable\\n# Return a default value when the iterable has reached to its end:\\n\\n# A list is an iterable and you can get iterator from it by using iter() function in Python.\\nrandom = [5, 9, 'cat']\\nrandomIterator = iter(random)  # iterator object\\nprint(randomIterator)\\n\\n# Output: 5\\nprint(next(randomIterator, '-1'))\\n\\n# Output: 9\\nprint(next(randomIterator, '-1'))\\n\\n# randomIterator is exhausted\\n# Output: '-1'\\nprint(next(randomIterator, '-1'))\\nprint(next(randomIterator, '-1'))\", '# object()\\n# Returns a new featureless object\\n# object is a base for all classes - You cannot add new properties or methods to this object\\ntest = object()\\n\\nprint(type(test))\\nprint(dir(test))  # all attributes\\n# object does not have a __dict__,\\n# so you can’t assign arbitrary attributes to an instance of the object class.', \"# oct()\\n# Converts a number into an octal\\nprint(oct(-56))\\nprint('%#o' % 10, '%o' % 10)\\nprint(f'{10:#o}', f'{10:o}')\\nprint(format(10, '#o'), format(10, 'o'))\", '# open()\\n# Opens a file and returns a file object\\n# Python has a encoding system which is platform dependent.\\nf = open(\"README.md\", mode = \\'r\\', encoding=\\'utf-8\\')\\n# Use \\'b\\' mode, to read/write binary data as is without any transformations such as converting newlines\\n# to/from platform-specific values or decoding/encoding text using a character encoding.\\n# >>> with open(\\'eggs.csv\\', \\'rb\\') as csvfile:', \"# ord()\\n# Convert an integer representing the Unicode of the specified character\\nord('€') # returns 8364\\n# inverse of chr()\", '# pow()\\n# Returns the value of x to the power of y\\nprint(pow(2, 3))\\n# equivalent to x**y\\nprint(pow(10, -2))', '# print()\\n# Print OBJECTS to the text stream file, separated by sep and followed by end\\n# The file argument must be an object with a write(string) method\\n#   if it is not present or None, sys.stdout will be used - standard output device (screen).\\nprint(\"Letter\", \"P\", sep=\" --- \")\\n# Since printed arguments are converted to text strings,\\n#   print() cannot be used with binary mode file objects.', '# property()\\n# Gets, sets, deletes a property value\\n\\n# The @property decorator turns the voltage() method into a “getter” for a read-only attribute\\n# with the same name, and it sets the docstring for voltage to “Get the current voltage.”\\nclass Parrot:\\n    def __init__(self):\\n        self._voltage = 100000\\n\\n    @property  # function decorator\\n    def voltage(self):\\n        \"\"\"Get the current voltage.\"\"\"\\n        return self._voltage\\n    \\n    @voltage.setter\\n    def voltage(self, value):\\n        self._voltage = value\\n\\n    @voltage.deleter\\n    def voltage(self):\\n        del self._voltage\\n# equivalent to\\n# voltage = property(get_voltage, set_voltage, del_voltage, \"I\\'m the \\'voltage\\' property.\")\\nParrot.voltage.__doc__\\nparrot = Parrot()\\nprint(parrot.voltage)\\nparrot.voltage = 10\\nprint(parrot.voltage)', \"# range()\\n# Rather than being a function, range is actually an immutable sequence type\\nx = range(10, 2, -1)\\n# x[1] = 2 - range(10, 2, -1) is immutable - 'range' object does not support item assignment\\n# use list() on it\\ny = list(x)\\ny[1] = 2\\nprint(y)\", \"# repr()\\n# Returns a printable representation of the given object.\\n# It returns a string that would yield an object with the same value when passed to eval().\\nx = 'Simon'\\nprint(repr(x))\\ny = eval(repr(x)) # (approximation that holds true for most of built-in types)\\nprint(y)\\n\\nclass Person:\\n    name = 'Simon'\\n    def __repr__(self):\\n        return repr(self.name)\\nrepr(Person())\", '# reversed()\\n# Returns a reversed iterator.\\n# Work with objects\\n# - that have implemented __reversed__()\\n# - or support sequence protocol (__len__() and __getitem__()) as tuple, string, list or range\\n# remember :\\n# - iter() function returns an iterator object\\n# - list.reverse() method reverses a List.\\nnms = [\"n\", \"m\", \"s\"]  # or range(5, 9)\\nsmn = reversed(nms)  # an iterator - convert it with list(reversed(seq))\\nfor x in smn:\\n    print(x)', '# round()\\n# Returns the floating point number rounded off to the given ndigits digits after the decimal point.\\nprint(round(5.9))', \"# set()\\n# Returns a new set object\\n# difference with list():\\n# - In a set you can only have one instances of a member.\\n# - The order of the elements is unknown,\\n# - x in a_set works in O(1) [O(len(list)) for list]. List length does not affect this query\\n# - __eq__ and __hash__ have to be defined to add object to a set()\\n# -- s.add([0]) unhashable type: 'list'\\n# -- hashable means could be used for dictionary key. Since list are mutable, they cannot. Unlike tuples\\n\\nprint(set(range(5)))\\n# for set\\nprint(set({'a', 'e', 'i', 'o', 'u'}))\\n# from dictionary\\nprint(set({'a':1, 'e': 2, 'i':3, 'o':4, 'u':5}))\\n# from frozen set\\nfrozenSet = frozenset(('a', 'e', 'i', 'o', 'u'))\\nprint(set(frozenSet))\", \"# setattr()\\n# Sets an attribute (property/method) of an object\\nclass Person:\\n    name = 'Simon'\\np = Person()\\n# setting attribute name to None\\nsetattr(p, 'name', None)\\nprint('Name is:', p.name)\\n\\n# setting an attribute not present - it creates one\\nsetattr(p, 'age', 23)\\nprint('Age is:', p.age)\", '# slice()\\n# Returns a slice object\\n# The slice object is used to slice a given sequence (string, bytes, tuple, list or range)\\n# or any object which supports sequence protocol (implements __getitem__() and __len__() method).\\na = (\"a\", \"b\", \"c\", \"d\", \"e\", \"f\", \"g\", \"h\")\\n# Use the step parameter to return every third item\\nx = slice(0, 8, 3) # returns a slice object\\nprint(a[x])', \"# sorted()\\n# Returns a sorted list\\n# string \\npyString = 'Python'\\nprint(sorted(pyString))\\n\\n# set\\npySet = {'e', 'a', 'u', 'o', 'i'}\\nprint(sorted(pySet, reverse=True))\\n\\n# dictionary\\npyDict = {'e': 1, 'a': 2, 'u': 3, 'o': 4, 'i': 5}\\nprint(sorted(pyDict, reverse=True))\\n\\n# frozen set\\npyFSet = frozenset(('e', 'a', 'u', 'o', 'i'))\\nprint(sorted(pyFSet, reverse=True))\\n\\n# take second element for sort\\ndef takeSecond(elem):\\n    return elem[1]\\n# random list\\nrandom = [(2, 2), (3, 4), (4, 1), (1, 3)]\\n# sort list with key\\nsortedList = sorted(random, key=takeSecond)\\n# print list\\nprint('Sorted list:', sortedList)\", '# @staticmethod()\\n# Converts a method into a static method - function decorator\\n# It can be called either on the class (such as C.f()) or on an instance (such as C().f()).\\nclass C:\\n    builtin_open = staticmethod(open)', \"# str()\\n# Return a str version of object\\nprint(str(int))\\n# If encoding and errors parameter is provided,\\n#   the first parameter (object) should be a bytes-like-object (bytes or bytearray).\\n# bytes\\nb = bytes('pythön', encoding='utf-8')\\nprint(str(b, encoding='ascii', errors='ignore'))\", \"# sum()\\n# Sums the items of an iterator\\na = (1, 2, 3, 4, 5)\\nx = sum(a, 7)  # start with 7\\nprint(x)\\n# For some use cases, there are good alternatives to sum().\\ntest = {'Python', 'Java', 'Ruby'}\\ns = '->->'\\nprint(s.join(test))\", \"# tuple()\\n# Returns a tuple - immutable\\nt = tuple()\\n# t.add([0]) immutable - 'tuple' object has no attribute 'add'\\n\\n# Differences with set / list\\n# - Tuples are heterogeneous data structures (i.e., their entries have different meanings)\\n# -- e.g. (page, line) to classify lines in a book\\n# -- You can then use this as a key in a dictionary to store notes on locations.\\n# -- Named tuples assign meaning to each position in a tuple. Light-weight alternative to classes \\nfrom collections import namedtuple\\nPoint = namedtuple('Point', ['x', 'y'])\\np = Point(11, y=22)     # instantiate with positional or keyword arguments\\np[0] + p[1]             # indexable like the plain tuple (11, 22)\", '# type()\\n# Returns the type of an object\\n# Prefer isinstance() to check type of an object\\n# It is generally the same object as returned by object.__class__.\\nx = {\"s\"}\\nprint(x.__class__)\\nprint(type(x))\\n\\n# Create a type object Using type()\\no1 = type(\\'X\\', (object,), dict(a=\\'Foo\\', b=12))  # \"object\" or the name of a class\\nprint(type(o1))\\nprint(vars(o1))', '# vars()\\n# Returns the __dict__ property of an object\\n# If no argument is passed to vars(), this function acts like locals() function.\\nclass Foo:\\n    def __init__(self, a = 5, b = 10):\\n        self.a = a\\n        self.b = b\\nInstanceOfFoo = Foo()\\nprint(vars(InstanceOfFoo))\\nprint(InstanceOfFoo.__dict__)\\n\\nprint(vars())\\nprint(locals())'], 'Out': {1: 90, 2: False, 19: 3, 48: 8364, 53: \"'Simon'\", 63: 33}, 'get_ipython': <bound method InteractiveShell.get_ipython of <ipykernel.zmqshell.ZMQInteractiveShell object at 0x00000287B5B61588>>, 'exit': <IPython.core.autocall.ZMQExitAutocall object at 0x00000287B5BA99B0>, 'quit': <IPython.core.autocall.ZMQExitAutocall object at 0x00000287B5BA99B0>, '_': 33, '__': \"'Simon'\", '___': 8364, 'json': <module 'json' from 'C:\\\\Users\\\\simon.chauvin\\\\AppData\\\\Local\\\\Continuum\\\\anaconda3\\\\lib\\\\json\\\\__init__.py'>, '_i': '# type()\\n# Returns the type of an object\\n# Prefer isinstance() to check type of an object\\n# It is generally the same object as returned by object.__class__.\\nx = {\"s\"}\\nprint(x.__class__)\\nprint(type(x))\\n\\n# Create a type object Using type()\\no1 = type(\\'X\\', (object,), dict(a=\\'Foo\\', b=12))  # \"object\" or the name of a class\\nprint(type(o1))\\nprint(vars(o1))', '_ii': \"# tuple()\\n# Returns a tuple - immutable\\nt = tuple()\\n# t.add([0]) immutable - 'tuple' object has no attribute 'add'\\n\\n# Differences with set / list\\n# - Tuples are heterogeneous data structures (i.e., their entries have different meanings)\\n# -- e.g. (page, line) to classify lines in a book\\n# -- You can then use this as a key in a dictionary to store notes on locations.\\n# -- Named tuples assign meaning to each position in a tuple. Light-weight alternative to classes \\nfrom collections import namedtuple\\nPoint = namedtuple('Point', ['x', 'y'])\\np = Point(11, y=22)     # instantiate with positional or keyword arguments\\np[0] + p[1]             # indexable like the plain tuple (11, 22)\", '_iii': \"# sum()\\n# Sums the items of an iterator\\na = (1, 2, 3, 4, 5)\\nx = sum(a, 7)  # start with 7\\nprint(x)\\n# For some use cases, there are good alternatives to sum().\\ntest = {'Python', 'Java', 'Ruby'}\\ns = '->->'\\nprint(s.join(test))\", '_i1': '# abs()\\n# Returns the absolute value of a number\\nn = -90\\nabs(n)', 'n': 2, '_1': 90, '_i2': '# all()\\n# Returns True if all items in an iterable object (list, set, tuple, keys of dict) are true\\nmy_set = {1, 1}\\nprint(all(my_set))\\nmy_set.update([1, 0])\\nprint(all(my_set))\\n\\n# see numpy array_equal, allclose and array_equiv\\nimport numpy as np\\nA = np.array([1, 2, 3])\\nB = np.array([1, 2, 3.1])\\n# (A==B).all()\\n(abs(A-B) < 0.05).all()  # max(abs(V-old_V)) < theta', 'my_set': {0, 1}, 'np': <module 'numpy' from 'C:\\\\Users\\\\simon.chauvin\\\\AppData\\\\Local\\\\Continuum\\\\anaconda3\\\\lib\\\\site-packages\\\\numpy\\\\__init__.py'>, 'A': array([1, 2, 3]), 'B': array([ 1. ,  2. ,  3.1]), '_2': False, '_i3': '# any()\\n# Returns True if any item in an iterable object is true\\nmy_dict = {1 : \"si\", 1 : \"mon\"}\\nprint(any(my_dict))', 'my_dict': {1: 'mon'}, '_i4': '# ascii()\\n# Returns a readable version of an object. Replaces none-ascii characters with escape character\\nprint(ascii(\"Viele Grüße\"))', '_i5': '# bin()\\n# Returns the binary version of a number\\nprint(bin(42))', '_i6': '# bool()\\n# Returns the boolean value of the specified object\\nnon_boolean_false_examples = [[], (), (0), {}, \"\", None, 0, 0.0, False]\\nnon_boolean_true_examples = [[0], {\"\": 0}, \"0\", 0.1, True]\\nprint([bool(elem) for elem in non_boolean_false_examples])\\nprint([bool(elem) for elem in non_boolean_true_examples])', 'non_boolean_false_examples': [[], (), 0, {}, '', None, 0, 0.0, False], 'non_boolean_true_examples': [[0], {'': 0}, '0', 0.1, True], '_i7': '# bytearray()\\n# Returns an a mutable sequence of bytes (integers in the range 0 <= x < 256)\\narr = bytearray(\"simon\", \\'utf-8\\')  # when using strings, specify the encoding. Here \\'utf-8\\'\\narr2 = arr.replace(b\\'s\\', b\\'x\\')\\nprint(arr)  # the byte content (immutable) of arr (mutable) is not changed by \"replace()\"\\nprint(arr2)\\narr[0] = 78  # bytearray of arr is mutable\\nprint(arr)', 'arr': b'Py', 'arr2': bytearray(b'ximon'), '_i8': '# bytes()\\n# Return a new “bytes” object, which is an immutable sequence of integers in the range 0 <= x < 256\\narr = bytes(\"Py\", \\'utf-8\\') \\nprint(arr in b\\'Python\\')\\nprint(arr in bytes(\"Pyplot\", \"utf-8\"))\\nprint(arr in bytes(\"Pyplot\", \"utf-16\"))', '_i9': '# callable()\\n# Returns True if callable (i.e. instance of a class with a __call__ method), otherwise False\\nx = 42\\ndef testFunction():\\n  print(\"Simon\")\\ny = testFunction  # y is an instance of a class with a __call__ method\\nprint(callable(x), callable(y))', 'x': {'s'}, 'testFunction': <function testFunction at 0x00000287C50332F0>, 'y': 'Simon', '_i10': '# chr()\\n# Returns a character from the specified Unicode code.\\nunicode_version = ord(\"S\")\\ninitial_version = chr(unicode_version)\\nprint(unicode_version, initial_version)', 'unicode_version': 83, 'initial_version': 'S', '_i11': '# classmethod()\\n# Converts a method into a class method. Note: better use the function decorator @classmethod\\nclass Person:\\n    age = 25\\n\\n    def printAge(cls):  # mind \"cls\" and not \"self\"\\n        print(\\'The age is:\\', cls.age)  # mind \"cls.age\" and not \"self.age\"\\n\\n# create printAge class method\\nPerson.printAge = classmethod(Person.printAge)\\n# call printAge without creating a Person object\\nPerson.printAge()', 'Person': <class '__main__.Person'>, '_i12': '# compile()\\n# converts the string (normal string, a byte string, or an AST object) to Python code object.\\n# The code object is then executed using mode exec() or eval().\\ncodeInString = \\'a = 5\\\\nb=6\\\\nsum=a+b\\\\nprint(\"sum =\",sum)\\'\\ncodeObejct = compile(codeInString, filename=\\'sumstring\\', mode=\\'exec\\')\\n\\nexec(codeObejct)', 'codeInString': 'a = 5\\nb=6\\nsum=a+b\\nprint(\"sum =\",sum)', 'codeObejct': <code object <module> at 0x00000287C4FFD660, file \"sumstring\", line 1>, 'a': (1, 2, 3, 4, 5), 'b': b'pyth\\xc3\\xb6n', 'sum': 11, '_i13': \"# complex()\\n# Returns a complex number\\nx, y = complex('3+5j'), 2\\nprint(x + y)\", '_i14': '# delattr()\\n# Deletes the specified attribute (property or method) from the specified object\\nfrom pprint import pprint\\nclass Person:\\n    name = \"John\"  # class variable shared by all instances\\n    age = 24  # class variable shared by all instances\\npprint(vars(Person))\\ndelattr(Person, \\'age\\')  # throw AttributeError when we try to access that removed attribute.\\nprint(Person)\\npprint(vars(Person))', 'pprint': <function pprint at 0x00000287B34F4598>, '_i15': \"# dict()\\n# Returns a “associative memories” or “associative arrays”\\n# Using keyword arguments only\\ndict_keyword = dict(x=5, y=0)\\n\\n# Using Iterable\\ndict_iterable0 = dict([('x', 5), ('y', -5)], z=8)\\ndict_iterable1 = dict(list(zip(['x', 'y', 'z'], [1, 2, 3])))\\n\\n# Using Mapping\\ndict_mapping = dict({'x': 4, 'y': 5}, z=8)\\n\\nprint('dict_keyword =', dict_keyword)\\nprint('dict_iterable0 =', dict_iterable0)\\nprint('dict_iterable1 =', dict_iterable1)\\nprint('dict_mapping =', dict_mapping)\", 'dict_keyword': {'x': 5, 'y': 0}, 'dict_iterable0': {'x': 5, 'y': -5, 'z': 8}, 'dict_iterable1': {'x': 1, 'y': 2, 'z': 3}, 'dict_mapping': {'x': 4, 'y': 5, 'z': 8}, '_i16': '# dir()\\n# Returns a list of the specified object\\'s properties and methods\\nprint(dir(), \"\\\\n\")  # Without arguments, return the list of names in the current local scope.\\nprint(dir(set), \"\\\\n\")  # show the names in the set type \\nx = 2\\nprint(dir(x), \"\\\\n\")\\nprint(x.__abs__())', '_i17': '# divmod()\\n# Returns the quotient and the remainder when argument1 is divided by argument2\\nq, r = divmod(5, 2)\\nprint(\"q = {}, r = {}\".format(q, r))', 'q': 2, 'r': 1, '_i18': '# enumerate()\\n# Takes a collection (e.g. a tuple) and returns it as an enumerate object\\ndef my_enumerate(sequence, start=0):\\n    n = start\\n    for elem in sequence:\\n        yield n, elem\\n        n += 1\\nprint(enumerate([\"zero\", \"one\", \"two\"]))  # <generator object ...> due to \"yield\". Need to apply \"list()\"\\nprint(my_enumerate([\"zero\", \"one\", \"two\"]))\\nfor n, elem in my_enumerate([\"zero\", \"one\", \"two\"]):\\n    print(\"n = {}, elem = {}\".format(n, elem))\\n# Sort of map\\nprint(list(enumerate([\"zero\", \"one\", \"two\"], start=1)))', 'my_enumerate': <function my_enumerate at 0x00000287C5033730>, 'elem': 'two', '_i19': \"# eval()\\n# Evaluates and executes an expression\\n# Don't put input() inside an eval statement - eval(input()) - since input() can be os.system('rm -R *')\\nx = 2\\neval('x+1')\", '_19': 3, '_i20': '# exec()\\n# Executes the specified code (or string) - dynamic execution of Python code\\nx = \\'name = \"Simon\"\\\\nprint(name)\\'\\nexec(x)', 'name': 'Simon', '_i21': '# filter()\\n# Use a filter function to exclude items in an iterable object\\niterable = (0, 1, 2, 3)\\ndef function(x):\\n    return divmod(x, 2) == (1, 0)\\nprint(list(item for item in iterable if function(item)))', 'iterable': {'name': 'John', 'age': 23, 'sex': 'male'}, 'function': <function function at 0x00000287C504D1E0>, '_i22': \"# float()\\n# Returns a floating point number\\nprint(float('+1E2'))\\nprint(float('-Infinity'))\", '_i23': '# format()\\n# Formats a specified value\\nprint(\"{}\".format(255))  # a different function\\nprint(format(255, \\'x\\'))  # hexadecimal value\\nprint(format(255, \\'b\\'))  # Binary format\\nprint(format(0.5, \\'%\\'))  # percentage', '_i24': '# frozenset()\\n# Returns a immutable frozenset object initialized with elements from the given iterable.\\n# when you use dictionary as an iterable for a frozen set, it only takes key of the dictionary\\niterable = {\"name\": \"John\", \"age\": 23, \"sex\": \"male\"}\\nf_set = frozenset(iterable)  # like sets, it is not ordered\\nprint(\\'The frozen set is:\\', f_set)\\n# f_set[1] = \"Simon\"  # \\'frozenset\\' object does not support item assignment', 'f_set': frozenset({'age', 'sex', 'name'}), '_i25': '# getattr()\\n# Returns the value of the specified attribute (property or method)\\n# getattr(x, \\'foobar\\') is equivalent to x.foobar\\nx = 2\\nprint(getattr(x, \"real\"))\\nprint(x.real)', '_i26': \"# globals()\\n# Returns the current global symbol table as a dictionary\\nage = 18\\nprint(globals()['age'])\\n# Modify global variable using global()\\nglobals()['age'] = 25\\nprint('The age is:', age)\", 'age': 25, '_i27': '# hasattr()\\n# Returns True if the specified object has the specified attribute (property/method)\\nx = 2\\nprint(hasattr(x, \"numerator\"))  # data attribute\\nx = \"2\"\\nprint(hasattr(x, \"split\"))  # method', '_i28': \"# hash()\\n# Returns the hash value of a specified object\\n# hash for integer unchanged\\nprint('Hash for 181 is: {}'.format(hash(181)))\\n# hash for decimal\\nprint('Hash for 181.23 is: {}'.format(hash(181.23)))\\n# tuple of vowels\\nvowels = ('a', 'e', 'i', 'o', 'u')\\nprint('The hash is: {}'.format(hash(vowels)))\\n\\n# Comparison based on hash()\\nclass Person:\\n    def __init__(self, age, name):\\n        self.age = age\\n        self.name = name\\n\\n    def __eq__(self, other):\\n        return self.__hash__() == other.__hash__()\\n#         return self.age == other.age and self.name == other.name\\n\\n    def __hash__(self):\\n        return hash((self.age, self.name))\\nperson = Person(23, 'Adam')\\nother = Person(23, 'Adam')\\nprint(hash(person))\\nprint(person.__eq__(other))\", 'vowels': ('a', 'e', 'i', 'o', 'u'), 'person': <__main__.Person object at 0x00000287B6C90A90>, 'other': <__main__.Person object at 0x00000287B6C90AC8>, '_i29': '# help()\\n# If no argument is passed, Python\\'s help utility (interactive help system) starts on the console.\\n# enter \"quit\" to exit\\nprint(\"help\")\\nhelp()', '_i30': '# hex()\\n# Converts a number into a hexadecimal value\\nprint(hex(255))', '_i31': \"# id()\\n# Returns the id of an object\\n# CPython implementation detail: This is the address of the object in memory.\\nprint('id of 5 =',id(5))  #  integer 5 has a unique id.\\na = 5\\nprint('id of a =',id(a))\\nb = a\\nprint('id of b =',id(b))\\nb = b + 1\\nprint('id of new b =',id(b))\\nc = 5.0\\nprint('id of c =',id(c))  # float\", 'c': 5.0, '_i32': \"# input()\\n# Allowing user input\\n# get input from user\\ninputString = input('Enter a string:')\\nprint('The inputted string is:', inputString)\", 'inputString': '', '_i33': '# int()\\n# Returns an integer number\\nprint(int(-2.4))\\nprint(\"For 1010, int is:\", int(\\'1010\\', base=2))', '_i34': \"# isinstance()\\n# Returns True if a specified object is an instance of a specified object\\nnumbers = [1, 2, 3]\\nresult = isinstance(numbers, (dict, list))\\nprint(numbers,'instance of dict or list?', result)\", 'numbers': [1, 2, 3], 'result': True, '_i35': '# issubclass()\\n# Returns True if a specified class is a subclass of a specified object\\nprint(issubclass(int, (list, int)))', '_i36': '# iter()\\n# Returns an iterator object - creates an object which can be iterated one element at a time.\\n# If the second argument, sentinel, is given, then object must be a callable object\\nwith open(\\'README.md\\') as fp:  # read lines of a file until a certain line (empty character) is reached\\n    for line in iter(fp.readline, \"\"):  # iter(v, w): v must be callable\\n        print(line)\\n# Without a second argument, object must be\\n# -a collection object which supports the iteration protocol (the __iter__() method),\\n# -or must support the sequence protocol (the __getitem__() method with integer arguments starting at 0)\\nx = iter([\"apple\", \"banana\", \"cherry\"])  # Returns an iterator object - no sentinel\\nprint(next(x))\\nprint(next(x))\\nprint(next(x))', 'fp': <_io.TextIOWrapper name='README.md' mode='r' encoding='cp1252'>, 'line': '\\n', '_i37': '# len()\\n# Returns the length of an object\\n# with a sequence (string, bytes, tuple, list, or range)\\nprint(len(bytes(\"Simon\", \"utf-8\")))\\nprint(len(b\\'\\\\x01\\\\x02\\\\x03\\'))\\n\\n# or a collection (dictionary, set or frozen set)\\nfrozenTestSet = frozenset({1, 2})\\nprint(frozenTestSet, \\'length is\\', len(frozenTestSet))', 'frozenTestSet': frozenset({1, 2}), '_i38': '# list()\\n# Not a function, rather a mutable sequence type\\n# A sequence\\nprint(list((1, 2)))\\n# A collection\\nprint(list({\"1\": 2}))\\nprint(list(frozenset({1, 2})))\\n# An iterator object\\nx = iter([\"apple\", \"banana\", \"cherry\"])  # Returns an iterator object - no sentinel\\ny = enumerate([\"apple\", \"banana\", \"cherry\"])  # enumerate object\\nprint(list(x))\\nprint(list(y))', '_i39': '# locals()\\n# Returns an updated dictionary of the current local symbol table\\n# A symbol table is a data structure maintained by a compiler - local + global\\n# it contains all necessary information about the program.\\nx = locals()\\nprint(x[\"__name__\"])', '_i40': '# map()\\n# Returns an iterator that applies function to every item of iterable, yielding the results\\n# - the function to execute for each item can be defined with lambda\\n# - pass more than one iterable to the map() function.\\nx = map(lambda x, y: min(len(x), len(y)), (\\'nut\\', \\'banana\\', \\'pear\\'), (\\'orange\\', \\'lemon\\', \\'pineapple\\'))\\nprint(x)  # an iterator\\nprint(set(x))  # convert to set\\n\\n# make all elements of a list positive. \"abs\" is a function\\nmyList = [2,3,-3,-2]\\nprint(list(map(abs, myList)))', 'myList': [2, 3, -3, -2], '_i41': '# max()\\n# Returns the largest item in an iterable - \\nprint(max(set({0, 5, 2})))\\n# or the largest of two or more arguments\\nprint(max(0, -4))', '_i42': '# memoryview()\\n# Returns a memory view object. obj must support buffer protocol (bytes, bytearray) - unlike bytes/str\\n\\n# Buffer protocol allows one object to expose its internal data (buffers)\\n# and the other to access those buffers (memory array) without intermediate copying.\\n\\n# This protocol is only accessible to us at the C-API level and not using our normal code base.\\n# So, in order to expose the same protocol to normal Python code base, memory views are present.\\n\\n# whenever we perform some action on an object (call a function of an object, slice an array)\\n# we (or Python) need to create a copy of the object.\\n\\n# Using buffer protocol, we can give another object access to use/modify the large data without copying it\\nba = bytearray(bytes(\"Simon\", \"utf-8\"))\\nx = memoryview(ba)\\nprint(x)\\nprint(id(ba))  # what is the difference between id() and memoryview? They should both give memory address?\\n# id(): \"This is the address of the object in memory\".\\n# The “memory view” object is specially created from the given argument\\n\\n# We accessed the mv\\'s 0th index (\\'A\\') and printed it (which gives the ASCII value - 75).\\nprint(x[0])\\n\\n# Since, the memory view object x references the same buffer/memory\\n# updating the index in x also updates randomByteArray.\\nx[1] = 79  # need to be a bytearray - otherwise, with immutable bytes, \"cannot modify read-only memory\"\\nprint(ba)', 'ba': bytearray(b'SOmon'), '_i43': \"# min()\\n# Returns the smallest item in an iterable\\nnum = [15, 300, 2700, 821]\\nnum1 = [12, 2]\\nnum2 = [34, 567, 78]\\n\\n# using min(iterable, *iterables, key)\\nprint('Minimum is:', min(num, num1, num2, key=len))\", 'num': [15, 300, 2700, 821], 'num1': [12, 2], 'num2': [34, 567, 78], '_i44': \"# next()\\n# Returns the next item in an iterable\\n# Return a default value when the iterable has reached to its end:\\n\\n# A list is an iterable and you can get iterator from it by using iter() function in Python.\\nrandom = [5, 9, 'cat']\\nrandomIterator = iter(random)  # iterator object\\nprint(randomIterator)\\n\\n# Output: 5\\nprint(next(randomIterator, '-1'))\\n\\n# Output: 9\\nprint(next(randomIterator, '-1'))\\n\\n# randomIterator is exhausted\\n# Output: '-1'\\nprint(next(randomIterator, '-1'))\\nprint(next(randomIterator, '-1'))\", 'random': [(2, 2), (3, 4), (4, 1), (1, 3)], 'randomIterator': <list_iterator object at 0x00000287B6D132E8>, '_i45': '# object()\\n# Returns a new featureless object\\n# object is a base for all classes - You cannot add new properties or methods to this object\\ntest = object()\\n\\nprint(type(test))\\nprint(dir(test))  # all attributes\\n# object does not have a __dict__,\\n# so you can’t assign arbitrary attributes to an instance of the object class.', 'test': <object object at 0x00000287B5816410>, '_i46': \"# oct()\\n# Converts a number into an octal\\nprint(oct(-56))\\nprint('%#o' % 10, '%o' % 10)\\nprint(f'{10:#o}', f'{10:o}')\\nprint(format(10, '#o'), format(10, 'o'))\", '_i47': '# open()\\n# Opens a file and returns a file object\\n# Python has a encoding system which is platform dependent.\\nf = open(\"README.md\", mode = \\'r\\', encoding=\\'utf-8\\')\\n# Use \\'b\\' mode, to read/write binary data as is without any transformations such as converting newlines\\n# to/from platform-specific values or decoding/encoding text using a character encoding.\\n# >>> with open(\\'eggs.csv\\', \\'rb\\') as csvfile:', 'f': <_io.TextIOWrapper name='README.md' mode='r' encoding='utf-8'>, '_i48': \"# ord()\\n# Convert an integer representing the Unicode of the specified character\\nord('€') # returns 8364\\n# inverse of chr()\", '_48': 8364, '_i49': '# pow()\\n# Returns the value of x to the power of y\\nprint(pow(2, 3))\\n# equivalent to x**y\\nprint(pow(10, -2))', '_i50': '# print()\\n# Print OBJECTS to the text stream file, separated by sep and followed by end\\n# The file argument must be an object with a write(string) method\\n#   if it is not present or None, sys.stdout will be used - standard output device (screen).\\nprint(\"Letter\", \"P\", sep=\" --- \")\\n# Since printed arguments are converted to text strings,\\n#   print() cannot be used with binary mode file objects.', '_i51': '# property()\\n# Gets, sets, deletes a property value\\n\\n# The @property decorator turns the voltage() method into a “getter” for a read-only attribute\\n# with the same name, and it sets the docstring for voltage to “Get the current voltage.”\\nclass Parrot:\\n    def __init__(self):\\n        self._voltage = 100000\\n\\n    @property  # function decorator\\n    def voltage(self):\\n        \"\"\"Get the current voltage.\"\"\"\\n        return self._voltage\\n    \\n    @voltage.setter\\n    def voltage(self, value):\\n        self._voltage = value\\n\\n    @voltage.deleter\\n    def voltage(self):\\n        del self._voltage\\n# equivalent to\\n# voltage = property(get_voltage, set_voltage, del_voltage, \"I\\'m the \\'voltage\\' property.\")\\nParrot.voltage.__doc__\\nparrot = Parrot()\\nprint(parrot.voltage)\\nparrot.voltage = 10\\nprint(parrot.voltage)', 'Parrot': <class '__main__.Parrot'>, 'parrot': <__main__.Parrot object at 0x00000287C50534E0>, '_i52': \"# range()\\n# Rather than being a function, range is actually an immutable sequence type\\nx = range(10, 2, -1)\\n# x[1] = 2 - range(10, 2, -1) is immutable - 'range' object does not support item assignment\\n# use list() on it\\ny = list(x)\\ny[1] = 2\\nprint(y)\", '_i53': \"# repr()\\n# Returns a printable representation of the given object.\\n# It returns a string that would yield an object with the same value when passed to eval().\\nx = 'Simon'\\nprint(repr(x))\\ny = eval(repr(x)) # (approximation that holds true for most of built-in types)\\nprint(y)\\n\\nclass Person:\\n    name = 'Simon'\\n    def __repr__(self):\\n        return repr(self.name)\\nrepr(Person())\", '_53': \"'Simon'\", '_i54': '# reversed()\\n# Returns a reversed iterator.\\n# Work with objects\\n# - that have implemented __reversed__()\\n# - or support sequence protocol (__len__() and __getitem__()) as tuple, string, list or range\\n# remember :\\n# - iter() function returns an iterator object\\n# - list.reverse() method reverses a List.\\nnms = [\"n\", \"m\", \"s\"]  # or range(5, 9)\\nsmn = reversed(nms)  # an iterator - convert it with list(reversed(seq))\\nfor x in smn:\\n    print(x)', 'nms': ['n', 'm', 's'], 'smn': <list_reverseiterator object at 0x00000287C5070278>, '_i55': '# round()\\n# Returns the floating point number rounded off to the given ndigits digits after the decimal point.\\nprint(round(5.9))', '_i56': \"# set()\\n# Returns a new set object\\n# difference with list():\\n# - In a set you can only have one instances of a member.\\n# - The order of the elements is unknown,\\n# - x in a_set works in O(1) [O(len(list)) for list]. List length does not affect this query\\n# - __eq__ and __hash__ have to be defined to add object to a set()\\n# -- s.add([0]) unhashable type: 'list'\\n# -- hashable means could be used for dictionary key. Since list are mutable, they cannot. Unlike tuples\\n\\nprint(set(range(5)))\\n# for set\\nprint(set({'a', 'e', 'i', 'o', 'u'}))\\n# from dictionary\\nprint(set({'a':1, 'e': 2, 'i':3, 'o':4, 'u':5}))\\n# from frozen set\\nfrozenSet = frozenset(('a', 'e', 'i', 'o', 'u'))\\nprint(set(frozenSet))\", 'frozenSet': frozenset({'u', 'a', 'i', 'o', 'e'}), '_i57': \"# setattr()\\n# Sets an attribute (property/method) of an object\\nclass Person:\\n    name = 'Simon'\\np = Person()\\n# setting attribute name to None\\nsetattr(p, 'name', None)\\nprint('Name is:', p.name)\\n\\n# setting an attribute not present - it creates one\\nsetattr(p, 'age', 23)\\nprint('Age is:', p.age)\", 'p': Point(x=11, y=22), '_i58': '# slice()\\n# Returns a slice object\\n# The slice object is used to slice a given sequence (string, bytes, tuple, list or range)\\n# or any object which supports sequence protocol (implements __getitem__() and __len__() method).\\na = (\"a\", \"b\", \"c\", \"d\", \"e\", \"f\", \"g\", \"h\")\\n# Use the step parameter to return every third item\\nx = slice(0, 8, 3) # returns a slice object\\nprint(a[x])', '_i59': \"# sorted()\\n# Returns a sorted list\\n# string \\npyString = 'Python'\\nprint(sorted(pyString))\\n\\n# set\\npySet = {'e', 'a', 'u', 'o', 'i'}\\nprint(sorted(pySet, reverse=True))\\n\\n# dictionary\\npyDict = {'e': 1, 'a': 2, 'u': 3, 'o': 4, 'i': 5}\\nprint(sorted(pyDict, reverse=True))\\n\\n# frozen set\\npyFSet = frozenset(('e', 'a', 'u', 'o', 'i'))\\nprint(sorted(pyFSet, reverse=True))\\n\\n# take second element for sort\\ndef takeSecond(elem):\\n    return elem[1]\\n# random list\\nrandom = [(2, 2), (3, 4), (4, 1), (1, 3)]\\n# sort list with key\\nsortedList = sorted(random, key=takeSecond)\\n# print list\\nprint('Sorted list:', sortedList)\", 'pyString': 'Python', 'pySet': {'u', 'a', 'i', 'o', 'e'}, 'pyDict': {'e': 1, 'a': 2, 'u': 3, 'o': 4, 'i': 5}, 'pyFSet': frozenset({'u', 'a', 'i', 'o', 'e'}), 'takeSecond': <function takeSecond at 0x00000287C504DC80>, 'sortedList': [(4, 1), (2, 2), (1, 3), (3, 4)], '_i60': '# @staticmethod()\\n# Converts a method into a static method - function decorator\\n# It can be called either on the class (such as C.f()) or on an instance (such as C().f()).\\nclass C:\\n    builtin_open = staticmethod(open)', 'C': <class '__main__.C'>, '_i61': \"# str()\\n# Return a str version of object\\nprint(str(int))\\n# If encoding and errors parameter is provided,\\n#   the first parameter (object) should be a bytes-like-object (bytes or bytearray).\\n# bytes\\nb = bytes('pythön', encoding='utf-8')\\nprint(str(b, encoding='ascii', errors='ignore'))\", '_i62': \"# sum()\\n# Sums the items of an iterator\\na = (1, 2, 3, 4, 5)\\nx = sum(a, 7)  # start with 7\\nprint(x)\\n# For some use cases, there are good alternatives to sum().\\ntest = {'Python', 'Java', 'Ruby'}\\ns = '->->'\\nprint(s.join(test))\", '_i63': \"# tuple()\\n# Returns a tuple - immutable\\nt = tuple()\\n# t.add([0]) immutable - 'tuple' object has no attribute 'add'\\n\\n# Differences with set / list\\n# - Tuples are heterogeneous data structures (i.e., their entries have different meanings)\\n# -- e.g. (page, line) to classify lines in a book\\n# -- You can then use this as a key in a dictionary to store notes on locations.\\n# -- Named tuples assign meaning to each position in a tuple. Light-weight alternative to classes \\nfrom collections import namedtuple\\nPoint = namedtuple('Point', ['x', 'y'])\\np = Point(11, y=22)     # instantiate with positional or keyword arguments\\np[0] + p[1]             # indexable like the plain tuple (11, 22)\", 't': (), 'namedtuple': <function namedtuple at 0x00000287B2E6C7B8>, 'Point': <class '__main__.Point'>, '_63': 33, '_i64': '# type()\\n# Returns the type of an object\\n# Prefer isinstance() to check type of an object\\n# It is generally the same object as returned by object.__class__.\\nx = {\"s\"}\\nprint(x.__class__)\\nprint(type(x))\\n\\n# Create a type object Using type()\\no1 = type(\\'X\\', (object,), dict(a=\\'Foo\\', b=12))  # \"object\" or the name of a class\\nprint(type(o1))\\nprint(vars(o1))', 'o1': <class '__main__.X'>, '_i65': '# vars()\\n# Returns the __dict__ property of an object\\n# If no argument is passed to vars(), this function acts like locals() function.\\nclass Foo:\\n    def __init__(self, a = 5, b = 10):\\n        self.a = a\\n        self.b = b\\nInstanceOfFoo = Foo()\\nprint(vars(InstanceOfFoo))\\nprint(InstanceOfFoo.__dict__)\\n\\nprint(vars())\\nprint(locals())', 'Foo': <class '__main__.Foo'>, 'InstanceOfFoo': <__main__.Foo object at 0x00000287B6C90E10>}\n",
      "{'__name__': '__main__', '__doc__': 'Automatically created module for IPython interactive environment', '__package__': None, '__loader__': None, '__spec__': None, '__builtin__': <module 'builtins' (built-in)>, '__builtins__': <module 'builtins' (built-in)>, '_ih': ['', '# abs()\\n# Returns the absolute value of a number\\nn = -90\\nabs(n)', '# all()\\n# Returns True if all items in an iterable object (list, set, tuple, keys of dict) are true\\nmy_set = {1, 1}\\nprint(all(my_set))\\nmy_set.update([1, 0])\\nprint(all(my_set))\\n\\n# see numpy array_equal, allclose and array_equiv\\nimport numpy as np\\nA = np.array([1, 2, 3])\\nB = np.array([1, 2, 3.1])\\n# (A==B).all()\\n(abs(A-B) < 0.05).all()  # max(abs(V-old_V)) < theta', '# any()\\n# Returns True if any item in an iterable object is true\\nmy_dict = {1 : \"si\", 1 : \"mon\"}\\nprint(any(my_dict))', '# ascii()\\n# Returns a readable version of an object. Replaces none-ascii characters with escape character\\nprint(ascii(\"Viele Grüße\"))', '# bin()\\n# Returns the binary version of a number\\nprint(bin(42))', '# bool()\\n# Returns the boolean value of the specified object\\nnon_boolean_false_examples = [[], (), (0), {}, \"\", None, 0, 0.0, False]\\nnon_boolean_true_examples = [[0], {\"\": 0}, \"0\", 0.1, True]\\nprint([bool(elem) for elem in non_boolean_false_examples])\\nprint([bool(elem) for elem in non_boolean_true_examples])', '# bytearray()\\n# Returns an a mutable sequence of bytes (integers in the range 0 <= x < 256)\\narr = bytearray(\"simon\", \\'utf-8\\')  # when using strings, specify the encoding. Here \\'utf-8\\'\\narr2 = arr.replace(b\\'s\\', b\\'x\\')\\nprint(arr)  # the byte content (immutable) of arr (mutable) is not changed by \"replace()\"\\nprint(arr2)\\narr[0] = 78  # bytearray of arr is mutable\\nprint(arr)', '# bytes()\\n# Return a new “bytes” object, which is an immutable sequence of integers in the range 0 <= x < 256\\narr = bytes(\"Py\", \\'utf-8\\') \\nprint(arr in b\\'Python\\')\\nprint(arr in bytes(\"Pyplot\", \"utf-8\"))\\nprint(arr in bytes(\"Pyplot\", \"utf-16\"))', '# callable()\\n# Returns True if callable (i.e. instance of a class with a __call__ method), otherwise False\\nx = 42\\ndef testFunction():\\n  print(\"Simon\")\\ny = testFunction  # y is an instance of a class with a __call__ method\\nprint(callable(x), callable(y))', '# chr()\\n# Returns a character from the specified Unicode code.\\nunicode_version = ord(\"S\")\\ninitial_version = chr(unicode_version)\\nprint(unicode_version, initial_version)', '# classmethod()\\n# Converts a method into a class method. Note: better use the function decorator @classmethod\\nclass Person:\\n    age = 25\\n\\n    def printAge(cls):  # mind \"cls\" and not \"self\"\\n        print(\\'The age is:\\', cls.age)  # mind \"cls.age\" and not \"self.age\"\\n\\n# create printAge class method\\nPerson.printAge = classmethod(Person.printAge)\\n# call printAge without creating a Person object\\nPerson.printAge()', '# compile()\\n# converts the string (normal string, a byte string, or an AST object) to Python code object.\\n# The code object is then executed using mode exec() or eval().\\ncodeInString = \\'a = 5\\\\nb=6\\\\nsum=a+b\\\\nprint(\"sum =\",sum)\\'\\ncodeObejct = compile(codeInString, filename=\\'sumstring\\', mode=\\'exec\\')\\n\\nexec(codeObejct)', \"# complex()\\n# Returns a complex number\\nx, y = complex('3+5j'), 2\\nprint(x + y)\", '# delattr()\\n# Deletes the specified attribute (property or method) from the specified object\\nfrom pprint import pprint\\nclass Person:\\n    name = \"John\"  # class variable shared by all instances\\n    age = 24  # class variable shared by all instances\\npprint(vars(Person))\\ndelattr(Person, \\'age\\')  # throw AttributeError when we try to access that removed attribute.\\nprint(Person)\\npprint(vars(Person))', \"# dict()\\n# Returns a “associative memories” or “associative arrays”\\n# Using keyword arguments only\\ndict_keyword = dict(x=5, y=0)\\n\\n# Using Iterable\\ndict_iterable0 = dict([('x', 5), ('y', -5)], z=8)\\ndict_iterable1 = dict(list(zip(['x', 'y', 'z'], [1, 2, 3])))\\n\\n# Using Mapping\\ndict_mapping = dict({'x': 4, 'y': 5}, z=8)\\n\\nprint('dict_keyword =', dict_keyword)\\nprint('dict_iterable0 =', dict_iterable0)\\nprint('dict_iterable1 =', dict_iterable1)\\nprint('dict_mapping =', dict_mapping)\", '# dir()\\n# Returns a list of the specified object\\'s properties and methods\\nprint(dir(), \"\\\\n\")  # Without arguments, return the list of names in the current local scope.\\nprint(dir(set), \"\\\\n\")  # show the names in the set type \\nx = 2\\nprint(dir(x), \"\\\\n\")\\nprint(x.__abs__())', '# divmod()\\n# Returns the quotient and the remainder when argument1 is divided by argument2\\nq, r = divmod(5, 2)\\nprint(\"q = {}, r = {}\".format(q, r))', '# enumerate()\\n# Takes a collection (e.g. a tuple) and returns it as an enumerate object\\ndef my_enumerate(sequence, start=0):\\n    n = start\\n    for elem in sequence:\\n        yield n, elem\\n        n += 1\\nprint(enumerate([\"zero\", \"one\", \"two\"]))  # <generator object ...> due to \"yield\". Need to apply \"list()\"\\nprint(my_enumerate([\"zero\", \"one\", \"two\"]))\\nfor n, elem in my_enumerate([\"zero\", \"one\", \"two\"]):\\n    print(\"n = {}, elem = {}\".format(n, elem))\\n# Sort of map\\nprint(list(enumerate([\"zero\", \"one\", \"two\"], start=1)))', \"# eval()\\n# Evaluates and executes an expression\\n# Don't put input() inside an eval statement - eval(input()) - since input() can be os.system('rm -R *')\\nx = 2\\neval('x+1')\", '# exec()\\n# Executes the specified code (or string) - dynamic execution of Python code\\nx = \\'name = \"Simon\"\\\\nprint(name)\\'\\nexec(x)', '# filter()\\n# Use a filter function to exclude items in an iterable object\\niterable = (0, 1, 2, 3)\\ndef function(x):\\n    return divmod(x, 2) == (1, 0)\\nprint(list(item for item in iterable if function(item)))', \"# float()\\n# Returns a floating point number\\nprint(float('+1E2'))\\nprint(float('-Infinity'))\", '# format()\\n# Formats a specified value\\nprint(\"{}\".format(255))  # a different function\\nprint(format(255, \\'x\\'))  # hexadecimal value\\nprint(format(255, \\'b\\'))  # Binary format\\nprint(format(0.5, \\'%\\'))  # percentage', '# frozenset()\\n# Returns a immutable frozenset object initialized with elements from the given iterable.\\n# when you use dictionary as an iterable for a frozen set, it only takes key of the dictionary\\niterable = {\"name\": \"John\", \"age\": 23, \"sex\": \"male\"}\\nf_set = frozenset(iterable)  # like sets, it is not ordered\\nprint(\\'The frozen set is:\\', f_set)\\n# f_set[1] = \"Simon\"  # \\'frozenset\\' object does not support item assignment', '# getattr()\\n# Returns the value of the specified attribute (property or method)\\n# getattr(x, \\'foobar\\') is equivalent to x.foobar\\nx = 2\\nprint(getattr(x, \"real\"))\\nprint(x.real)', \"# globals()\\n# Returns the current global symbol table as a dictionary\\nage = 18\\nprint(globals()['age'])\\n# Modify global variable using global()\\nglobals()['age'] = 25\\nprint('The age is:', age)\", '# hasattr()\\n# Returns True if the specified object has the specified attribute (property/method)\\nx = 2\\nprint(hasattr(x, \"numerator\"))  # data attribute\\nx = \"2\"\\nprint(hasattr(x, \"split\"))  # method', \"# hash()\\n# Returns the hash value of a specified object\\n# hash for integer unchanged\\nprint('Hash for 181 is: {}'.format(hash(181)))\\n# hash for decimal\\nprint('Hash for 181.23 is: {}'.format(hash(181.23)))\\n# tuple of vowels\\nvowels = ('a', 'e', 'i', 'o', 'u')\\nprint('The hash is: {}'.format(hash(vowels)))\\n\\n# Comparison based on hash()\\nclass Person:\\n    def __init__(self, age, name):\\n        self.age = age\\n        self.name = name\\n\\n    def __eq__(self, other):\\n        return self.__hash__() == other.__hash__()\\n#         return self.age == other.age and self.name == other.name\\n\\n    def __hash__(self):\\n        return hash((self.age, self.name))\\nperson = Person(23, 'Adam')\\nother = Person(23, 'Adam')\\nprint(hash(person))\\nprint(person.__eq__(other))\", '# help()\\n# If no argument is passed, Python\\'s help utility (interactive help system) starts on the console.\\n# enter \"quit\" to exit\\nprint(\"help\")\\nhelp()', '# hex()\\n# Converts a number into a hexadecimal value\\nprint(hex(255))', \"# id()\\n# Returns the id of an object\\n# CPython implementation detail: This is the address of the object in memory.\\nprint('id of 5 =',id(5))  #  integer 5 has a unique id.\\na = 5\\nprint('id of a =',id(a))\\nb = a\\nprint('id of b =',id(b))\\nb = b + 1\\nprint('id of new b =',id(b))\\nc = 5.0\\nprint('id of c =',id(c))  # float\", \"# input()\\n# Allowing user input\\n# get input from user\\ninputString = input('Enter a string:')\\nprint('The inputted string is:', inputString)\", '# int()\\n# Returns an integer number\\nprint(int(-2.4))\\nprint(\"For 1010, int is:\", int(\\'1010\\', base=2))', \"# isinstance()\\n# Returns True if a specified object is an instance of a specified object\\nnumbers = [1, 2, 3]\\nresult = isinstance(numbers, (dict, list))\\nprint(numbers,'instance of dict or list?', result)\", '# issubclass()\\n# Returns True if a specified class is a subclass of a specified object\\nprint(issubclass(int, (list, int)))', '# iter()\\n# Returns an iterator object - creates an object which can be iterated one element at a time.\\n# If the second argument, sentinel, is given, then object must be a callable object\\nwith open(\\'README.md\\') as fp:  # read lines of a file until a certain line (empty character) is reached\\n    for line in iter(fp.readline, \"\"):  # iter(v, w): v must be callable\\n        print(line)\\n# Without a second argument, object must be\\n# -a collection object which supports the iteration protocol (the __iter__() method),\\n# -or must support the sequence protocol (the __getitem__() method with integer arguments starting at 0)\\nx = iter([\"apple\", \"banana\", \"cherry\"])  # Returns an iterator object - no sentinel\\nprint(next(x))\\nprint(next(x))\\nprint(next(x))', '# len()\\n# Returns the length of an object\\n# with a sequence (string, bytes, tuple, list, or range)\\nprint(len(bytes(\"Simon\", \"utf-8\")))\\nprint(len(b\\'\\\\x01\\\\x02\\\\x03\\'))\\n\\n# or a collection (dictionary, set or frozen set)\\nfrozenTestSet = frozenset({1, 2})\\nprint(frozenTestSet, \\'length is\\', len(frozenTestSet))', '# list()\\n# Not a function, rather a mutable sequence type\\n# A sequence\\nprint(list((1, 2)))\\n# A collection\\nprint(list({\"1\": 2}))\\nprint(list(frozenset({1, 2})))\\n# An iterator object\\nx = iter([\"apple\", \"banana\", \"cherry\"])  # Returns an iterator object - no sentinel\\ny = enumerate([\"apple\", \"banana\", \"cherry\"])  # enumerate object\\nprint(list(x))\\nprint(list(y))', '# locals()\\n# Returns an updated dictionary of the current local symbol table\\n# A symbol table is a data structure maintained by a compiler - local + global\\n# it contains all necessary information about the program.\\nx = locals()\\nprint(x[\"__name__\"])', '# map()\\n# Returns an iterator that applies function to every item of iterable, yielding the results\\n# - the function to execute for each item can be defined with lambda\\n# - pass more than one iterable to the map() function.\\nx = map(lambda x, y: min(len(x), len(y)), (\\'nut\\', \\'banana\\', \\'pear\\'), (\\'orange\\', \\'lemon\\', \\'pineapple\\'))\\nprint(x)  # an iterator\\nprint(set(x))  # convert to set\\n\\n# make all elements of a list positive. \"abs\" is a function\\nmyList = [2,3,-3,-2]\\nprint(list(map(abs, myList)))', '# max()\\n# Returns the largest item in an iterable - \\nprint(max(set({0, 5, 2})))\\n# or the largest of two or more arguments\\nprint(max(0, -4))', '# memoryview()\\n# Returns a memory view object. obj must support buffer protocol (bytes, bytearray) - unlike bytes/str\\n\\n# Buffer protocol allows one object to expose its internal data (buffers)\\n# and the other to access those buffers (memory array) without intermediate copying.\\n\\n# This protocol is only accessible to us at the C-API level and not using our normal code base.\\n# So, in order to expose the same protocol to normal Python code base, memory views are present.\\n\\n# whenever we perform some action on an object (call a function of an object, slice an array)\\n# we (or Python) need to create a copy of the object.\\n\\n# Using buffer protocol, we can give another object access to use/modify the large data without copying it\\nba = bytearray(bytes(\"Simon\", \"utf-8\"))\\nx = memoryview(ba)\\nprint(x)\\nprint(id(ba))  # what is the difference between id() and memoryview? They should both give memory address?\\n# id(): \"This is the address of the object in memory\".\\n# The “memory view” object is specially created from the given argument\\n\\n# We accessed the mv\\'s 0th index (\\'A\\') and printed it (which gives the ASCII value - 75).\\nprint(x[0])\\n\\n# Since, the memory view object x references the same buffer/memory\\n# updating the index in x also updates randomByteArray.\\nx[1] = 79  # need to be a bytearray - otherwise, with immutable bytes, \"cannot modify read-only memory\"\\nprint(ba)', \"# min()\\n# Returns the smallest item in an iterable\\nnum = [15, 300, 2700, 821]\\nnum1 = [12, 2]\\nnum2 = [34, 567, 78]\\n\\n# using min(iterable, *iterables, key)\\nprint('Minimum is:', min(num, num1, num2, key=len))\", \"# next()\\n# Returns the next item in an iterable\\n# Return a default value when the iterable has reached to its end:\\n\\n# A list is an iterable and you can get iterator from it by using iter() function in Python.\\nrandom = [5, 9, 'cat']\\nrandomIterator = iter(random)  # iterator object\\nprint(randomIterator)\\n\\n# Output: 5\\nprint(next(randomIterator, '-1'))\\n\\n# Output: 9\\nprint(next(randomIterator, '-1'))\\n\\n# randomIterator is exhausted\\n# Output: '-1'\\nprint(next(randomIterator, '-1'))\\nprint(next(randomIterator, '-1'))\", '# object()\\n# Returns a new featureless object\\n# object is a base for all classes - You cannot add new properties or methods to this object\\ntest = object()\\n\\nprint(type(test))\\nprint(dir(test))  # all attributes\\n# object does not have a __dict__,\\n# so you can’t assign arbitrary attributes to an instance of the object class.', \"# oct()\\n# Converts a number into an octal\\nprint(oct(-56))\\nprint('%#o' % 10, '%o' % 10)\\nprint(f'{10:#o}', f'{10:o}')\\nprint(format(10, '#o'), format(10, 'o'))\", '# open()\\n# Opens a file and returns a file object\\n# Python has a encoding system which is platform dependent.\\nf = open(\"README.md\", mode = \\'r\\', encoding=\\'utf-8\\')\\n# Use \\'b\\' mode, to read/write binary data as is without any transformations such as converting newlines\\n# to/from platform-specific values or decoding/encoding text using a character encoding.\\n# >>> with open(\\'eggs.csv\\', \\'rb\\') as csvfile:', \"# ord()\\n# Convert an integer representing the Unicode of the specified character\\nord('€') # returns 8364\\n# inverse of chr()\", '# pow()\\n# Returns the value of x to the power of y\\nprint(pow(2, 3))\\n# equivalent to x**y\\nprint(pow(10, -2))', '# print()\\n# Print OBJECTS to the text stream file, separated by sep and followed by end\\n# The file argument must be an object with a write(string) method\\n#   if it is not present or None, sys.stdout will be used - standard output device (screen).\\nprint(\"Letter\", \"P\", sep=\" --- \")\\n# Since printed arguments are converted to text strings,\\n#   print() cannot be used with binary mode file objects.', '# property()\\n# Gets, sets, deletes a property value\\n\\n# The @property decorator turns the voltage() method into a “getter” for a read-only attribute\\n# with the same name, and it sets the docstring for voltage to “Get the current voltage.”\\nclass Parrot:\\n    def __init__(self):\\n        self._voltage = 100000\\n\\n    @property  # function decorator\\n    def voltage(self):\\n        \"\"\"Get the current voltage.\"\"\"\\n        return self._voltage\\n    \\n    @voltage.setter\\n    def voltage(self, value):\\n        self._voltage = value\\n\\n    @voltage.deleter\\n    def voltage(self):\\n        del self._voltage\\n# equivalent to\\n# voltage = property(get_voltage, set_voltage, del_voltage, \"I\\'m the \\'voltage\\' property.\")\\nParrot.voltage.__doc__\\nparrot = Parrot()\\nprint(parrot.voltage)\\nparrot.voltage = 10\\nprint(parrot.voltage)', \"# range()\\n# Rather than being a function, range is actually an immutable sequence type\\nx = range(10, 2, -1)\\n# x[1] = 2 - range(10, 2, -1) is immutable - 'range' object does not support item assignment\\n# use list() on it\\ny = list(x)\\ny[1] = 2\\nprint(y)\", \"# repr()\\n# Returns a printable representation of the given object.\\n# It returns a string that would yield an object with the same value when passed to eval().\\nx = 'Simon'\\nprint(repr(x))\\ny = eval(repr(x)) # (approximation that holds true for most of built-in types)\\nprint(y)\\n\\nclass Person:\\n    name = 'Simon'\\n    def __repr__(self):\\n        return repr(self.name)\\nrepr(Person())\", '# reversed()\\n# Returns a reversed iterator.\\n# Work with objects\\n# - that have implemented __reversed__()\\n# - or support sequence protocol (__len__() and __getitem__()) as tuple, string, list or range\\n# remember :\\n# - iter() function returns an iterator object\\n# - list.reverse() method reverses a List.\\nnms = [\"n\", \"m\", \"s\"]  # or range(5, 9)\\nsmn = reversed(nms)  # an iterator - convert it with list(reversed(seq))\\nfor x in smn:\\n    print(x)', '# round()\\n# Returns the floating point number rounded off to the given ndigits digits after the decimal point.\\nprint(round(5.9))', \"# set()\\n# Returns a new set object\\n# difference with list():\\n# - In a set you can only have one instances of a member.\\n# - The order of the elements is unknown,\\n# - x in a_set works in O(1) [O(len(list)) for list]. List length does not affect this query\\n# - __eq__ and __hash__ have to be defined to add object to a set()\\n# -- s.add([0]) unhashable type: 'list'\\n# -- hashable means could be used for dictionary key. Since list are mutable, they cannot. Unlike tuples\\n\\nprint(set(range(5)))\\n# for set\\nprint(set({'a', 'e', 'i', 'o', 'u'}))\\n# from dictionary\\nprint(set({'a':1, 'e': 2, 'i':3, 'o':4, 'u':5}))\\n# from frozen set\\nfrozenSet = frozenset(('a', 'e', 'i', 'o', 'u'))\\nprint(set(frozenSet))\", \"# setattr()\\n# Sets an attribute (property/method) of an object\\nclass Person:\\n    name = 'Simon'\\np = Person()\\n# setting attribute name to None\\nsetattr(p, 'name', None)\\nprint('Name is:', p.name)\\n\\n# setting an attribute not present - it creates one\\nsetattr(p, 'age', 23)\\nprint('Age is:', p.age)\", '# slice()\\n# Returns a slice object\\n# The slice object is used to slice a given sequence (string, bytes, tuple, list or range)\\n# or any object which supports sequence protocol (implements __getitem__() and __len__() method).\\na = (\"a\", \"b\", \"c\", \"d\", \"e\", \"f\", \"g\", \"h\")\\n# Use the step parameter to return every third item\\nx = slice(0, 8, 3) # returns a slice object\\nprint(a[x])', \"# sorted()\\n# Returns a sorted list\\n# string \\npyString = 'Python'\\nprint(sorted(pyString))\\n\\n# set\\npySet = {'e', 'a', 'u', 'o', 'i'}\\nprint(sorted(pySet, reverse=True))\\n\\n# dictionary\\npyDict = {'e': 1, 'a': 2, 'u': 3, 'o': 4, 'i': 5}\\nprint(sorted(pyDict, reverse=True))\\n\\n# frozen set\\npyFSet = frozenset(('e', 'a', 'u', 'o', 'i'))\\nprint(sorted(pyFSet, reverse=True))\\n\\n# take second element for sort\\ndef takeSecond(elem):\\n    return elem[1]\\n# random list\\nrandom = [(2, 2), (3, 4), (4, 1), (1, 3)]\\n# sort list with key\\nsortedList = sorted(random, key=takeSecond)\\n# print list\\nprint('Sorted list:', sortedList)\", '# @staticmethod()\\n# Converts a method into a static method - function decorator\\n# It can be called either on the class (such as C.f()) or on an instance (such as C().f()).\\nclass C:\\n    builtin_open = staticmethod(open)', \"# str()\\n# Return a str version of object\\nprint(str(int))\\n# If encoding and errors parameter is provided,\\n#   the first parameter (object) should be a bytes-like-object (bytes or bytearray).\\n# bytes\\nb = bytes('pythön', encoding='utf-8')\\nprint(str(b, encoding='ascii', errors='ignore'))\", \"# sum()\\n# Sums the items of an iterator\\na = (1, 2, 3, 4, 5)\\nx = sum(a, 7)  # start with 7\\nprint(x)\\n# For some use cases, there are good alternatives to sum().\\ntest = {'Python', 'Java', 'Ruby'}\\ns = '->->'\\nprint(s.join(test))\", \"# tuple()\\n# Returns a tuple - immutable\\nt = tuple()\\n# t.add([0]) immutable - 'tuple' object has no attribute 'add'\\n\\n# Differences with set / list\\n# - Tuples are heterogeneous data structures (i.e., their entries have different meanings)\\n# -- e.g. (page, line) to classify lines in a book\\n# -- You can then use this as a key in a dictionary to store notes on locations.\\n# -- Named tuples assign meaning to each position in a tuple. Light-weight alternative to classes \\nfrom collections import namedtuple\\nPoint = namedtuple('Point', ['x', 'y'])\\np = Point(11, y=22)     # instantiate with positional or keyword arguments\\np[0] + p[1]             # indexable like the plain tuple (11, 22)\", '# type()\\n# Returns the type of an object\\n# Prefer isinstance() to check type of an object\\n# It is generally the same object as returned by object.__class__.\\nx = {\"s\"}\\nprint(x.__class__)\\nprint(type(x))\\n\\n# Create a type object Using type()\\no1 = type(\\'X\\', (object,), dict(a=\\'Foo\\', b=12))  # \"object\" or the name of a class\\nprint(type(o1))\\nprint(vars(o1))', '# vars()\\n# Returns the __dict__ property of an object\\n# If no argument is passed to vars(), this function acts like locals() function.\\nclass Foo:\\n    def __init__(self, a = 5, b = 10):\\n        self.a = a\\n        self.b = b\\nInstanceOfFoo = Foo()\\nprint(vars(InstanceOfFoo))\\nprint(InstanceOfFoo.__dict__)\\n\\nprint(vars())\\nprint(locals())'], '_oh': {1: 90, 2: False, 19: 3, 48: 8364, 53: \"'Simon'\", 63: 33}, '_dh': ['C:\\\\Users\\\\simon.chauvin\\\\Documents\\\\Private GitHub\\\\Python_3_Built_in_Functions'], 'In': ['', '# abs()\\n# Returns the absolute value of a number\\nn = -90\\nabs(n)', '# all()\\n# Returns True if all items in an iterable object (list, set, tuple, keys of dict) are true\\nmy_set = {1, 1}\\nprint(all(my_set))\\nmy_set.update([1, 0])\\nprint(all(my_set))\\n\\n# see numpy array_equal, allclose and array_equiv\\nimport numpy as np\\nA = np.array([1, 2, 3])\\nB = np.array([1, 2, 3.1])\\n# (A==B).all()\\n(abs(A-B) < 0.05).all()  # max(abs(V-old_V)) < theta', '# any()\\n# Returns True if any item in an iterable object is true\\nmy_dict = {1 : \"si\", 1 : \"mon\"}\\nprint(any(my_dict))', '# ascii()\\n# Returns a readable version of an object. Replaces none-ascii characters with escape character\\nprint(ascii(\"Viele Grüße\"))', '# bin()\\n# Returns the binary version of a number\\nprint(bin(42))', '# bool()\\n# Returns the boolean value of the specified object\\nnon_boolean_false_examples = [[], (), (0), {}, \"\", None, 0, 0.0, False]\\nnon_boolean_true_examples = [[0], {\"\": 0}, \"0\", 0.1, True]\\nprint([bool(elem) for elem in non_boolean_false_examples])\\nprint([bool(elem) for elem in non_boolean_true_examples])', '# bytearray()\\n# Returns an a mutable sequence of bytes (integers in the range 0 <= x < 256)\\narr = bytearray(\"simon\", \\'utf-8\\')  # when using strings, specify the encoding. Here \\'utf-8\\'\\narr2 = arr.replace(b\\'s\\', b\\'x\\')\\nprint(arr)  # the byte content (immutable) of arr (mutable) is not changed by \"replace()\"\\nprint(arr2)\\narr[0] = 78  # bytearray of arr is mutable\\nprint(arr)', '# bytes()\\n# Return a new “bytes” object, which is an immutable sequence of integers in the range 0 <= x < 256\\narr = bytes(\"Py\", \\'utf-8\\') \\nprint(arr in b\\'Python\\')\\nprint(arr in bytes(\"Pyplot\", \"utf-8\"))\\nprint(arr in bytes(\"Pyplot\", \"utf-16\"))', '# callable()\\n# Returns True if callable (i.e. instance of a class with a __call__ method), otherwise False\\nx = 42\\ndef testFunction():\\n  print(\"Simon\")\\ny = testFunction  # y is an instance of a class with a __call__ method\\nprint(callable(x), callable(y))', '# chr()\\n# Returns a character from the specified Unicode code.\\nunicode_version = ord(\"S\")\\ninitial_version = chr(unicode_version)\\nprint(unicode_version, initial_version)', '# classmethod()\\n# Converts a method into a class method. Note: better use the function decorator @classmethod\\nclass Person:\\n    age = 25\\n\\n    def printAge(cls):  # mind \"cls\" and not \"self\"\\n        print(\\'The age is:\\', cls.age)  # mind \"cls.age\" and not \"self.age\"\\n\\n# create printAge class method\\nPerson.printAge = classmethod(Person.printAge)\\n# call printAge without creating a Person object\\nPerson.printAge()', '# compile()\\n# converts the string (normal string, a byte string, or an AST object) to Python code object.\\n# The code object is then executed using mode exec() or eval().\\ncodeInString = \\'a = 5\\\\nb=6\\\\nsum=a+b\\\\nprint(\"sum =\",sum)\\'\\ncodeObejct = compile(codeInString, filename=\\'sumstring\\', mode=\\'exec\\')\\n\\nexec(codeObejct)', \"# complex()\\n# Returns a complex number\\nx, y = complex('3+5j'), 2\\nprint(x + y)\", '# delattr()\\n# Deletes the specified attribute (property or method) from the specified object\\nfrom pprint import pprint\\nclass Person:\\n    name = \"John\"  # class variable shared by all instances\\n    age = 24  # class variable shared by all instances\\npprint(vars(Person))\\ndelattr(Person, \\'age\\')  # throw AttributeError when we try to access that removed attribute.\\nprint(Person)\\npprint(vars(Person))', \"# dict()\\n# Returns a “associative memories” or “associative arrays”\\n# Using keyword arguments only\\ndict_keyword = dict(x=5, y=0)\\n\\n# Using Iterable\\ndict_iterable0 = dict([('x', 5), ('y', -5)], z=8)\\ndict_iterable1 = dict(list(zip(['x', 'y', 'z'], [1, 2, 3])))\\n\\n# Using Mapping\\ndict_mapping = dict({'x': 4, 'y': 5}, z=8)\\n\\nprint('dict_keyword =', dict_keyword)\\nprint('dict_iterable0 =', dict_iterable0)\\nprint('dict_iterable1 =', dict_iterable1)\\nprint('dict_mapping =', dict_mapping)\", '# dir()\\n# Returns a list of the specified object\\'s properties and methods\\nprint(dir(), \"\\\\n\")  # Without arguments, return the list of names in the current local scope.\\nprint(dir(set), \"\\\\n\")  # show the names in the set type \\nx = 2\\nprint(dir(x), \"\\\\n\")\\nprint(x.__abs__())', '# divmod()\\n# Returns the quotient and the remainder when argument1 is divided by argument2\\nq, r = divmod(5, 2)\\nprint(\"q = {}, r = {}\".format(q, r))', '# enumerate()\\n# Takes a collection (e.g. a tuple) and returns it as an enumerate object\\ndef my_enumerate(sequence, start=0):\\n    n = start\\n    for elem in sequence:\\n        yield n, elem\\n        n += 1\\nprint(enumerate([\"zero\", \"one\", \"two\"]))  # <generator object ...> due to \"yield\". Need to apply \"list()\"\\nprint(my_enumerate([\"zero\", \"one\", \"two\"]))\\nfor n, elem in my_enumerate([\"zero\", \"one\", \"two\"]):\\n    print(\"n = {}, elem = {}\".format(n, elem))\\n# Sort of map\\nprint(list(enumerate([\"zero\", \"one\", \"two\"], start=1)))', \"# eval()\\n# Evaluates and executes an expression\\n# Don't put input() inside an eval statement - eval(input()) - since input() can be os.system('rm -R *')\\nx = 2\\neval('x+1')\", '# exec()\\n# Executes the specified code (or string) - dynamic execution of Python code\\nx = \\'name = \"Simon\"\\\\nprint(name)\\'\\nexec(x)', '# filter()\\n# Use a filter function to exclude items in an iterable object\\niterable = (0, 1, 2, 3)\\ndef function(x):\\n    return divmod(x, 2) == (1, 0)\\nprint(list(item for item in iterable if function(item)))', \"# float()\\n# Returns a floating point number\\nprint(float('+1E2'))\\nprint(float('-Infinity'))\", '# format()\\n# Formats a specified value\\nprint(\"{}\".format(255))  # a different function\\nprint(format(255, \\'x\\'))  # hexadecimal value\\nprint(format(255, \\'b\\'))  # Binary format\\nprint(format(0.5, \\'%\\'))  # percentage', '# frozenset()\\n# Returns a immutable frozenset object initialized with elements from the given iterable.\\n# when you use dictionary as an iterable for a frozen set, it only takes key of the dictionary\\niterable = {\"name\": \"John\", \"age\": 23, \"sex\": \"male\"}\\nf_set = frozenset(iterable)  # like sets, it is not ordered\\nprint(\\'The frozen set is:\\', f_set)\\n# f_set[1] = \"Simon\"  # \\'frozenset\\' object does not support item assignment', '# getattr()\\n# Returns the value of the specified attribute (property or method)\\n# getattr(x, \\'foobar\\') is equivalent to x.foobar\\nx = 2\\nprint(getattr(x, \"real\"))\\nprint(x.real)', \"# globals()\\n# Returns the current global symbol table as a dictionary\\nage = 18\\nprint(globals()['age'])\\n# Modify global variable using global()\\nglobals()['age'] = 25\\nprint('The age is:', age)\", '# hasattr()\\n# Returns True if the specified object has the specified attribute (property/method)\\nx = 2\\nprint(hasattr(x, \"numerator\"))  # data attribute\\nx = \"2\"\\nprint(hasattr(x, \"split\"))  # method', \"# hash()\\n# Returns the hash value of a specified object\\n# hash for integer unchanged\\nprint('Hash for 181 is: {}'.format(hash(181)))\\n# hash for decimal\\nprint('Hash for 181.23 is: {}'.format(hash(181.23)))\\n# tuple of vowels\\nvowels = ('a', 'e', 'i', 'o', 'u')\\nprint('The hash is: {}'.format(hash(vowels)))\\n\\n# Comparison based on hash()\\nclass Person:\\n    def __init__(self, age, name):\\n        self.age = age\\n        self.name = name\\n\\n    def __eq__(self, other):\\n        return self.__hash__() == other.__hash__()\\n#         return self.age == other.age and self.name == other.name\\n\\n    def __hash__(self):\\n        return hash((self.age, self.name))\\nperson = Person(23, 'Adam')\\nother = Person(23, 'Adam')\\nprint(hash(person))\\nprint(person.__eq__(other))\", '# help()\\n# If no argument is passed, Python\\'s help utility (interactive help system) starts on the console.\\n# enter \"quit\" to exit\\nprint(\"help\")\\nhelp()', '# hex()\\n# Converts a number into a hexadecimal value\\nprint(hex(255))', \"# id()\\n# Returns the id of an object\\n# CPython implementation detail: This is the address of the object in memory.\\nprint('id of 5 =',id(5))  #  integer 5 has a unique id.\\na = 5\\nprint('id of a =',id(a))\\nb = a\\nprint('id of b =',id(b))\\nb = b + 1\\nprint('id of new b =',id(b))\\nc = 5.0\\nprint('id of c =',id(c))  # float\", \"# input()\\n# Allowing user input\\n# get input from user\\ninputString = input('Enter a string:')\\nprint('The inputted string is:', inputString)\", '# int()\\n# Returns an integer number\\nprint(int(-2.4))\\nprint(\"For 1010, int is:\", int(\\'1010\\', base=2))', \"# isinstance()\\n# Returns True if a specified object is an instance of a specified object\\nnumbers = [1, 2, 3]\\nresult = isinstance(numbers, (dict, list))\\nprint(numbers,'instance of dict or list?', result)\", '# issubclass()\\n# Returns True if a specified class is a subclass of a specified object\\nprint(issubclass(int, (list, int)))', '# iter()\\n# Returns an iterator object - creates an object which can be iterated one element at a time.\\n# If the second argument, sentinel, is given, then object must be a callable object\\nwith open(\\'README.md\\') as fp:  # read lines of a file until a certain line (empty character) is reached\\n    for line in iter(fp.readline, \"\"):  # iter(v, w): v must be callable\\n        print(line)\\n# Without a second argument, object must be\\n# -a collection object which supports the iteration protocol (the __iter__() method),\\n# -or must support the sequence protocol (the __getitem__() method with integer arguments starting at 0)\\nx = iter([\"apple\", \"banana\", \"cherry\"])  # Returns an iterator object - no sentinel\\nprint(next(x))\\nprint(next(x))\\nprint(next(x))', '# len()\\n# Returns the length of an object\\n# with a sequence (string, bytes, tuple, list, or range)\\nprint(len(bytes(\"Simon\", \"utf-8\")))\\nprint(len(b\\'\\\\x01\\\\x02\\\\x03\\'))\\n\\n# or a collection (dictionary, set or frozen set)\\nfrozenTestSet = frozenset({1, 2})\\nprint(frozenTestSet, \\'length is\\', len(frozenTestSet))', '# list()\\n# Not a function, rather a mutable sequence type\\n# A sequence\\nprint(list((1, 2)))\\n# A collection\\nprint(list({\"1\": 2}))\\nprint(list(frozenset({1, 2})))\\n# An iterator object\\nx = iter([\"apple\", \"banana\", \"cherry\"])  # Returns an iterator object - no sentinel\\ny = enumerate([\"apple\", \"banana\", \"cherry\"])  # enumerate object\\nprint(list(x))\\nprint(list(y))', '# locals()\\n# Returns an updated dictionary of the current local symbol table\\n# A symbol table is a data structure maintained by a compiler - local + global\\n# it contains all necessary information about the program.\\nx = locals()\\nprint(x[\"__name__\"])', '# map()\\n# Returns an iterator that applies function to every item of iterable, yielding the results\\n# - the function to execute for each item can be defined with lambda\\n# - pass more than one iterable to the map() function.\\nx = map(lambda x, y: min(len(x), len(y)), (\\'nut\\', \\'banana\\', \\'pear\\'), (\\'orange\\', \\'lemon\\', \\'pineapple\\'))\\nprint(x)  # an iterator\\nprint(set(x))  # convert to set\\n\\n# make all elements of a list positive. \"abs\" is a function\\nmyList = [2,3,-3,-2]\\nprint(list(map(abs, myList)))', '# max()\\n# Returns the largest item in an iterable - \\nprint(max(set({0, 5, 2})))\\n# or the largest of two or more arguments\\nprint(max(0, -4))', '# memoryview()\\n# Returns a memory view object. obj must support buffer protocol (bytes, bytearray) - unlike bytes/str\\n\\n# Buffer protocol allows one object to expose its internal data (buffers)\\n# and the other to access those buffers (memory array) without intermediate copying.\\n\\n# This protocol is only accessible to us at the C-API level and not using our normal code base.\\n# So, in order to expose the same protocol to normal Python code base, memory views are present.\\n\\n# whenever we perform some action on an object (call a function of an object, slice an array)\\n# we (or Python) need to create a copy of the object.\\n\\n# Using buffer protocol, we can give another object access to use/modify the large data without copying it\\nba = bytearray(bytes(\"Simon\", \"utf-8\"))\\nx = memoryview(ba)\\nprint(x)\\nprint(id(ba))  # what is the difference between id() and memoryview? They should both give memory address?\\n# id(): \"This is the address of the object in memory\".\\n# The “memory view” object is specially created from the given argument\\n\\n# We accessed the mv\\'s 0th index (\\'A\\') and printed it (which gives the ASCII value - 75).\\nprint(x[0])\\n\\n# Since, the memory view object x references the same buffer/memory\\n# updating the index in x also updates randomByteArray.\\nx[1] = 79  # need to be a bytearray - otherwise, with immutable bytes, \"cannot modify read-only memory\"\\nprint(ba)', \"# min()\\n# Returns the smallest item in an iterable\\nnum = [15, 300, 2700, 821]\\nnum1 = [12, 2]\\nnum2 = [34, 567, 78]\\n\\n# using min(iterable, *iterables, key)\\nprint('Minimum is:', min(num, num1, num2, key=len))\", \"# next()\\n# Returns the next item in an iterable\\n# Return a default value when the iterable has reached to its end:\\n\\n# A list is an iterable and you can get iterator from it by using iter() function in Python.\\nrandom = [5, 9, 'cat']\\nrandomIterator = iter(random)  # iterator object\\nprint(randomIterator)\\n\\n# Output: 5\\nprint(next(randomIterator, '-1'))\\n\\n# Output: 9\\nprint(next(randomIterator, '-1'))\\n\\n# randomIterator is exhausted\\n# Output: '-1'\\nprint(next(randomIterator, '-1'))\\nprint(next(randomIterator, '-1'))\", '# object()\\n# Returns a new featureless object\\n# object is a base for all classes - You cannot add new properties or methods to this object\\ntest = object()\\n\\nprint(type(test))\\nprint(dir(test))  # all attributes\\n# object does not have a __dict__,\\n# so you can’t assign arbitrary attributes to an instance of the object class.', \"# oct()\\n# Converts a number into an octal\\nprint(oct(-56))\\nprint('%#o' % 10, '%o' % 10)\\nprint(f'{10:#o}', f'{10:o}')\\nprint(format(10, '#o'), format(10, 'o'))\", '# open()\\n# Opens a file and returns a file object\\n# Python has a encoding system which is platform dependent.\\nf = open(\"README.md\", mode = \\'r\\', encoding=\\'utf-8\\')\\n# Use \\'b\\' mode, to read/write binary data as is without any transformations such as converting newlines\\n# to/from platform-specific values or decoding/encoding text using a character encoding.\\n# >>> with open(\\'eggs.csv\\', \\'rb\\') as csvfile:', \"# ord()\\n# Convert an integer representing the Unicode of the specified character\\nord('€') # returns 8364\\n# inverse of chr()\", '# pow()\\n# Returns the value of x to the power of y\\nprint(pow(2, 3))\\n# equivalent to x**y\\nprint(pow(10, -2))', '# print()\\n# Print OBJECTS to the text stream file, separated by sep and followed by end\\n# The file argument must be an object with a write(string) method\\n#   if it is not present or None, sys.stdout will be used - standard output device (screen).\\nprint(\"Letter\", \"P\", sep=\" --- \")\\n# Since printed arguments are converted to text strings,\\n#   print() cannot be used with binary mode file objects.', '# property()\\n# Gets, sets, deletes a property value\\n\\n# The @property decorator turns the voltage() method into a “getter” for a read-only attribute\\n# with the same name, and it sets the docstring for voltage to “Get the current voltage.”\\nclass Parrot:\\n    def __init__(self):\\n        self._voltage = 100000\\n\\n    @property  # function decorator\\n    def voltage(self):\\n        \"\"\"Get the current voltage.\"\"\"\\n        return self._voltage\\n    \\n    @voltage.setter\\n    def voltage(self, value):\\n        self._voltage = value\\n\\n    @voltage.deleter\\n    def voltage(self):\\n        del self._voltage\\n# equivalent to\\n# voltage = property(get_voltage, set_voltage, del_voltage, \"I\\'m the \\'voltage\\' property.\")\\nParrot.voltage.__doc__\\nparrot = Parrot()\\nprint(parrot.voltage)\\nparrot.voltage = 10\\nprint(parrot.voltage)', \"# range()\\n# Rather than being a function, range is actually an immutable sequence type\\nx = range(10, 2, -1)\\n# x[1] = 2 - range(10, 2, -1) is immutable - 'range' object does not support item assignment\\n# use list() on it\\ny = list(x)\\ny[1] = 2\\nprint(y)\", \"# repr()\\n# Returns a printable representation of the given object.\\n# It returns a string that would yield an object with the same value when passed to eval().\\nx = 'Simon'\\nprint(repr(x))\\ny = eval(repr(x)) # (approximation that holds true for most of built-in types)\\nprint(y)\\n\\nclass Person:\\n    name = 'Simon'\\n    def __repr__(self):\\n        return repr(self.name)\\nrepr(Person())\", '# reversed()\\n# Returns a reversed iterator.\\n# Work with objects\\n# - that have implemented __reversed__()\\n# - or support sequence protocol (__len__() and __getitem__()) as tuple, string, list or range\\n# remember :\\n# - iter() function returns an iterator object\\n# - list.reverse() method reverses a List.\\nnms = [\"n\", \"m\", \"s\"]  # or range(5, 9)\\nsmn = reversed(nms)  # an iterator - convert it with list(reversed(seq))\\nfor x in smn:\\n    print(x)', '# round()\\n# Returns the floating point number rounded off to the given ndigits digits after the decimal point.\\nprint(round(5.9))', \"# set()\\n# Returns a new set object\\n# difference with list():\\n# - In a set you can only have one instances of a member.\\n# - The order of the elements is unknown,\\n# - x in a_set works in O(1) [O(len(list)) for list]. List length does not affect this query\\n# - __eq__ and __hash__ have to be defined to add object to a set()\\n# -- s.add([0]) unhashable type: 'list'\\n# -- hashable means could be used for dictionary key. Since list are mutable, they cannot. Unlike tuples\\n\\nprint(set(range(5)))\\n# for set\\nprint(set({'a', 'e', 'i', 'o', 'u'}))\\n# from dictionary\\nprint(set({'a':1, 'e': 2, 'i':3, 'o':4, 'u':5}))\\n# from frozen set\\nfrozenSet = frozenset(('a', 'e', 'i', 'o', 'u'))\\nprint(set(frozenSet))\", \"# setattr()\\n# Sets an attribute (property/method) of an object\\nclass Person:\\n    name = 'Simon'\\np = Person()\\n# setting attribute name to None\\nsetattr(p, 'name', None)\\nprint('Name is:', p.name)\\n\\n# setting an attribute not present - it creates one\\nsetattr(p, 'age', 23)\\nprint('Age is:', p.age)\", '# slice()\\n# Returns a slice object\\n# The slice object is used to slice a given sequence (string, bytes, tuple, list or range)\\n# or any object which supports sequence protocol (implements __getitem__() and __len__() method).\\na = (\"a\", \"b\", \"c\", \"d\", \"e\", \"f\", \"g\", \"h\")\\n# Use the step parameter to return every third item\\nx = slice(0, 8, 3) # returns a slice object\\nprint(a[x])', \"# sorted()\\n# Returns a sorted list\\n# string \\npyString = 'Python'\\nprint(sorted(pyString))\\n\\n# set\\npySet = {'e', 'a', 'u', 'o', 'i'}\\nprint(sorted(pySet, reverse=True))\\n\\n# dictionary\\npyDict = {'e': 1, 'a': 2, 'u': 3, 'o': 4, 'i': 5}\\nprint(sorted(pyDict, reverse=True))\\n\\n# frozen set\\npyFSet = frozenset(('e', 'a', 'u', 'o', 'i'))\\nprint(sorted(pyFSet, reverse=True))\\n\\n# take second element for sort\\ndef takeSecond(elem):\\n    return elem[1]\\n# random list\\nrandom = [(2, 2), (3, 4), (4, 1), (1, 3)]\\n# sort list with key\\nsortedList = sorted(random, key=takeSecond)\\n# print list\\nprint('Sorted list:', sortedList)\", '# @staticmethod()\\n# Converts a method into a static method - function decorator\\n# It can be called either on the class (such as C.f()) or on an instance (such as C().f()).\\nclass C:\\n    builtin_open = staticmethod(open)', \"# str()\\n# Return a str version of object\\nprint(str(int))\\n# If encoding and errors parameter is provided,\\n#   the first parameter (object) should be a bytes-like-object (bytes or bytearray).\\n# bytes\\nb = bytes('pythön', encoding='utf-8')\\nprint(str(b, encoding='ascii', errors='ignore'))\", \"# sum()\\n# Sums the items of an iterator\\na = (1, 2, 3, 4, 5)\\nx = sum(a, 7)  # start with 7\\nprint(x)\\n# For some use cases, there are good alternatives to sum().\\ntest = {'Python', 'Java', 'Ruby'}\\ns = '->->'\\nprint(s.join(test))\", \"# tuple()\\n# Returns a tuple - immutable\\nt = tuple()\\n# t.add([0]) immutable - 'tuple' object has no attribute 'add'\\n\\n# Differences with set / list\\n# - Tuples are heterogeneous data structures (i.e., their entries have different meanings)\\n# -- e.g. (page, line) to classify lines in a book\\n# -- You can then use this as a key in a dictionary to store notes on locations.\\n# -- Named tuples assign meaning to each position in a tuple. Light-weight alternative to classes \\nfrom collections import namedtuple\\nPoint = namedtuple('Point', ['x', 'y'])\\np = Point(11, y=22)     # instantiate with positional or keyword arguments\\np[0] + p[1]             # indexable like the plain tuple (11, 22)\", '# type()\\n# Returns the type of an object\\n# Prefer isinstance() to check type of an object\\n# It is generally the same object as returned by object.__class__.\\nx = {\"s\"}\\nprint(x.__class__)\\nprint(type(x))\\n\\n# Create a type object Using type()\\no1 = type(\\'X\\', (object,), dict(a=\\'Foo\\', b=12))  # \"object\" or the name of a class\\nprint(type(o1))\\nprint(vars(o1))', '# vars()\\n# Returns the __dict__ property of an object\\n# If no argument is passed to vars(), this function acts like locals() function.\\nclass Foo:\\n    def __init__(self, a = 5, b = 10):\\n        self.a = a\\n        self.b = b\\nInstanceOfFoo = Foo()\\nprint(vars(InstanceOfFoo))\\nprint(InstanceOfFoo.__dict__)\\n\\nprint(vars())\\nprint(locals())'], 'Out': {1: 90, 2: False, 19: 3, 48: 8364, 53: \"'Simon'\", 63: 33}, 'get_ipython': <bound method InteractiveShell.get_ipython of <ipykernel.zmqshell.ZMQInteractiveShell object at 0x00000287B5B61588>>, 'exit': <IPython.core.autocall.ZMQExitAutocall object at 0x00000287B5BA99B0>, 'quit': <IPython.core.autocall.ZMQExitAutocall object at 0x00000287B5BA99B0>, '_': 33, '__': \"'Simon'\", '___': 8364, 'json': <module 'json' from 'C:\\\\Users\\\\simon.chauvin\\\\AppData\\\\Local\\\\Continuum\\\\anaconda3\\\\lib\\\\json\\\\__init__.py'>, '_i': '# type()\\n# Returns the type of an object\\n# Prefer isinstance() to check type of an object\\n# It is generally the same object as returned by object.__class__.\\nx = {\"s\"}\\nprint(x.__class__)\\nprint(type(x))\\n\\n# Create a type object Using type()\\no1 = type(\\'X\\', (object,), dict(a=\\'Foo\\', b=12))  # \"object\" or the name of a class\\nprint(type(o1))\\nprint(vars(o1))', '_ii': \"# tuple()\\n# Returns a tuple - immutable\\nt = tuple()\\n# t.add([0]) immutable - 'tuple' object has no attribute 'add'\\n\\n# Differences with set / list\\n# - Tuples are heterogeneous data structures (i.e., their entries have different meanings)\\n# -- e.g. (page, line) to classify lines in a book\\n# -- You can then use this as a key in a dictionary to store notes on locations.\\n# -- Named tuples assign meaning to each position in a tuple. Light-weight alternative to classes \\nfrom collections import namedtuple\\nPoint = namedtuple('Point', ['x', 'y'])\\np = Point(11, y=22)     # instantiate with positional or keyword arguments\\np[0] + p[1]             # indexable like the plain tuple (11, 22)\", '_iii': \"# sum()\\n# Sums the items of an iterator\\na = (1, 2, 3, 4, 5)\\nx = sum(a, 7)  # start with 7\\nprint(x)\\n# For some use cases, there are good alternatives to sum().\\ntest = {'Python', 'Java', 'Ruby'}\\ns = '->->'\\nprint(s.join(test))\", '_i1': '# abs()\\n# Returns the absolute value of a number\\nn = -90\\nabs(n)', 'n': 2, '_1': 90, '_i2': '# all()\\n# Returns True if all items in an iterable object (list, set, tuple, keys of dict) are true\\nmy_set = {1, 1}\\nprint(all(my_set))\\nmy_set.update([1, 0])\\nprint(all(my_set))\\n\\n# see numpy array_equal, allclose and array_equiv\\nimport numpy as np\\nA = np.array([1, 2, 3])\\nB = np.array([1, 2, 3.1])\\n# (A==B).all()\\n(abs(A-B) < 0.05).all()  # max(abs(V-old_V)) < theta', 'my_set': {0, 1}, 'np': <module 'numpy' from 'C:\\\\Users\\\\simon.chauvin\\\\AppData\\\\Local\\\\Continuum\\\\anaconda3\\\\lib\\\\site-packages\\\\numpy\\\\__init__.py'>, 'A': array([1, 2, 3]), 'B': array([ 1. ,  2. ,  3.1]), '_2': False, '_i3': '# any()\\n# Returns True if any item in an iterable object is true\\nmy_dict = {1 : \"si\", 1 : \"mon\"}\\nprint(any(my_dict))', 'my_dict': {1: 'mon'}, '_i4': '# ascii()\\n# Returns a readable version of an object. Replaces none-ascii characters with escape character\\nprint(ascii(\"Viele Grüße\"))', '_i5': '# bin()\\n# Returns the binary version of a number\\nprint(bin(42))', '_i6': '# bool()\\n# Returns the boolean value of the specified object\\nnon_boolean_false_examples = [[], (), (0), {}, \"\", None, 0, 0.0, False]\\nnon_boolean_true_examples = [[0], {\"\": 0}, \"0\", 0.1, True]\\nprint([bool(elem) for elem in non_boolean_false_examples])\\nprint([bool(elem) for elem in non_boolean_true_examples])', 'non_boolean_false_examples': [[], (), 0, {}, '', None, 0, 0.0, False], 'non_boolean_true_examples': [[0], {'': 0}, '0', 0.1, True], '_i7': '# bytearray()\\n# Returns an a mutable sequence of bytes (integers in the range 0 <= x < 256)\\narr = bytearray(\"simon\", \\'utf-8\\')  # when using strings, specify the encoding. Here \\'utf-8\\'\\narr2 = arr.replace(b\\'s\\', b\\'x\\')\\nprint(arr)  # the byte content (immutable) of arr (mutable) is not changed by \"replace()\"\\nprint(arr2)\\narr[0] = 78  # bytearray of arr is mutable\\nprint(arr)', 'arr': b'Py', 'arr2': bytearray(b'ximon'), '_i8': '# bytes()\\n# Return a new “bytes” object, which is an immutable sequence of integers in the range 0 <= x < 256\\narr = bytes(\"Py\", \\'utf-8\\') \\nprint(arr in b\\'Python\\')\\nprint(arr in bytes(\"Pyplot\", \"utf-8\"))\\nprint(arr in bytes(\"Pyplot\", \"utf-16\"))', '_i9': '# callable()\\n# Returns True if callable (i.e. instance of a class with a __call__ method), otherwise False\\nx = 42\\ndef testFunction():\\n  print(\"Simon\")\\ny = testFunction  # y is an instance of a class with a __call__ method\\nprint(callable(x), callable(y))', 'x': {'s'}, 'testFunction': <function testFunction at 0x00000287C50332F0>, 'y': 'Simon', '_i10': '# chr()\\n# Returns a character from the specified Unicode code.\\nunicode_version = ord(\"S\")\\ninitial_version = chr(unicode_version)\\nprint(unicode_version, initial_version)', 'unicode_version': 83, 'initial_version': 'S', '_i11': '# classmethod()\\n# Converts a method into a class method. Note: better use the function decorator @classmethod\\nclass Person:\\n    age = 25\\n\\n    def printAge(cls):  # mind \"cls\" and not \"self\"\\n        print(\\'The age is:\\', cls.age)  # mind \"cls.age\" and not \"self.age\"\\n\\n# create printAge class method\\nPerson.printAge = classmethod(Person.printAge)\\n# call printAge without creating a Person object\\nPerson.printAge()', 'Person': <class '__main__.Person'>, '_i12': '# compile()\\n# converts the string (normal string, a byte string, or an AST object) to Python code object.\\n# The code object is then executed using mode exec() or eval().\\ncodeInString = \\'a = 5\\\\nb=6\\\\nsum=a+b\\\\nprint(\"sum =\",sum)\\'\\ncodeObejct = compile(codeInString, filename=\\'sumstring\\', mode=\\'exec\\')\\n\\nexec(codeObejct)', 'codeInString': 'a = 5\\nb=6\\nsum=a+b\\nprint(\"sum =\",sum)', 'codeObejct': <code object <module> at 0x00000287C4FFD660, file \"sumstring\", line 1>, 'a': (1, 2, 3, 4, 5), 'b': b'pyth\\xc3\\xb6n', 'sum': 11, '_i13': \"# complex()\\n# Returns a complex number\\nx, y = complex('3+5j'), 2\\nprint(x + y)\", '_i14': '# delattr()\\n# Deletes the specified attribute (property or method) from the specified object\\nfrom pprint import pprint\\nclass Person:\\n    name = \"John\"  # class variable shared by all instances\\n    age = 24  # class variable shared by all instances\\npprint(vars(Person))\\ndelattr(Person, \\'age\\')  # throw AttributeError when we try to access that removed attribute.\\nprint(Person)\\npprint(vars(Person))', 'pprint': <function pprint at 0x00000287B34F4598>, '_i15': \"# dict()\\n# Returns a “associative memories” or “associative arrays”\\n# Using keyword arguments only\\ndict_keyword = dict(x=5, y=0)\\n\\n# Using Iterable\\ndict_iterable0 = dict([('x', 5), ('y', -5)], z=8)\\ndict_iterable1 = dict(list(zip(['x', 'y', 'z'], [1, 2, 3])))\\n\\n# Using Mapping\\ndict_mapping = dict({'x': 4, 'y': 5}, z=8)\\n\\nprint('dict_keyword =', dict_keyword)\\nprint('dict_iterable0 =', dict_iterable0)\\nprint('dict_iterable1 =', dict_iterable1)\\nprint('dict_mapping =', dict_mapping)\", 'dict_keyword': {'x': 5, 'y': 0}, 'dict_iterable0': {'x': 5, 'y': -5, 'z': 8}, 'dict_iterable1': {'x': 1, 'y': 2, 'z': 3}, 'dict_mapping': {'x': 4, 'y': 5, 'z': 8}, '_i16': '# dir()\\n# Returns a list of the specified object\\'s properties and methods\\nprint(dir(), \"\\\\n\")  # Without arguments, return the list of names in the current local scope.\\nprint(dir(set), \"\\\\n\")  # show the names in the set type \\nx = 2\\nprint(dir(x), \"\\\\n\")\\nprint(x.__abs__())', '_i17': '# divmod()\\n# Returns the quotient and the remainder when argument1 is divided by argument2\\nq, r = divmod(5, 2)\\nprint(\"q = {}, r = {}\".format(q, r))', 'q': 2, 'r': 1, '_i18': '# enumerate()\\n# Takes a collection (e.g. a tuple) and returns it as an enumerate object\\ndef my_enumerate(sequence, start=0):\\n    n = start\\n    for elem in sequence:\\n        yield n, elem\\n        n += 1\\nprint(enumerate([\"zero\", \"one\", \"two\"]))  # <generator object ...> due to \"yield\". Need to apply \"list()\"\\nprint(my_enumerate([\"zero\", \"one\", \"two\"]))\\nfor n, elem in my_enumerate([\"zero\", \"one\", \"two\"]):\\n    print(\"n = {}, elem = {}\".format(n, elem))\\n# Sort of map\\nprint(list(enumerate([\"zero\", \"one\", \"two\"], start=1)))', 'my_enumerate': <function my_enumerate at 0x00000287C5033730>, 'elem': 'two', '_i19': \"# eval()\\n# Evaluates and executes an expression\\n# Don't put input() inside an eval statement - eval(input()) - since input() can be os.system('rm -R *')\\nx = 2\\neval('x+1')\", '_19': 3, '_i20': '# exec()\\n# Executes the specified code (or string) - dynamic execution of Python code\\nx = \\'name = \"Simon\"\\\\nprint(name)\\'\\nexec(x)', 'name': 'Simon', '_i21': '# filter()\\n# Use a filter function to exclude items in an iterable object\\niterable = (0, 1, 2, 3)\\ndef function(x):\\n    return divmod(x, 2) == (1, 0)\\nprint(list(item for item in iterable if function(item)))', 'iterable': {'name': 'John', 'age': 23, 'sex': 'male'}, 'function': <function function at 0x00000287C504D1E0>, '_i22': \"# float()\\n# Returns a floating point number\\nprint(float('+1E2'))\\nprint(float('-Infinity'))\", '_i23': '# format()\\n# Formats a specified value\\nprint(\"{}\".format(255))  # a different function\\nprint(format(255, \\'x\\'))  # hexadecimal value\\nprint(format(255, \\'b\\'))  # Binary format\\nprint(format(0.5, \\'%\\'))  # percentage', '_i24': '# frozenset()\\n# Returns a immutable frozenset object initialized with elements from the given iterable.\\n# when you use dictionary as an iterable for a frozen set, it only takes key of the dictionary\\niterable = {\"name\": \"John\", \"age\": 23, \"sex\": \"male\"}\\nf_set = frozenset(iterable)  # like sets, it is not ordered\\nprint(\\'The frozen set is:\\', f_set)\\n# f_set[1] = \"Simon\"  # \\'frozenset\\' object does not support item assignment', 'f_set': frozenset({'age', 'sex', 'name'}), '_i25': '# getattr()\\n# Returns the value of the specified attribute (property or method)\\n# getattr(x, \\'foobar\\') is equivalent to x.foobar\\nx = 2\\nprint(getattr(x, \"real\"))\\nprint(x.real)', '_i26': \"# globals()\\n# Returns the current global symbol table as a dictionary\\nage = 18\\nprint(globals()['age'])\\n# Modify global variable using global()\\nglobals()['age'] = 25\\nprint('The age is:', age)\", 'age': 25, '_i27': '# hasattr()\\n# Returns True if the specified object has the specified attribute (property/method)\\nx = 2\\nprint(hasattr(x, \"numerator\"))  # data attribute\\nx = \"2\"\\nprint(hasattr(x, \"split\"))  # method', '_i28': \"# hash()\\n# Returns the hash value of a specified object\\n# hash for integer unchanged\\nprint('Hash for 181 is: {}'.format(hash(181)))\\n# hash for decimal\\nprint('Hash for 181.23 is: {}'.format(hash(181.23)))\\n# tuple of vowels\\nvowels = ('a', 'e', 'i', 'o', 'u')\\nprint('The hash is: {}'.format(hash(vowels)))\\n\\n# Comparison based on hash()\\nclass Person:\\n    def __init__(self, age, name):\\n        self.age = age\\n        self.name = name\\n\\n    def __eq__(self, other):\\n        return self.__hash__() == other.__hash__()\\n#         return self.age == other.age and self.name == other.name\\n\\n    def __hash__(self):\\n        return hash((self.age, self.name))\\nperson = Person(23, 'Adam')\\nother = Person(23, 'Adam')\\nprint(hash(person))\\nprint(person.__eq__(other))\", 'vowels': ('a', 'e', 'i', 'o', 'u'), 'person': <__main__.Person object at 0x00000287B6C90A90>, 'other': <__main__.Person object at 0x00000287B6C90AC8>, '_i29': '# help()\\n# If no argument is passed, Python\\'s help utility (interactive help system) starts on the console.\\n# enter \"quit\" to exit\\nprint(\"help\")\\nhelp()', '_i30': '# hex()\\n# Converts a number into a hexadecimal value\\nprint(hex(255))', '_i31': \"# id()\\n# Returns the id of an object\\n# CPython implementation detail: This is the address of the object in memory.\\nprint('id of 5 =',id(5))  #  integer 5 has a unique id.\\na = 5\\nprint('id of a =',id(a))\\nb = a\\nprint('id of b =',id(b))\\nb = b + 1\\nprint('id of new b =',id(b))\\nc = 5.0\\nprint('id of c =',id(c))  # float\", 'c': 5.0, '_i32': \"# input()\\n# Allowing user input\\n# get input from user\\ninputString = input('Enter a string:')\\nprint('The inputted string is:', inputString)\", 'inputString': '', '_i33': '# int()\\n# Returns an integer number\\nprint(int(-2.4))\\nprint(\"For 1010, int is:\", int(\\'1010\\', base=2))', '_i34': \"# isinstance()\\n# Returns True if a specified object is an instance of a specified object\\nnumbers = [1, 2, 3]\\nresult = isinstance(numbers, (dict, list))\\nprint(numbers,'instance of dict or list?', result)\", 'numbers': [1, 2, 3], 'result': True, '_i35': '# issubclass()\\n# Returns True if a specified class is a subclass of a specified object\\nprint(issubclass(int, (list, int)))', '_i36': '# iter()\\n# Returns an iterator object - creates an object which can be iterated one element at a time.\\n# If the second argument, sentinel, is given, then object must be a callable object\\nwith open(\\'README.md\\') as fp:  # read lines of a file until a certain line (empty character) is reached\\n    for line in iter(fp.readline, \"\"):  # iter(v, w): v must be callable\\n        print(line)\\n# Without a second argument, object must be\\n# -a collection object which supports the iteration protocol (the __iter__() method),\\n# -or must support the sequence protocol (the __getitem__() method with integer arguments starting at 0)\\nx = iter([\"apple\", \"banana\", \"cherry\"])  # Returns an iterator object - no sentinel\\nprint(next(x))\\nprint(next(x))\\nprint(next(x))', 'fp': <_io.TextIOWrapper name='README.md' mode='r' encoding='cp1252'>, 'line': '\\n', '_i37': '# len()\\n# Returns the length of an object\\n# with a sequence (string, bytes, tuple, list, or range)\\nprint(len(bytes(\"Simon\", \"utf-8\")))\\nprint(len(b\\'\\\\x01\\\\x02\\\\x03\\'))\\n\\n# or a collection (dictionary, set or frozen set)\\nfrozenTestSet = frozenset({1, 2})\\nprint(frozenTestSet, \\'length is\\', len(frozenTestSet))', 'frozenTestSet': frozenset({1, 2}), '_i38': '# list()\\n# Not a function, rather a mutable sequence type\\n# A sequence\\nprint(list((1, 2)))\\n# A collection\\nprint(list({\"1\": 2}))\\nprint(list(frozenset({1, 2})))\\n# An iterator object\\nx = iter([\"apple\", \"banana\", \"cherry\"])  # Returns an iterator object - no sentinel\\ny = enumerate([\"apple\", \"banana\", \"cherry\"])  # enumerate object\\nprint(list(x))\\nprint(list(y))', '_i39': '# locals()\\n# Returns an updated dictionary of the current local symbol table\\n# A symbol table is a data structure maintained by a compiler - local + global\\n# it contains all necessary information about the program.\\nx = locals()\\nprint(x[\"__name__\"])', '_i40': '# map()\\n# Returns an iterator that applies function to every item of iterable, yielding the results\\n# - the function to execute for each item can be defined with lambda\\n# - pass more than one iterable to the map() function.\\nx = map(lambda x, y: min(len(x), len(y)), (\\'nut\\', \\'banana\\', \\'pear\\'), (\\'orange\\', \\'lemon\\', \\'pineapple\\'))\\nprint(x)  # an iterator\\nprint(set(x))  # convert to set\\n\\n# make all elements of a list positive. \"abs\" is a function\\nmyList = [2,3,-3,-2]\\nprint(list(map(abs, myList)))', 'myList': [2, 3, -3, -2], '_i41': '# max()\\n# Returns the largest item in an iterable - \\nprint(max(set({0, 5, 2})))\\n# or the largest of two or more arguments\\nprint(max(0, -4))', '_i42': '# memoryview()\\n# Returns a memory view object. obj must support buffer protocol (bytes, bytearray) - unlike bytes/str\\n\\n# Buffer protocol allows one object to expose its internal data (buffers)\\n# and the other to access those buffers (memory array) without intermediate copying.\\n\\n# This protocol is only accessible to us at the C-API level and not using our normal code base.\\n# So, in order to expose the same protocol to normal Python code base, memory views are present.\\n\\n# whenever we perform some action on an object (call a function of an object, slice an array)\\n# we (or Python) need to create a copy of the object.\\n\\n# Using buffer protocol, we can give another object access to use/modify the large data without copying it\\nba = bytearray(bytes(\"Simon\", \"utf-8\"))\\nx = memoryview(ba)\\nprint(x)\\nprint(id(ba))  # what is the difference between id() and memoryview? They should both give memory address?\\n# id(): \"This is the address of the object in memory\".\\n# The “memory view” object is specially created from the given argument\\n\\n# We accessed the mv\\'s 0th index (\\'A\\') and printed it (which gives the ASCII value - 75).\\nprint(x[0])\\n\\n# Since, the memory view object x references the same buffer/memory\\n# updating the index in x also updates randomByteArray.\\nx[1] = 79  # need to be a bytearray - otherwise, with immutable bytes, \"cannot modify read-only memory\"\\nprint(ba)', 'ba': bytearray(b'SOmon'), '_i43': \"# min()\\n# Returns the smallest item in an iterable\\nnum = [15, 300, 2700, 821]\\nnum1 = [12, 2]\\nnum2 = [34, 567, 78]\\n\\n# using min(iterable, *iterables, key)\\nprint('Minimum is:', min(num, num1, num2, key=len))\", 'num': [15, 300, 2700, 821], 'num1': [12, 2], 'num2': [34, 567, 78], '_i44': \"# next()\\n# Returns the next item in an iterable\\n# Return a default value when the iterable has reached to its end:\\n\\n# A list is an iterable and you can get iterator from it by using iter() function in Python.\\nrandom = [5, 9, 'cat']\\nrandomIterator = iter(random)  # iterator object\\nprint(randomIterator)\\n\\n# Output: 5\\nprint(next(randomIterator, '-1'))\\n\\n# Output: 9\\nprint(next(randomIterator, '-1'))\\n\\n# randomIterator is exhausted\\n# Output: '-1'\\nprint(next(randomIterator, '-1'))\\nprint(next(randomIterator, '-1'))\", 'random': [(2, 2), (3, 4), (4, 1), (1, 3)], 'randomIterator': <list_iterator object at 0x00000287B6D132E8>, '_i45': '# object()\\n# Returns a new featureless object\\n# object is a base for all classes - You cannot add new properties or methods to this object\\ntest = object()\\n\\nprint(type(test))\\nprint(dir(test))  # all attributes\\n# object does not have a __dict__,\\n# so you can’t assign arbitrary attributes to an instance of the object class.', 'test': <object object at 0x00000287B5816410>, '_i46': \"# oct()\\n# Converts a number into an octal\\nprint(oct(-56))\\nprint('%#o' % 10, '%o' % 10)\\nprint(f'{10:#o}', f'{10:o}')\\nprint(format(10, '#o'), format(10, 'o'))\", '_i47': '# open()\\n# Opens a file and returns a file object\\n# Python has a encoding system which is platform dependent.\\nf = open(\"README.md\", mode = \\'r\\', encoding=\\'utf-8\\')\\n# Use \\'b\\' mode, to read/write binary data as is without any transformations such as converting newlines\\n# to/from platform-specific values or decoding/encoding text using a character encoding.\\n# >>> with open(\\'eggs.csv\\', \\'rb\\') as csvfile:', 'f': <_io.TextIOWrapper name='README.md' mode='r' encoding='utf-8'>, '_i48': \"# ord()\\n# Convert an integer representing the Unicode of the specified character\\nord('€') # returns 8364\\n# inverse of chr()\", '_48': 8364, '_i49': '# pow()\\n# Returns the value of x to the power of y\\nprint(pow(2, 3))\\n# equivalent to x**y\\nprint(pow(10, -2))', '_i50': '# print()\\n# Print OBJECTS to the text stream file, separated by sep and followed by end\\n# The file argument must be an object with a write(string) method\\n#   if it is not present or None, sys.stdout will be used - standard output device (screen).\\nprint(\"Letter\", \"P\", sep=\" --- \")\\n# Since printed arguments are converted to text strings,\\n#   print() cannot be used with binary mode file objects.', '_i51': '# property()\\n# Gets, sets, deletes a property value\\n\\n# The @property decorator turns the voltage() method into a “getter” for a read-only attribute\\n# with the same name, and it sets the docstring for voltage to “Get the current voltage.”\\nclass Parrot:\\n    def __init__(self):\\n        self._voltage = 100000\\n\\n    @property  # function decorator\\n    def voltage(self):\\n        \"\"\"Get the current voltage.\"\"\"\\n        return self._voltage\\n    \\n    @voltage.setter\\n    def voltage(self, value):\\n        self._voltage = value\\n\\n    @voltage.deleter\\n    def voltage(self):\\n        del self._voltage\\n# equivalent to\\n# voltage = property(get_voltage, set_voltage, del_voltage, \"I\\'m the \\'voltage\\' property.\")\\nParrot.voltage.__doc__\\nparrot = Parrot()\\nprint(parrot.voltage)\\nparrot.voltage = 10\\nprint(parrot.voltage)', 'Parrot': <class '__main__.Parrot'>, 'parrot': <__main__.Parrot object at 0x00000287C50534E0>, '_i52': \"# range()\\n# Rather than being a function, range is actually an immutable sequence type\\nx = range(10, 2, -1)\\n# x[1] = 2 - range(10, 2, -1) is immutable - 'range' object does not support item assignment\\n# use list() on it\\ny = list(x)\\ny[1] = 2\\nprint(y)\", '_i53': \"# repr()\\n# Returns a printable representation of the given object.\\n# It returns a string that would yield an object with the same value when passed to eval().\\nx = 'Simon'\\nprint(repr(x))\\ny = eval(repr(x)) # (approximation that holds true for most of built-in types)\\nprint(y)\\n\\nclass Person:\\n    name = 'Simon'\\n    def __repr__(self):\\n        return repr(self.name)\\nrepr(Person())\", '_53': \"'Simon'\", '_i54': '# reversed()\\n# Returns a reversed iterator.\\n# Work with objects\\n# - that have implemented __reversed__()\\n# - or support sequence protocol (__len__() and __getitem__()) as tuple, string, list or range\\n# remember :\\n# - iter() function returns an iterator object\\n# - list.reverse() method reverses a List.\\nnms = [\"n\", \"m\", \"s\"]  # or range(5, 9)\\nsmn = reversed(nms)  # an iterator - convert it with list(reversed(seq))\\nfor x in smn:\\n    print(x)', 'nms': ['n', 'm', 's'], 'smn': <list_reverseiterator object at 0x00000287C5070278>, '_i55': '# round()\\n# Returns the floating point number rounded off to the given ndigits digits after the decimal point.\\nprint(round(5.9))', '_i56': \"# set()\\n# Returns a new set object\\n# difference with list():\\n# - In a set you can only have one instances of a member.\\n# - The order of the elements is unknown,\\n# - x in a_set works in O(1) [O(len(list)) for list]. List length does not affect this query\\n# - __eq__ and __hash__ have to be defined to add object to a set()\\n# -- s.add([0]) unhashable type: 'list'\\n# -- hashable means could be used for dictionary key. Since list are mutable, they cannot. Unlike tuples\\n\\nprint(set(range(5)))\\n# for set\\nprint(set({'a', 'e', 'i', 'o', 'u'}))\\n# from dictionary\\nprint(set({'a':1, 'e': 2, 'i':3, 'o':4, 'u':5}))\\n# from frozen set\\nfrozenSet = frozenset(('a', 'e', 'i', 'o', 'u'))\\nprint(set(frozenSet))\", 'frozenSet': frozenset({'u', 'a', 'i', 'o', 'e'}), '_i57': \"# setattr()\\n# Sets an attribute (property/method) of an object\\nclass Person:\\n    name = 'Simon'\\np = Person()\\n# setting attribute name to None\\nsetattr(p, 'name', None)\\nprint('Name is:', p.name)\\n\\n# setting an attribute not present - it creates one\\nsetattr(p, 'age', 23)\\nprint('Age is:', p.age)\", 'p': Point(x=11, y=22), '_i58': '# slice()\\n# Returns a slice object\\n# The slice object is used to slice a given sequence (string, bytes, tuple, list or range)\\n# or any object which supports sequence protocol (implements __getitem__() and __len__() method).\\na = (\"a\", \"b\", \"c\", \"d\", \"e\", \"f\", \"g\", \"h\")\\n# Use the step parameter to return every third item\\nx = slice(0, 8, 3) # returns a slice object\\nprint(a[x])', '_i59': \"# sorted()\\n# Returns a sorted list\\n# string \\npyString = 'Python'\\nprint(sorted(pyString))\\n\\n# set\\npySet = {'e', 'a', 'u', 'o', 'i'}\\nprint(sorted(pySet, reverse=True))\\n\\n# dictionary\\npyDict = {'e': 1, 'a': 2, 'u': 3, 'o': 4, 'i': 5}\\nprint(sorted(pyDict, reverse=True))\\n\\n# frozen set\\npyFSet = frozenset(('e', 'a', 'u', 'o', 'i'))\\nprint(sorted(pyFSet, reverse=True))\\n\\n# take second element for sort\\ndef takeSecond(elem):\\n    return elem[1]\\n# random list\\nrandom = [(2, 2), (3, 4), (4, 1), (1, 3)]\\n# sort list with key\\nsortedList = sorted(random, key=takeSecond)\\n# print list\\nprint('Sorted list:', sortedList)\", 'pyString': 'Python', 'pySet': {'u', 'a', 'i', 'o', 'e'}, 'pyDict': {'e': 1, 'a': 2, 'u': 3, 'o': 4, 'i': 5}, 'pyFSet': frozenset({'u', 'a', 'i', 'o', 'e'}), 'takeSecond': <function takeSecond at 0x00000287C504DC80>, 'sortedList': [(4, 1), (2, 2), (1, 3), (3, 4)], '_i60': '# @staticmethod()\\n# Converts a method into a static method - function decorator\\n# It can be called either on the class (such as C.f()) or on an instance (such as C().f()).\\nclass C:\\n    builtin_open = staticmethod(open)', 'C': <class '__main__.C'>, '_i61': \"# str()\\n# Return a str version of object\\nprint(str(int))\\n# If encoding and errors parameter is provided,\\n#   the first parameter (object) should be a bytes-like-object (bytes or bytearray).\\n# bytes\\nb = bytes('pythön', encoding='utf-8')\\nprint(str(b, encoding='ascii', errors='ignore'))\", '_i62': \"# sum()\\n# Sums the items of an iterator\\na = (1, 2, 3, 4, 5)\\nx = sum(a, 7)  # start with 7\\nprint(x)\\n# For some use cases, there are good alternatives to sum().\\ntest = {'Python', 'Java', 'Ruby'}\\ns = '->->'\\nprint(s.join(test))\", '_i63': \"# tuple()\\n# Returns a tuple - immutable\\nt = tuple()\\n# t.add([0]) immutable - 'tuple' object has no attribute 'add'\\n\\n# Differences with set / list\\n# - Tuples are heterogeneous data structures (i.e., their entries have different meanings)\\n# -- e.g. (page, line) to classify lines in a book\\n# -- You can then use this as a key in a dictionary to store notes on locations.\\n# -- Named tuples assign meaning to each position in a tuple. Light-weight alternative to classes \\nfrom collections import namedtuple\\nPoint = namedtuple('Point', ['x', 'y'])\\np = Point(11, y=22)     # instantiate with positional or keyword arguments\\np[0] + p[1]             # indexable like the plain tuple (11, 22)\", 't': (), 'namedtuple': <function namedtuple at 0x00000287B2E6C7B8>, 'Point': <class '__main__.Point'>, '_63': 33, '_i64': '# type()\\n# Returns the type of an object\\n# Prefer isinstance() to check type of an object\\n# It is generally the same object as returned by object.__class__.\\nx = {\"s\"}\\nprint(x.__class__)\\nprint(type(x))\\n\\n# Create a type object Using type()\\no1 = type(\\'X\\', (object,), dict(a=\\'Foo\\', b=12))  # \"object\" or the name of a class\\nprint(type(o1))\\nprint(vars(o1))', 'o1': <class '__main__.X'>, '_i65': '# vars()\\n# Returns the __dict__ property of an object\\n# If no argument is passed to vars(), this function acts like locals() function.\\nclass Foo:\\n    def __init__(self, a = 5, b = 10):\\n        self.a = a\\n        self.b = b\\nInstanceOfFoo = Foo()\\nprint(vars(InstanceOfFoo))\\nprint(InstanceOfFoo.__dict__)\\n\\nprint(vars())\\nprint(locals())', 'Foo': <class '__main__.Foo'>, 'InstanceOfFoo': <__main__.Foo object at 0x00000287B6C90E10>}\n"
     ]
    }
   ],
   "source": [
    "# vars()\n",
    "# Returns the __dict__ property of an object\n",
    "# If no argument is passed to vars(), this function acts like locals() function.\n",
    "class Foo:\n",
    "    def __init__(self, a = 5, b = 10):\n",
    "        self.a = a\n",
    "        self.b = b\n",
    "InstanceOfFoo = Foo()\n",
    "print(vars(InstanceOfFoo))\n",
    "print(InstanceOfFoo.__dict__)\n",
    "\n",
    "print(vars())\n",
    "print(locals())"
   ]
  },
  {
   "cell_type": "code",
   "execution_count": 66,
   "metadata": {},
   "outputs": [
    {
     "name": "stdout",
     "output_type": "stream",
     "text": [
      "[(1, 'a'), (2, 'b')]\n",
      "list(iter(it0)) = ['A', 'B', 'C', 'D']\n",
      "[<str_iterator object at 0x00000287C507BDA0>, <str_iterator object at 0x00000287C507BDD8>]\n",
      "append(elem) = A\n",
      "append(elem) = x\n",
      "tuple(result) = ('A', 'x')\n",
      "append(elem) = B\n",
      "append(elem) = y\n",
      "tuple(result) = ('B', 'y')\n",
      "append(elem) = C\n",
      "[('A', 'x'), ('B', 'y')]\n"
     ]
    }
   ],
   "source": [
    "# zip()\n",
    "# Makes an iterator of tuples that aggregates elements from each of the iterables.\n",
    "\n",
    "# zip() should only be used with unequal length inputs when you don’t care about trailing\n",
    "x = [1, 2, 3, 4]\n",
    "y = [\"a\", \"b\"]\n",
    "zipped = zip(x, y)\n",
    "print(list(zipped))\n",
    "\n",
    "# uses iterables objects (like: list, string, dict) user-defined iterables (object with  __iter__ method)\n",
    "def my_zip(*iterables):\n",
    "    # zip('ABCD', 'xy') --> Ax By\n",
    "    sentinel = object()\n",
    "    print(\"list(iter(it0)) = {}\".format(list(iter(iterables[0]))))\n",
    "    iterators = [iter(it) for it in iterables]\n",
    "    print(iterators)\n",
    "    while iterators:\n",
    "        result = []\n",
    "        for it in iterators:\n",
    "            elem = next(it, sentinel)\n",
    "            if elem is sentinel:  # detect end on one of the iterators\n",
    "                # return statement terminates a function entirely\n",
    "                return  # nothing? Yield statement instead of a return statement. \n",
    "            print(\"append(elem) = {}\".format(elem))\n",
    "            result.append(elem)\n",
    "        print(\"tuple(result) = {}\".format(tuple(result)))\n",
    "        yield tuple(result)  # Returns an iterator of tuples\n",
    "        # yield statement pauses the function saving all its states \n",
    "        # and later continues from there on successive calls\n",
    "\n",
    "# To create iterator, implementing a class with __iter__() and __next__() + StopIteration is complex\n",
    "# Sol: use a Generator function - simple way of creating iterators\n",
    "# Methods like __iter__() and __next__() are implemented automatically.\n",
    "# So we can iterate through the items using next().\n",
    "# When the function terminates, StopIteration is raised automatically on further calls\n",
    "# Since we use yield, my_zip is a Generator function. It returns an object (iterator)\n",
    "print(list(my_zip('ABCD', 'xy')))"
   ]
  },
  {
   "cell_type": "code",
   "execution_count": 67,
   "metadata": {},
   "outputs": [
    {
     "name": "stdout",
     "output_type": "stream",
     "text": [
      "This is printed first\n",
      "This is printed second\n",
      "This is printed at last\n",
      "100\n"
     ]
    }
   ],
   "source": [
    "# A simple generator function\n",
    "def my_gen():\n",
    "    n = 1\n",
    "    print('This is printed first')\n",
    "    # Generator function contains yield statements\n",
    "    yield n\n",
    "\n",
    "    n += 1\n",
    "    print('This is printed second')\n",
    "    yield n\n",
    "\n",
    "    n += 1\n",
    "    print('This is printed at last')\n",
    "    yield n\n",
    "a = my_gen()\n",
    "next(a)\n",
    "# Important points:\n",
    "# - the value of variable n is remembered between each call\n",
    "# - Unlike normal functions, the local variables are not destroyed when the function yields.\n",
    "# - Furthermore, the generator object can be iterated only once.\n",
    "next(a)\n",
    "next(a)\n",
    "# Usually, generator functions are implemented with a loop\n",
    "\n",
    "# Generator Expression\n",
    "# Same as lambda function creates an anonymous function,\n",
    "# generator expression creates an anonymous generator function.\n",
    "# similar to that of a list comprehension\n",
    "my_list = [1, 3, 6, 10]\n",
    "# square each term using list comprehension\n",
    "[x**2 for x in my_list] # Output: [1, 9, 36, 100]\n",
    "# same thing can be done using generator expression\n",
    "(x**2 for x in my_list) # Output: <generator object <genexpr> at 0x0000000002EBDAF8>\n",
    "\n",
    "# Advantages\n",
    "# - Simplicity\n",
    "# -- They are kind of lazy, producing items only when asked for\n",
    "# - Hence , a generator expression is much more memory efficient than an equivalent list comprehension.\n",
    "# -- Normal function to return a sequence create the entire sequence in memory before returning the result\n",
    "# - Generators are excellent medium to represent an infinite stream of data\n",
    "# - Generators can be used to pipeline a series of operations - \n",
    "# -- keeps track of the number of pizza sold every hour and sum it to find the total pizzas sold in 5 years\n",
    "# Use Generator expression inside functions\n",
    "print(max(x**2 for x in my_list))"
   ]
  },
  {
   "cell_type": "markdown",
   "metadata": {},
   "source": [
    "Future work\n",
    "-    implement examples for the terminology of https://docs.python.org/3/glossary.html"
   ]
  },
  {
   "cell_type": "code",
   "execution_count": 68,
   "metadata": {
    "collapsed": true
   },
   "outputs": [],
   "source": [
    "# Why using headers # -*- coding: utf-8 -*-\n",
    "# Telling Python the encoding of your source file - how the interpreter reads the characters in this file\n",
    "# ASCII = default for Python 2 - problem when asking print 'ă'\n",
    "# UTF-8 = default for Python 3"
   ]
  },
  {
   "cell_type": "code",
   "execution_count": null,
   "metadata": {
    "collapsed": true
   },
   "outputs": [],
   "source": []
  }
 ],
 "metadata": {
  "kernelspec": {
   "display_name": "Python 3",
   "language": "python",
   "name": "python3"
  },
  "language_info": {
   "codemirror_mode": {
    "name": "ipython",
    "version": 3
   },
   "file_extension": ".py",
   "mimetype": "text/x-python",
   "name": "python",
   "nbconvert_exporter": "python",
   "pygments_lexer": "ipython3",
   "version": "3.6.3"
  }
 },
 "nbformat": 4,
 "nbformat_minor": 2
}
